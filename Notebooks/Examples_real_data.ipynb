{
 "cells": [
  {
   "cell_type": "markdown",
   "id": "eebf9b02",
   "metadata": {},
   "source": [
    "# Notebook 2\n",
    "In this notebook, we present the functions used to create Figure 4 in the article **TDA captures HGT in AMR gene families among clinically relevant bacteria**.\n",
    "## Import libraries"
   ]
  },
  {
   "cell_type": "code",
   "execution_count": 2,
   "id": "44278830",
   "metadata": {},
   "outputs": [],
   "source": [
    "import numpy as np\n",
    "import pandas as pd\n",
    "import seaborn as sns\n",
    "import matplotlib.pyplot as plt\n",
    "from scipy.cluster.hierarchy import dendrogram, linkage\n",
    "import gudhi as gd\n",
    "from scipy.spatial.distance import hamming\n",
    "import kaleido\n",
    "import plotly.graph_objs as go\n",
    "import networkx as nx\n",
    "import plotly.graph_objects as go\n",
    "import plotly.io as pio\n",
    "plt.rcParams['font.sans-serif'] = ['Liberation Sans']"
   ]
  },
  {
   "cell_type": "markdown",
   "id": "83d0599d",
   "metadata": {},
   "source": [
    "## Define functions\n",
    "These functions calculate a Hamming distance matrix from an array where the columns are genes and the rows are genomes."
   ]
  },
  {
   "cell_type": "code",
   "execution_count": 3,
   "id": "33254e37",
   "metadata": {},
   "outputs": [],
   "source": [
    "# Let's assume that \"population\" is a numpy ndarray with your genomes as rows.\n",
    "def calculate_hamming_matrix(population):\n",
    "    # Number of genomes\n",
    "    num_genomes = population.shape[0]\n",
    "    # Create an empty matrix for Hamming distances\n",
    "    hamming_matrix = np.zeros((num_genomes, num_genomes), dtype=int)\n",
    "   # Calculate the Hamming distance between each pair of genomes\n",
    "    for i in range(num_genomes):\n",
    "        for j in range(i+1, num_genomes):  # j=i+1 to avoid calculating the same distance twice\n",
    "            # The Hamming distance is multiplied by the number of genes to convert it into an absolute distance\n",
    "            distance = hamming(population[i], population[j]) * len(population[i])\n",
    "            hamming_matrix[i, j] = distance\n",
    "            hamming_matrix[j, i] = distance  # The matrix is symmetric\n",
    "    \n",
    "    return hamming_matrix\n",
    "# Assuming that \"population\" is a NumPy ndarray with your genomes as rows\n",
    "def calculate_normalized_hamming_matrix(population):\n",
    "    num_genomes = population.shape[0]\n",
    "    num_genes = population.shape[1]\n",
    "    hamming_matrix = np.zeros((num_genomes, num_genomes), dtype=float)\n",
    "    \n",
    "    for i in range(num_genomes):\n",
    "        for j in range(i+1, num_genomes):  # It's not necessary to calculate when i == j\n",
    "            # The sum of boolean comparisons will give the total number of differences\n",
    "            distance = np.sum(population[i] != population[j]) / num_genes\n",
    "            hamming_matrix[i, j] = distance\n",
    "            hamming_matrix[j, i] = distance  # Taking advantage of symmetry\n",
    "    \n",
    "    return hamming_matrix\n",
    "\n"
   ]
  },
  {
   "cell_type": "markdown",
   "id": "eeb6adac",
   "metadata": {},
   "source": [
    "The 'create_complex' function generates a 3-dimensional Rips simplicial complex and computes persistent homology from a distance matrix."
   ]
  },
  {
   "cell_type": "code",
   "execution_count": 4,
   "id": "7d25300e",
   "metadata": {},
   "outputs": [],
   "source": [
    "def create_complex(distance_matrix):\n",
    "    # Create the Rips simplicial complex from the distance matrix\n",
    "    rips_complex = gd.RipsComplex(distance_matrix=distance_matrix)\n",
    "    # Create the simplex tree from the Rips complex with a maximum dimension of 3\n",
    "    simplex_tree = rips_complex.create_simplex_tree(max_dimension=3)\n",
    "    # Compute the persistence of the simplicial complex\n",
    "    persistence = simplex_tree.persistence()\n",
    "    # Return the persistence diagram or barcode\n",
    "    return persistence, simplex_tree\n",
    "#### Function for visualization\n",
    "def plot_dendrogram(data):\n",
    "    \"\"\"Plot a dendrogram from the data.\"\"\"\n",
    "    linked = linkage(data, 'single')\n",
    "    dendrogram(linked, orientation='top', distance_sort='descending')\n",
    "    plt.show()\n"
   ]
  },
  {
   "cell_type": "markdown",
   "id": "253d38e9",
   "metadata": {},
   "source": [
    "The visualize_simplicial_complex function creates a graphical representation of a simplicial complex for a given filtration level, based on a simplex tree."
   ]
  },
  {
   "cell_type": "code",
   "execution_count": 18,
   "id": "d815df9d",
   "metadata": {},
   "outputs": [],
   "source": [
    "\n",
    "\n",
    "def visualize_simplicial_complex(simplex_tree, filtration_value, vertex_names=None, save_filename=None, plot_size=1, dpi=600):\n",
    "    G = nx.Graph()\n",
    "    triangles = []\n",
    "    color_map = plt.get_cmap('coolwarm')\n",
    "\n",
    "    # Create a dictionary to map simplices to colors based on their filtration values\n",
    "    simplex_colors = {}\n",
    "    max_filtration = max(filt for _, filt in simplex_tree.get_filtration() if filt <= filtration_value)\n",
    "\n",
    "    for simplex, filt in simplex_tree.get_filtration():\n",
    "        if filt <= filtration_value:\n",
    "            # Normalize the filtration value and get the corresponding color\n",
    "            normalized_value = filt / max_filtration\n",
    "            color = color_map(normalized_value)\n",
    "            rgba_color = 'rgba({}, {}, {}, {})'.format(int(color[0]*255), int(color[1]*255), int(color[2]*255), color[3])\n",
    "            simplex_colors[tuple(simplex)] = rgba_color\n",
    "\n",
    "            # Add nodes and edges/triangles to the graph\n",
    "            if len(simplex) == 2:\n",
    "                G.add_edge(simplex[0], simplex[1])\n",
    "            elif len(simplex) == 1:\n",
    "                G.add_node(simplex[0])\n",
    "            elif len(simplex) == 3:\n",
    "                triangles.append(simplex)\n",
    "\n",
    "    # Position nodes using NetworkX's spring layout\n",
    "    pos = nx.spring_layout(G)\n",
    "\n",
    "    # Node trace\n",
    "    x_values = [pos[key][0] for key in pos]\n",
    "    y_values = [pos[key][1] for key in pos]\n",
    "    node_labels = [vertex_names[node] if vertex_names else node for node in pos]\n",
    "    #node_trace = go.Scatter(x=x_values, y=y_values, mode='markers+text', hoverinfo=\"text\", marker=dict(size=10), text=node_labels, textposition='top center')\n",
    "    node_trace = go.Scatter(x=x_values, y=y_values, mode='markers+text', hoverinfo=\"text\",marker=dict(size=14), text=node_labels, textposition='top center', textfont=dict(size=14))\n",
    "\n",
    "    \n",
    "    # Edge traces\n",
    "    edge_traces = []\n",
    "    for edge in G.edges():\n",
    "        x0, y0 = pos[edge[0]]\n",
    "        x1, y1 = pos[edge[1]]\n",
    "        color = simplex_colors.get(edge, 'rgba(0, 0, 0, 0.5)')  # Default color if edge not in simplex_colors\n",
    "        edge_trace = go.Scatter(x=[x0, x1, None], y=[y0, y1, None], mode='lines', line=dict(width=3, color=color))\n",
    "        edge_traces.append(edge_trace)\n",
    "\n",
    "        # Triangle traces\n",
    "    triangle_traces = []\n",
    "    for triangle in triangles:\n",
    "        x0, y0 = pos[triangle[0]]\n",
    "        x1, y1 = pos[triangle[1]]\n",
    "        x2, y2 = pos[triangle[2]]\n",
    "    # Utilizando el nuevo color RGBA para los triángulos\n",
    "        color = 'rgba(244, 157, 126, 0.545)'  # Color #F49D7E en formato RGBA\n",
    "        triangle_trace = go.Scatter(x=[x0, x1, x2, x0, None], y=[y0, y1, y2, y0, None], fill='toself', mode='lines', line=dict(width=3), fillcolor=color)\n",
    "        triangle_traces.append(triangle_trace)\n",
    "\n",
    "    # Combine all traces and create the figure\n",
    "\n",
    "    layout = go.Layout(showlegend=False, hovermode='closest', xaxis=dict(showgrid=False, zeroline=False,tickfont=dict(size=16, family='Arial, sans-serif') ), yaxis=dict(showgrid=False, zeroline=False,tickfont=dict(size=16, family='Arial, sans-serif')))\n",
    "\n",
    "    fig = go.Figure(data=edge_traces + triangle_traces + [node_trace], layout=layout)\n",
    "\n",
    "    # Set the figure size\n",
    "    fig.update_layout(width=plot_size * dpi, height=plot_size * dpi)\n",
    "\n",
    "    # Save the figure if a filename is provided\n",
    "    if save_filename:\n",
    "        pio.write_image(fig, save_filename, width=plot_size * dpi, height=plot_size * dpi, scale=1)\n",
    "\n",
    "    # Show the figure\n",
    "    fig.show()\n",
    "\n",
    "    return G\n"
   ]
  },
  {
   "cell_type": "markdown",
   "id": "c9c334fe",
   "metadata": {},
   "source": [
    "## Import data\n",
    "We imported the gene count table for the *Escherichia* and *Klebsiella* strains referenced in our work.\n"
   ]
  },
  {
   "cell_type": "code",
   "execution_count": 6,
   "id": "434b0ab9",
   "metadata": {},
   "outputs": [
    {
     "data": {
      "text/html": [
       "<div>\n",
       "<style scoped>\n",
       "    .dataframe tbody tr th:only-of-type {\n",
       "        vertical-align: middle;\n",
       "    }\n",
       "\n",
       "    .dataframe tbody tr th {\n",
       "        vertical-align: top;\n",
       "    }\n",
       "\n",
       "    .dataframe thead th {\n",
       "        text-align: right;\n",
       "    }\n",
       "</style>\n",
       "<table border=\"1\" class=\"dataframe\">\n",
       "  <thead>\n",
       "    <tr style=\"text-align: right;\">\n",
       "      <th></th>\n",
       "      <th>Taxonomy</th>\n",
       "      <th>RefSeq</th>\n",
       "      <th>UPF0758 protein YeeS (PGF_00064380)</th>\n",
       "      <th>Uncharacterized protein YeeT (PGF_00065498)</th>\n",
       "      <th>YeeU protein (antitoxin to YeeV) (PGF_00067294)</th>\n",
       "      <th>YeeV toxin protein (PGF_00067296)</th>\n",
       "      <th>hypothetical protein (PGF_08225224)</th>\n",
       "      <th>Mobile element protein (PGF_01000105)</th>\n",
       "      <th>Z1226 protein (PGF_00067424)</th>\n",
       "      <th>hypothetical protein (PGF_00111192)</th>\n",
       "      <th>...</th>\n",
       "      <th>hypothetical protein (PGF_04250059)</th>\n",
       "      <th>hypothetical protein (PGF_03025936)</th>\n",
       "      <th>hypothetical protein (PGF_00095896)</th>\n",
       "      <th>hypothetical protein (PGF_06336094)</th>\n",
       "      <th>Conjugal transfer protein traA (PGF_02995735)</th>\n",
       "      <th>hypothetical protein (PGF_05449663)</th>\n",
       "      <th>hypothetical protein (PGF_00284742)</th>\n",
       "      <th>hypothetical protein (PGF_05076506)</th>\n",
       "      <th>hypothetical protein (PGF_03326581)</th>\n",
       "      <th>hypothetical protein (PGF_05267434)</th>\n",
       "    </tr>\n",
       "    <tr>\n",
       "      <th>Strain</th>\n",
       "      <th></th>\n",
       "      <th></th>\n",
       "      <th></th>\n",
       "      <th></th>\n",
       "      <th></th>\n",
       "      <th></th>\n",
       "      <th></th>\n",
       "      <th></th>\n",
       "      <th></th>\n",
       "      <th></th>\n",
       "      <th></th>\n",
       "      <th></th>\n",
       "      <th></th>\n",
       "      <th></th>\n",
       "      <th></th>\n",
       "      <th></th>\n",
       "      <th></th>\n",
       "      <th></th>\n",
       "      <th></th>\n",
       "      <th></th>\n",
       "      <th></th>\n",
       "    </tr>\n",
       "  </thead>\n",
       "  <tbody>\n",
       "    <tr>\n",
       "      <th>EC00690</th>\n",
       "      <td>Escherichia coli</td>\n",
       "      <td>GCF_012952545.1</td>\n",
       "      <td>4</td>\n",
       "      <td>4</td>\n",
       "      <td>4</td>\n",
       "      <td>4</td>\n",
       "      <td>193</td>\n",
       "      <td>63</td>\n",
       "      <td>3</td>\n",
       "      <td>0</td>\n",
       "      <td>...</td>\n",
       "      <td>0</td>\n",
       "      <td>0</td>\n",
       "      <td>0</td>\n",
       "      <td>0</td>\n",
       "      <td>0</td>\n",
       "      <td>0</td>\n",
       "      <td>0</td>\n",
       "      <td>0</td>\n",
       "      <td>0</td>\n",
       "      <td>0</td>\n",
       "    </tr>\n",
       "    <tr>\n",
       "      <th>EC00668</th>\n",
       "      <td>Escherichia coli</td>\n",
       "      <td>GCF_012952605.1</td>\n",
       "      <td>3</td>\n",
       "      <td>3</td>\n",
       "      <td>3</td>\n",
       "      <td>2</td>\n",
       "      <td>164</td>\n",
       "      <td>49</td>\n",
       "      <td>1</td>\n",
       "      <td>0</td>\n",
       "      <td>...</td>\n",
       "      <td>0</td>\n",
       "      <td>0</td>\n",
       "      <td>0</td>\n",
       "      <td>0</td>\n",
       "      <td>0</td>\n",
       "      <td>0</td>\n",
       "      <td>0</td>\n",
       "      <td>0</td>\n",
       "      <td>0</td>\n",
       "      <td>0</td>\n",
       "    </tr>\n",
       "    <tr>\n",
       "      <th>EC00609</th>\n",
       "      <td>Escherichia coli</td>\n",
       "      <td>GCF_012952615.1</td>\n",
       "      <td>7</td>\n",
       "      <td>6</td>\n",
       "      <td>5</td>\n",
       "      <td>5</td>\n",
       "      <td>189</td>\n",
       "      <td>66</td>\n",
       "      <td>4</td>\n",
       "      <td>0</td>\n",
       "      <td>...</td>\n",
       "      <td>0</td>\n",
       "      <td>0</td>\n",
       "      <td>0</td>\n",
       "      <td>0</td>\n",
       "      <td>0</td>\n",
       "      <td>0</td>\n",
       "      <td>0</td>\n",
       "      <td>0</td>\n",
       "      <td>0</td>\n",
       "      <td>0</td>\n",
       "    </tr>\n",
       "    <tr>\n",
       "      <th>EC00701</th>\n",
       "      <td>Escherichia coli</td>\n",
       "      <td>GCF_012952535.1</td>\n",
       "      <td>3</td>\n",
       "      <td>3</td>\n",
       "      <td>4</td>\n",
       "      <td>3</td>\n",
       "      <td>181</td>\n",
       "      <td>58</td>\n",
       "      <td>2</td>\n",
       "      <td>0</td>\n",
       "      <td>...</td>\n",
       "      <td>0</td>\n",
       "      <td>0</td>\n",
       "      <td>0</td>\n",
       "      <td>0</td>\n",
       "      <td>0</td>\n",
       "      <td>0</td>\n",
       "      <td>0</td>\n",
       "      <td>0</td>\n",
       "      <td>0</td>\n",
       "      <td>0</td>\n",
       "    </tr>\n",
       "    <tr>\n",
       "      <th>EC00678</th>\n",
       "      <td>Escherichia coli</td>\n",
       "      <td>GCF_012952555.1</td>\n",
       "      <td>6</td>\n",
       "      <td>6</td>\n",
       "      <td>6</td>\n",
       "      <td>5</td>\n",
       "      <td>142</td>\n",
       "      <td>20</td>\n",
       "      <td>4</td>\n",
       "      <td>2</td>\n",
       "      <td>...</td>\n",
       "      <td>0</td>\n",
       "      <td>0</td>\n",
       "      <td>0</td>\n",
       "      <td>0</td>\n",
       "      <td>0</td>\n",
       "      <td>0</td>\n",
       "      <td>0</td>\n",
       "      <td>0</td>\n",
       "      <td>0</td>\n",
       "      <td>0</td>\n",
       "    </tr>\n",
       "    <tr>\n",
       "      <th>KLP00215</th>\n",
       "      <td>Klebsiella pneumoniae</td>\n",
       "      <td>GCF_012952415.1</td>\n",
       "      <td>0</td>\n",
       "      <td>0</td>\n",
       "      <td>0</td>\n",
       "      <td>0</td>\n",
       "      <td>221</td>\n",
       "      <td>21</td>\n",
       "      <td>0</td>\n",
       "      <td>0</td>\n",
       "      <td>...</td>\n",
       "      <td>0</td>\n",
       "      <td>0</td>\n",
       "      <td>0</td>\n",
       "      <td>0</td>\n",
       "      <td>0</td>\n",
       "      <td>0</td>\n",
       "      <td>0</td>\n",
       "      <td>0</td>\n",
       "      <td>0</td>\n",
       "      <td>0</td>\n",
       "    </tr>\n",
       "    <tr>\n",
       "      <th>KLP00221</th>\n",
       "      <td>Klebsiella pneumoniae</td>\n",
       "      <td>GCF_012952335.1</td>\n",
       "      <td>0</td>\n",
       "      <td>0</td>\n",
       "      <td>0</td>\n",
       "      <td>0</td>\n",
       "      <td>16</td>\n",
       "      <td>30</td>\n",
       "      <td>0</td>\n",
       "      <td>0</td>\n",
       "      <td>...</td>\n",
       "      <td>0</td>\n",
       "      <td>0</td>\n",
       "      <td>0</td>\n",
       "      <td>0</td>\n",
       "      <td>0</td>\n",
       "      <td>0</td>\n",
       "      <td>0</td>\n",
       "      <td>0</td>\n",
       "      <td>0</td>\n",
       "      <td>0</td>\n",
       "    </tr>\n",
       "    <tr>\n",
       "      <th>KLP00218</th>\n",
       "      <td>Klebsiella pneumoniae</td>\n",
       "      <td>GCF_012952365.1</td>\n",
       "      <td>0</td>\n",
       "      <td>0</td>\n",
       "      <td>0</td>\n",
       "      <td>0</td>\n",
       "      <td>251</td>\n",
       "      <td>11</td>\n",
       "      <td>0</td>\n",
       "      <td>0</td>\n",
       "      <td>...</td>\n",
       "      <td>0</td>\n",
       "      <td>0</td>\n",
       "      <td>0</td>\n",
       "      <td>0</td>\n",
       "      <td>0</td>\n",
       "      <td>0</td>\n",
       "      <td>0</td>\n",
       "      <td>0</td>\n",
       "      <td>0</td>\n",
       "      <td>0</td>\n",
       "    </tr>\n",
       "    <tr>\n",
       "      <th>KLP00213</th>\n",
       "      <td>Klebsiella pneumoniae</td>\n",
       "      <td>GCF_012952385.1</td>\n",
       "      <td>0</td>\n",
       "      <td>0</td>\n",
       "      <td>0</td>\n",
       "      <td>0</td>\n",
       "      <td>219</td>\n",
       "      <td>27</td>\n",
       "      <td>0</td>\n",
       "      <td>0</td>\n",
       "      <td>...</td>\n",
       "      <td>0</td>\n",
       "      <td>0</td>\n",
       "      <td>0</td>\n",
       "      <td>0</td>\n",
       "      <td>0</td>\n",
       "      <td>0</td>\n",
       "      <td>0</td>\n",
       "      <td>0</td>\n",
       "      <td>0</td>\n",
       "      <td>0</td>\n",
       "    </tr>\n",
       "    <tr>\n",
       "      <th>KLP00187</th>\n",
       "      <td>Klebsiella pneumoniae</td>\n",
       "      <td>GCF_012952405.1</td>\n",
       "      <td>0</td>\n",
       "      <td>0</td>\n",
       "      <td>0</td>\n",
       "      <td>0</td>\n",
       "      <td>109</td>\n",
       "      <td>27</td>\n",
       "      <td>0</td>\n",
       "      <td>0</td>\n",
       "      <td>...</td>\n",
       "      <td>0</td>\n",
       "      <td>0</td>\n",
       "      <td>0</td>\n",
       "      <td>0</td>\n",
       "      <td>0</td>\n",
       "      <td>0</td>\n",
       "      <td>0</td>\n",
       "      <td>0</td>\n",
       "      <td>0</td>\n",
       "      <td>0</td>\n",
       "    </tr>\n",
       "    <tr>\n",
       "      <th>KLP00149</th>\n",
       "      <td>Klebsiella pneumoniae</td>\n",
       "      <td>GCF_012952515.1</td>\n",
       "      <td>0</td>\n",
       "      <td>0</td>\n",
       "      <td>0</td>\n",
       "      <td>0</td>\n",
       "      <td>175</td>\n",
       "      <td>20</td>\n",
       "      <td>0</td>\n",
       "      <td>0</td>\n",
       "      <td>...</td>\n",
       "      <td>0</td>\n",
       "      <td>0</td>\n",
       "      <td>0</td>\n",
       "      <td>0</td>\n",
       "      <td>0</td>\n",
       "      <td>0</td>\n",
       "      <td>0</td>\n",
       "      <td>0</td>\n",
       "      <td>0</td>\n",
       "      <td>0</td>\n",
       "    </tr>\n",
       "    <tr>\n",
       "      <th>KLP00177</th>\n",
       "      <td>Klebsiella quasipneumoniae</td>\n",
       "      <td>GCF_012952465.1</td>\n",
       "      <td>0</td>\n",
       "      <td>0</td>\n",
       "      <td>0</td>\n",
       "      <td>0</td>\n",
       "      <td>105</td>\n",
       "      <td>17</td>\n",
       "      <td>0</td>\n",
       "      <td>0</td>\n",
       "      <td>...</td>\n",
       "      <td>0</td>\n",
       "      <td>0</td>\n",
       "      <td>0</td>\n",
       "      <td>0</td>\n",
       "      <td>0</td>\n",
       "      <td>0</td>\n",
       "      <td>0</td>\n",
       "      <td>0</td>\n",
       "      <td>0</td>\n",
       "      <td>0</td>\n",
       "    </tr>\n",
       "  </tbody>\n",
       "</table>\n",
       "<p>12 rows × 13167 columns</p>\n",
       "</div>"
      ],
      "text/plain": [
       "                            Taxonomy           RefSeq  \\\n",
       "Strain                                                  \n",
       "EC00690             Escherichia coli  GCF_012952545.1   \n",
       "EC00668             Escherichia coli  GCF_012952605.1   \n",
       "EC00609             Escherichia coli  GCF_012952615.1   \n",
       "EC00701             Escherichia coli  GCF_012952535.1   \n",
       "EC00678             Escherichia coli  GCF_012952555.1   \n",
       "KLP00215       Klebsiella pneumoniae  GCF_012952415.1   \n",
       "KLP00221       Klebsiella pneumoniae  GCF_012952335.1   \n",
       "KLP00218       Klebsiella pneumoniae  GCF_012952365.1   \n",
       "KLP00213       Klebsiella pneumoniae  GCF_012952385.1   \n",
       "KLP00187       Klebsiella pneumoniae  GCF_012952405.1   \n",
       "KLP00149       Klebsiella pneumoniae  GCF_012952515.1   \n",
       "KLP00177  Klebsiella quasipneumoniae  GCF_012952465.1   \n",
       "\n",
       "          UPF0758 protein YeeS (PGF_00064380)  \\\n",
       "Strain                                          \n",
       "EC00690                                     4   \n",
       "EC00668                                     3   \n",
       "EC00609                                     7   \n",
       "EC00701                                     3   \n",
       "EC00678                                     6   \n",
       "KLP00215                                    0   \n",
       "KLP00221                                    0   \n",
       "KLP00218                                    0   \n",
       "KLP00213                                    0   \n",
       "KLP00187                                    0   \n",
       "KLP00149                                    0   \n",
       "KLP00177                                    0   \n",
       "\n",
       "          Uncharacterized protein YeeT (PGF_00065498)  \\\n",
       "Strain                                                  \n",
       "EC00690                                             4   \n",
       "EC00668                                             3   \n",
       "EC00609                                             6   \n",
       "EC00701                                             3   \n",
       "EC00678                                             6   \n",
       "KLP00215                                            0   \n",
       "KLP00221                                            0   \n",
       "KLP00218                                            0   \n",
       "KLP00213                                            0   \n",
       "KLP00187                                            0   \n",
       "KLP00149                                            0   \n",
       "KLP00177                                            0   \n",
       "\n",
       "          YeeU protein (antitoxin to YeeV) (PGF_00067294)  \\\n",
       "Strain                                                      \n",
       "EC00690                                                 4   \n",
       "EC00668                                                 3   \n",
       "EC00609                                                 5   \n",
       "EC00701                                                 4   \n",
       "EC00678                                                 6   \n",
       "KLP00215                                                0   \n",
       "KLP00221                                                0   \n",
       "KLP00218                                                0   \n",
       "KLP00213                                                0   \n",
       "KLP00187                                                0   \n",
       "KLP00149                                                0   \n",
       "KLP00177                                                0   \n",
       "\n",
       "          YeeV toxin protein (PGF_00067296)  \\\n",
       "Strain                                        \n",
       "EC00690                                   4   \n",
       "EC00668                                   2   \n",
       "EC00609                                   5   \n",
       "EC00701                                   3   \n",
       "EC00678                                   5   \n",
       "KLP00215                                  0   \n",
       "KLP00221                                  0   \n",
       "KLP00218                                  0   \n",
       "KLP00213                                  0   \n",
       "KLP00187                                  0   \n",
       "KLP00149                                  0   \n",
       "KLP00177                                  0   \n",
       "\n",
       "          hypothetical protein (PGF_08225224)  \\\n",
       "Strain                                          \n",
       "EC00690                                   193   \n",
       "EC00668                                   164   \n",
       "EC00609                                   189   \n",
       "EC00701                                   181   \n",
       "EC00678                                   142   \n",
       "KLP00215                                  221   \n",
       "KLP00221                                   16   \n",
       "KLP00218                                  251   \n",
       "KLP00213                                  219   \n",
       "KLP00187                                  109   \n",
       "KLP00149                                  175   \n",
       "KLP00177                                  105   \n",
       "\n",
       "          Mobile element protein (PGF_01000105)  Z1226 protein (PGF_00067424)  \\\n",
       "Strain                                                                          \n",
       "EC00690                                      63                             3   \n",
       "EC00668                                      49                             1   \n",
       "EC00609                                      66                             4   \n",
       "EC00701                                      58                             2   \n",
       "EC00678                                      20                             4   \n",
       "KLP00215                                     21                             0   \n",
       "KLP00221                                     30                             0   \n",
       "KLP00218                                     11                             0   \n",
       "KLP00213                                     27                             0   \n",
       "KLP00187                                     27                             0   \n",
       "KLP00149                                     20                             0   \n",
       "KLP00177                                     17                             0   \n",
       "\n",
       "          hypothetical protein (PGF_00111192)  ...  \\\n",
       "Strain                                         ...   \n",
       "EC00690                                     0  ...   \n",
       "EC00668                                     0  ...   \n",
       "EC00609                                     0  ...   \n",
       "EC00701                                     0  ...   \n",
       "EC00678                                     2  ...   \n",
       "KLP00215                                    0  ...   \n",
       "KLP00221                                    0  ...   \n",
       "KLP00218                                    0  ...   \n",
       "KLP00213                                    0  ...   \n",
       "KLP00187                                    0  ...   \n",
       "KLP00149                                    0  ...   \n",
       "KLP00177                                    0  ...   \n",
       "\n",
       "          hypothetical protein (PGF_04250059)  \\\n",
       "Strain                                          \n",
       "EC00690                                     0   \n",
       "EC00668                                     0   \n",
       "EC00609                                     0   \n",
       "EC00701                                     0   \n",
       "EC00678                                     0   \n",
       "KLP00215                                    0   \n",
       "KLP00221                                    0   \n",
       "KLP00218                                    0   \n",
       "KLP00213                                    0   \n",
       "KLP00187                                    0   \n",
       "KLP00149                                    0   \n",
       "KLP00177                                    0   \n",
       "\n",
       "          hypothetical protein (PGF_03025936)  \\\n",
       "Strain                                          \n",
       "EC00690                                     0   \n",
       "EC00668                                     0   \n",
       "EC00609                                     0   \n",
       "EC00701                                     0   \n",
       "EC00678                                     0   \n",
       "KLP00215                                    0   \n",
       "KLP00221                                    0   \n",
       "KLP00218                                    0   \n",
       "KLP00213                                    0   \n",
       "KLP00187                                    0   \n",
       "KLP00149                                    0   \n",
       "KLP00177                                    0   \n",
       "\n",
       "          hypothetical protein (PGF_00095896)  \\\n",
       "Strain                                          \n",
       "EC00690                                     0   \n",
       "EC00668                                     0   \n",
       "EC00609                                     0   \n",
       "EC00701                                     0   \n",
       "EC00678                                     0   \n",
       "KLP00215                                    0   \n",
       "KLP00221                                    0   \n",
       "KLP00218                                    0   \n",
       "KLP00213                                    0   \n",
       "KLP00187                                    0   \n",
       "KLP00149                                    0   \n",
       "KLP00177                                    0   \n",
       "\n",
       "          hypothetical protein (PGF_06336094)  \\\n",
       "Strain                                          \n",
       "EC00690                                     0   \n",
       "EC00668                                     0   \n",
       "EC00609                                     0   \n",
       "EC00701                                     0   \n",
       "EC00678                                     0   \n",
       "KLP00215                                    0   \n",
       "KLP00221                                    0   \n",
       "KLP00218                                    0   \n",
       "KLP00213                                    0   \n",
       "KLP00187                                    0   \n",
       "KLP00149                                    0   \n",
       "KLP00177                                    0   \n",
       "\n",
       "          Conjugal transfer protein traA (PGF_02995735)  \\\n",
       "Strain                                                    \n",
       "EC00690                                               0   \n",
       "EC00668                                               0   \n",
       "EC00609                                               0   \n",
       "EC00701                                               0   \n",
       "EC00678                                               0   \n",
       "KLP00215                                              0   \n",
       "KLP00221                                              0   \n",
       "KLP00218                                              0   \n",
       "KLP00213                                              0   \n",
       "KLP00187                                              0   \n",
       "KLP00149                                              0   \n",
       "KLP00177                                              0   \n",
       "\n",
       "          hypothetical protein (PGF_05449663)  \\\n",
       "Strain                                          \n",
       "EC00690                                     0   \n",
       "EC00668                                     0   \n",
       "EC00609                                     0   \n",
       "EC00701                                     0   \n",
       "EC00678                                     0   \n",
       "KLP00215                                    0   \n",
       "KLP00221                                    0   \n",
       "KLP00218                                    0   \n",
       "KLP00213                                    0   \n",
       "KLP00187                                    0   \n",
       "KLP00149                                    0   \n",
       "KLP00177                                    0   \n",
       "\n",
       "          hypothetical protein (PGF_00284742)  \\\n",
       "Strain                                          \n",
       "EC00690                                     0   \n",
       "EC00668                                     0   \n",
       "EC00609                                     0   \n",
       "EC00701                                     0   \n",
       "EC00678                                     0   \n",
       "KLP00215                                    0   \n",
       "KLP00221                                    0   \n",
       "KLP00218                                    0   \n",
       "KLP00213                                    0   \n",
       "KLP00187                                    0   \n",
       "KLP00149                                    0   \n",
       "KLP00177                                    0   \n",
       "\n",
       "          hypothetical protein (PGF_05076506)  \\\n",
       "Strain                                          \n",
       "EC00690                                     0   \n",
       "EC00668                                     0   \n",
       "EC00609                                     0   \n",
       "EC00701                                     0   \n",
       "EC00678                                     0   \n",
       "KLP00215                                    0   \n",
       "KLP00221                                    0   \n",
       "KLP00218                                    0   \n",
       "KLP00213                                    0   \n",
       "KLP00187                                    0   \n",
       "KLP00149                                    0   \n",
       "KLP00177                                    0   \n",
       "\n",
       "          hypothetical protein (PGF_03326581)  \\\n",
       "Strain                                          \n",
       "EC00690                                     0   \n",
       "EC00668                                     0   \n",
       "EC00609                                     0   \n",
       "EC00701                                     0   \n",
       "EC00678                                     0   \n",
       "KLP00215                                    0   \n",
       "KLP00221                                    0   \n",
       "KLP00218                                    0   \n",
       "KLP00213                                    0   \n",
       "KLP00187                                    0   \n",
       "KLP00149                                    0   \n",
       "KLP00177                                    0   \n",
       "\n",
       "          hypothetical protein (PGF_05267434)  \n",
       "Strain                                         \n",
       "EC00690                                     0  \n",
       "EC00668                                     0  \n",
       "EC00609                                     0  \n",
       "EC00701                                     0  \n",
       "EC00678                                     0  \n",
       "KLP00215                                    0  \n",
       "KLP00221                                    0  \n",
       "KLP00218                                    0  \n",
       "KLP00213                                    0  \n",
       "KLP00187                                    0  \n",
       "KLP00149                                    0  \n",
       "KLP00177                                    0  \n",
       "\n",
       "[12 rows x 13167 columns]"
      ]
     },
     "execution_count": 6,
     "metadata": {},
     "output_type": "execute_result"
    }
   ],
   "source": [
    "link=\"https://raw.githubusercontent.com/shadayguerrero/TDA_Horizontal_Genes_Transfer/main/BVBRC_protein_families_all_final.csv\"\n",
    "short=pd.read_csv(link,index_col=0)\n",
    "short\n",
    "# Re-index for the Strain\n",
    "df_reindexed = short.set_index('Strain', inplace=False)\n",
    "df_reindexed"
   ]
  },
  {
   "cell_type": "code",
   "execution_count": 7,
   "id": "47b944e5",
   "metadata": {},
   "outputs": [],
   "source": [
    "#Convert to 1 and 0\n",
    "#df_reindexed.iloc[:,2:]=df_reindexed.iloc[:,2:].applymap(lambda x: 1 if x > 0 else 0)\n",
    "#df_reindexed\n"
   ]
  },
  {
   "cell_type": "markdown",
   "id": "773780d5",
   "metadata": {},
   "source": [
    "Select the family of genes that first appear in the IncF plasmid."
   ]
  },
  {
   "cell_type": "code",
   "execution_count": 8,
   "id": "2e109e36",
   "metadata": {},
   "outputs": [
    {
     "data": {
      "text/plain": [
       "123"
      ]
     },
     "execution_count": 8,
     "metadata": {},
     "output_type": "execute_result"
    }
   ],
   "source": [
    "\n",
    "names_to_search = [\n",
    "    \"PGF_04886779\", \"PGF_04370656\", \"PGF_07342234\", \"PGF_03299821\", \"PGF_05419346\",\n",
    "    \"PGF_03084064\", \"PGF_04563108\", \"PGF_00414310\", \"PGF_00022105\", \"PGF_05419346\",\n",
    "    \"PGF_06607596\", \"PGF_00047661\", \"PGF_00216543\", \"PGF_08225224\", \"PGF_08225224\",\n",
    "    \"PGF_00110526\", \"PGF_00355535\", \"PGF_01650562\", \"PGF_04243824\", \"PGF_02333019\",\n",
    "    \"PGF_08225224\", \"PGF_03145724\", \"PGF_06495825\", \"PGF_00452501\", \"PGF_05493974\",\n",
    "    \"PGF_00020282\", \"PGF_06958254\", \"PGF_09224510\", \"PGF_07563198\", \"PGF_01000105\",\n",
    "    \"PGF_01031760\", \"PGF_01569843\", \"PGF_01077017\", \"PGF_01000105\", \"PGF_02752571\",\n",
    "    \"PGF_00410347\", \"PGF_01958521\", \"PGF_08225224\", \"PGF_07207755\", \"PGF_00010376\",\n",
    "    \"PGF_03543440\", \"PGF_05156704\", \"PGF_01000105\", \"PGF_01000105\", \"PGF_02932429\",\n",
    "    \"PGF_06674747\", \"PGF_07498135\", \"PGF_10469466\", \"PGF_08225224\", \"PGF_01958554\",\n",
    "    \"PGF_05971953\", \"PGF_00904239\", \"PGF_00424315\", \"PGF_08238808\", \"PGF_08225224\",\n",
    "    \"PGF_08238808\", \"PGF_08225224\", \"PGF_00013862\", \"PGF_00013864\", \"PGF_10387734\",\n",
    "    \"PGF_09290469\", \"PGF_08225224\", \"PGF_00013946\", \"PGF_01949998\", \"PGF_00013916\",\n",
    "    \"PGF_08972330\", \"PGF_08225224\", \"PGF_00013925\", \"PGF_00013923\", \"PGF_03830470\",\n",
    "    \"PGF_00326234\", \"PGF_00163448\", \"PGF_00013943\", \"PGF_02913871\", \"PGF_00013942\",\n",
    "    \"PGF_00615364\", \"PGF_00335754\", \"PGF_07717077\", \"PGF_00013945\", \"PGF_00013871\",\n",
    "    \"PGF_03332290\", \"PGF_08225224\", \"PGF_06611914\", \"PGF_00089171\", \"PGF_06560088\",\n",
    "    \"PGF_00106691\", \"PGF_04419840\", \"PGF_00467825\", \"PGF_00013893\", \"PGF_00013875\",\n",
    "    \"PGF_01246464\", \"PGF_00013866\", \"PGF_08225224\", \"PGF_00859415\", \"PGF_00013863\",\n",
    "    \"PGF_00411196\", \"PGF_00326542\", \"PGF_00064344\", \"PGF_07396822\", \"PGF_07978541\",\n",
    "    \"PGF_01595863\", \"PGF_06275535\", \"PGF_06275535\", \"PGF_01950491\", \"PGF_01958592\",\n",
    "    \"PGF_01009331\", \"PGF_00038929\", \"PGF_00038932\", \"PGF_05682743\", \"PGF_00064362\",\n",
    "    \"PGF_02142873\", \"PGF_04180579\", \"PGF_00072490\", \"PGF_07517035\", \"PGF_00324174\",\n",
    "    \"PGF_00106708\", \"PGF_10494469\", \"PGF_08970263\", \"PGF_08225224\", \"PGF_00060224\", \n",
    "    \"PGF_00415171\", \"PGF_07518314\", \"PGF_00424726\"]\n",
    "selected_columns = [col for col in df_reindexed.columns if any(word in col for word in names_to_search)]\n",
    "column_index = [df_reindexed.columns.get_loc(col) for col in selected_columns]\n",
    "\n",
    "# Create a new DataFrame with only the selected columns\n",
    "df_filtered = df_reindexed[selected_columns]\n",
    "\n",
    "len(names_to_search)"
   ]
  },
  {
   "cell_type": "markdown",
   "id": "ec958094",
   "metadata": {},
   "source": [
    "We extract the names of the Strains from the table."
   ]
  },
  {
   "cell_type": "code",
   "execution_count": 9,
   "id": "d66e891c",
   "metadata": {},
   "outputs": [],
   "source": [
    "strain_names=list(df_reindexed.index)"
   ]
  },
  {
   "cell_type": "markdown",
   "id": "097eec57",
   "metadata": {},
   "source": [
    "We select a window of 500 genes that includes the genes from the IncF plasmid belonging to the strain EC00678."
   ]
  },
  {
   "cell_type": "code",
   "execution_count": 10,
   "id": "10c26a54",
   "metadata": {},
   "outputs": [
    {
     "data": {
      "text/plain": [
       "array([[0, 1, 1, ..., 0, 2, 0],\n",
       "       [1, 1, 1, ..., 0, 3, 0],\n",
       "       [0, 1, 1, ..., 0, 1, 0],\n",
       "       ...,\n",
       "       [0, 1, 1, ..., 0, 0, 0],\n",
       "       [0, 1, 1, ..., 0, 2, 2],\n",
       "       [0, 1, 1, ..., 0, 0, 0]])"
      ]
     },
     "execution_count": 10,
     "metadata": {},
     "output_type": "execute_result"
    }
   ],
   "source": [
    "#PatientA_B=all.iloc[:,4438:4520].values\n",
    "PatientA_B=df_reindexed.iloc[:,4020:4520].values\n",
    "PatientA_B"
   ]
  },
  {
   "cell_type": "code",
   "execution_count": 11,
   "id": "bba3efb6",
   "metadata": {},
   "outputs": [
    {
     "data": {
      "text/plain": [
       "(12, 500)"
      ]
     },
     "execution_count": 11,
     "metadata": {},
     "output_type": "execute_result"
    }
   ],
   "source": [
    "PatientA_B.shape"
   ]
  },
  {
   "cell_type": "markdown",
   "id": "967aec0d",
   "metadata": {},
   "source": [
    "## Homlogy persistence\n",
    "In this section, we apply persistent homology and plot the persistence diagram and barcode, as well as the geometric representation of the simplicial complex for various levels of filtration.\n",
    "\n",
    "\n",
    "\n",
    "\n",
    "\n"
   ]
  },
  {
   "cell_type": "code",
   "execution_count": 12,
   "id": "85a2002f",
   "metadata": {},
   "outputs": [
    {
     "data": {
      "text/plain": [
       "[(1, (118.0, 145.0)),\n",
       " (1, (88.0, 112.0)),\n",
       " (0, (0.0, inf)),\n",
       " (0, (0.0, 108.0)),\n",
       " (0, (0.0, 85.0)),\n",
       " (0, (0.0, 72.0)),\n",
       " (0, (0.0, 61.0)),\n",
       " (0, (0.0, 53.0)),\n",
       " (0, (0.0, 43.0)),\n",
       " (0, (0.0, 31.0)),\n",
       " (0, (0.0, 30.0)),\n",
       " (0, (0.0, 18.0)),\n",
       " (0, (0.0, 18.0)),\n",
       " (0, (0.0, 18.0))]"
      ]
     },
     "execution_count": 12,
     "metadata": {},
     "output_type": "execute_result"
    }
   ],
   "source": [
    "hamming_matrix_3 = calculate_hamming_matrix(PatientA_B)\n",
    "persistence3, simplex_tree3 = create_complex(hamming_matrix_3)\n",
    "persistence3"
   ]
  },
  {
   "cell_type": "code",
   "execution_count": 13,
   "id": "973be9ea",
   "metadata": {},
   "outputs": [
    {
     "name": "stderr",
     "output_type": "stream",
     "text": [
      "usetex mode requires dvipng.\n"
     ]
    },
    {
     "data": {
      "text/plain": [
       "<Figure size 100x100 with 0 Axes>"
      ]
     },
     "metadata": {},
     "output_type": "display_data"
    },
    {
     "data": {
      "image/png": "[encoded data removed]",
      "text/plain": [
       "<Figure size 640x480 with 1 Axes>"
      ]
     },
     "metadata": {},
     "output_type": "display_data"
    }
   ],
   "source": [
    "# Adjusting the size of the plot\n",
    "plt.figure(figsize=(1, 1))  # You can adjust these numbers as per your needs\n",
    "# Adjusting the layout\n",
    "plt.tight_layout()\n",
    "gd.plot_persistence_barcode(persistence3, legend=True)\n",
    "plt.xticks(fontsize=16)  # Adjust the size as needed\n",
    "plt.yticks(fontsize=16)\n",
    "plt.savefig(\"plots/barcode_patientA_B.svg\", dpi=600)\n",
    "plt.savefig(\"plots/barcode_patientA_B.png\", dpi=600)\n"
   ]
  },
  {
   "cell_type": "code",
   "execution_count": 14,
   "id": "429053b4",
   "metadata": {},
   "outputs": [
    {
     "data": {
      "text/plain": [
       "<AxesSubplot:title={'center':'Persistence diagram'}, xlabel='Birth', ylabel='Death'>"
      ]
     },
     "execution_count": 14,
     "metadata": {},
     "output_type": "execute_result"
    },
    {
     "data": {
      "text/plain": [
       "<Figure size 1000x1000 with 0 Axes>"
      ]
     },
     "metadata": {},
     "output_type": "display_data"
    },
    {
     "data": {
      "image/png": "[encoded data removed]",
      "text/plain": [
       "<Figure size 640x480 with 1 Axes>"
      ]
     },
     "metadata": {},
     "output_type": "display_data"
    }
   ],
   "source": [
    "# Adjust the size of the plot\n",
    "plt.figure(figsize=(10, 10))  # You can adjust these numbers according to your needs\n",
    "# Adjust the layout\n",
    "plt.tight_layout()\n",
    "gd.plot_persistence_diagram(persistence3, legend=True)\n",
    "#plt.savefig(\"plots/diagram_patientA_B.svg\", dpi=600)\n",
    "#plt.savefig(\"plots/diagram_patientA_B.png\", dpi=600)\n"
   ]
  },
  {
   "cell_type": "code",
   "execution_count": 24,
   "id": "707013b8",
   "metadata": {},
   "outputs": [
    {
     "data": {
      "application/vnd.plotly.v1+json": {
       "config": {
        "plotlyServerURL": "https://plot.ly"
       },
       "data": [
        {
         "line": {
          "color": "rgba(153, 186, 254, 1.0)",
          "width": 3
         },
         "mode": "lines",
         "type": "scatter",
         "x": [
          -0.08425566700951496,
          -0.1125231714922423,
          null
         ],
         "y": [
          -0.6617285548273002,
          -0.3622057728280037,
          null
         ]
        },
        {
         "line": {
          "color": "rgba(244, 157, 126, 1.0)",
          "width": 3
         },
         "mode": "lines",
         "type": "scatter",
         "x": [
          -0.08425566700951496,
          -0.37168047518453645,
          null
         ],
         "y": [
          -0.6617285548273002,
          -0.6697684884876536,
          null
         ]
        },
        {
         "line": {
          "color": "rgba(239, 137, 108, 1.0)",
          "width": 3
         },
         "mode": "lines",
         "type": "scatter",
         "x": [
          -0.08425566700951496,
          -0.2057728370000087,
          null
         ],
         "y": [
          -0.6617285548273002,
          -0.8211847835192171,
          null
         ]
        },
        {
         "line": {
          "color": "rgba(236, 210, 196, 1.0)",
          "width": 3
         },
         "mode": "lines",
         "type": "scatter",
         "x": [
          -0.37168047518453645,
          -0.1125231714922423,
          null
         ],
         "y": [
          -0.6697684884876536,
          -0.3622057728280037,
          null
         ]
        },
        {
         "line": {
          "color": "rgba(246, 183, 156, 1.0)",
          "width": 3
         },
         "mode": "lines",
         "type": "scatter",
         "x": [
          -0.37168047518453645,
          -0.46651806392708745,
          null
         ],
         "y": [
          -0.6697684884876536,
          -1,
          null
         ]
        },
        {
         "line": {
          "color": "rgba(200, 56, 53, 1.0)",
          "width": 3
         },
         "mode": "lines",
         "type": "scatter",
         "x": [
          -0.1125231714922423,
          -0.2057728370000087,
          null
         ],
         "y": [
          -0.3622057728280037,
          -0.8211847835192171,
          null
         ]
        },
        {
         "line": {
          "color": "rgba(179, 3, 38, 1.0)",
          "width": 3
         },
         "mode": "lines",
         "type": "scatter",
         "x": [
          -0.1125231714922423,
          0.0982512663870819,
          null
         ],
         "y": [
          -0.3622057728280037,
          0.2545157493993735,
          null
         ]
        },
        {
         "line": {
          "color": "rgba(234, 125, 97, 1.0)",
          "width": 3
         },
         "mode": "lines",
         "type": "scatter",
         "x": [
          -0.2057728370000087,
          -0.46651806392708745,
          null
         ],
         "y": [
          -0.8211847835192171,
          -1,
          null
         ]
        },
        {
         "line": {
          "color": "rgba(218, 220, 223, 1.0)",
          "width": 3
         },
         "mode": "lines",
         "type": "scatter",
         "x": [
          0.32134377886017795,
          0.03219622988071499,
          null
         ],
         "y": [
          0.5893757033834685,
          0.4912005282723632,
          null
         ]
        },
        {
         "line": {
          "color": "rgba(228, 216, 209, 1.0)",
          "width": 3
         },
         "mode": "lines",
         "type": "scatter",
         "x": [
          0.32134377886017795,
          0.33562695768208617,
          null
         ],
         "y": [
          0.5893757033834685,
          0.4370405887674392,
          null
         ]
        },
        {
         "line": {
          "color": "rgba(236, 210, 196, 1.0)",
          "width": 3
         },
         "mode": "lines",
         "type": "scatter",
         "x": [
          0.32134377886017795,
          0.18860717520923395,
          null
         ],
         "y": [
          0.5893757033834685,
          0.44470177828467383,
          null
         ]
        },
        {
         "line": {
          "color": "rgba(239, 206, 188, 1.0)",
          "width": 3
         },
         "mode": "lines",
         "type": "scatter",
         "x": [
          0.32134377886017795,
          0.0982512663870819,
          null
         ],
         "y": [
          0.5893757033834685,
          0.2545157493993735,
          null
         ]
        },
        {
         "line": {
          "color": "rgba(244, 194, 170, 1.0)",
          "width": 3
         },
         "mode": "lines",
         "type": "scatter",
         "x": [
          0.32134377886017795,
          0.0630081231063718,
          null
         ],
         "y": [
          0.5893757033834685,
          0.6301319902976629,
          null
         ]
        },
        {
         "line": {
          "color": "rgba(246, 183, 156, 1.0)",
          "width": 3
         },
         "mode": "lines",
         "type": "scatter",
         "x": [
          0.32134377886017795,
          0.20171668348772334,
          null
         ],
         "y": [
          0.5893757033834685,
          0.6679212612571933,
          null
         ]
        },
        {
         "line": {
          "color": "rgba(111, 145, 242, 1.0)",
          "width": 3
         },
         "mode": "lines",
         "type": "scatter",
         "x": [
          0.03219622988071499,
          0.18860717520923395,
          null
         ],
         "y": [
          0.4912005282723632,
          0.44470177828467383,
          null
         ]
        },
        {
         "line": {
          "color": "rgba(141, 175, 253, 1.0)",
          "width": 3
         },
         "mode": "lines",
         "type": "scatter",
         "x": [
          0.03219622988071499,
          0.0630081231063718,
          null
         ],
         "y": [
          0.4912005282723632,
          0.6301319902976629,
          null
         ]
        },
        {
         "line": {
          "color": "rgba(144, 178, 254, 1.0)",
          "width": 3
         },
         "mode": "lines",
         "type": "scatter",
         "x": [
          0.03219622988071499,
          0.0982512663870819,
          null
         ],
         "y": [
          0.4912005282723632,
          0.2545157493993735,
          null
         ]
        },
        {
         "line": {
          "color": "rgba(190, 211, 245, 1.0)",
          "width": 3
         },
         "mode": "lines",
         "type": "scatter",
         "x": [
          0.03219622988071499,
          0.33562695768208617,
          null
         ],
         "y": [
          0.4912005282723632,
          0.4370405887674392,
          null
         ]
        },
        {
         "line": {
          "color": "rgba(190, 211, 245, 1.0)",
          "width": 3
         },
         "mode": "lines",
         "type": "scatter",
         "x": [
          0.03219622988071499,
          0.20171668348772334,
          null
         ],
         "y": [
          0.4912005282723632,
          0.6679212612571933,
          null
         ]
        },
        {
         "line": {
          "color": "rgba(111, 145, 242, 1.0)",
          "width": 3
         },
         "mode": "lines",
         "type": "scatter",
         "x": [
          0.0982512663870819,
          0.18860717520923395,
          null
         ],
         "y": [
          0.2545157493993735,
          0.44470177828467383,
          null
         ]
        },
        {
         "line": {
          "color": "rgba(144, 178, 254, 1.0)",
          "width": 3
         },
         "mode": "lines",
         "type": "scatter",
         "x": [
          0.0982512663870819,
          0.0630081231063718,
          null
         ],
         "y": [
          0.2545157493993735,
          0.6301319902976629,
          null
         ]
        },
        {
         "line": {
          "color": "rgba(160, 191, 254, 1.0)",
          "width": 3
         },
         "mode": "lines",
         "type": "scatter",
         "x": [
          0.0982512663870819,
          0.20171668348772334,
          null
         ],
         "y": [
          0.2545157493993735,
          0.6679212612571933,
          null
         ]
        },
        {
         "line": {
          "color": "rgba(190, 211, 245, 1.0)",
          "width": 3
         },
         "mode": "lines",
         "type": "scatter",
         "x": [
          0.0982512663870819,
          0.33562695768208617,
          null
         ],
         "y": [
          0.2545157493993735,
          0.4370405887674392,
          null
         ]
        },
        {
         "line": {
          "color": "rgba(111, 145, 242, 1.0)",
          "width": 3
         },
         "mode": "lines",
         "type": "scatter",
         "x": [
          0.18860717520923395,
          0.0630081231063718,
          null
         ],
         "y": [
          0.44470177828467383,
          0.6301319902976629,
          null
         ]
        },
        {
         "line": {
          "color": "rgba(151, 184, 254, 1.0)",
          "width": 3
         },
         "mode": "lines",
         "type": "scatter",
         "x": [
          0.18860717520923395,
          0.20171668348772334,
          null
         ],
         "y": [
          0.44470177828467383,
          0.6679212612571933,
          null
         ]
        },
        {
         "line": {
          "color": "rgba(197, 213, 242, 1.0)",
          "width": 3
         },
         "mode": "lines",
         "type": "scatter",
         "x": [
          0.18860717520923395,
          0.33562695768208617,
          null
         ],
         "y": [
          0.44470177828467383,
          0.4370405887674392,
          null
         ]
        },
        {
         "line": {
          "color": "rgba(153, 186, 254, 1.0)",
          "width": 3
         },
         "mode": "lines",
         "type": "scatter",
         "x": [
          0.0630081231063718,
          0.20171668348772334,
          null
         ],
         "y": [
          0.6301319902976629,
          0.6679212612571933,
          null
         ]
        },
        {
         "line": {
          "color": "rgba(225, 218, 214, 1.0)",
          "width": 3
         },
         "mode": "lines",
         "type": "scatter",
         "x": [
          0.0630081231063718,
          0.33562695768208617,
          null
         ],
         "y": [
          0.6301319902976629,
          0.4370405887674392,
          null
         ]
        },
        {
         "line": {
          "color": "rgba(218, 220, 223, 1.0)",
          "width": 3
         },
         "mode": "lines",
         "type": "scatter",
         "x": [
          0.33562695768208617,
          0.20171668348772334,
          null
         ],
         "y": [
          0.4370405887674392,
          0.6679212612571933,
          null
         ]
        },
        {
         "fill": "toself",
         "fillcolor": "rgba(244, 157, 126, 0.545)",
         "line": {
          "width": 3
         },
         "mode": "lines",
         "type": "scatter",
         "x": [
          0.03219622988071499,
          0.18860717520923395,
          0.0630081231063718,
          0.03219622988071499,
          null
         ],
         "y": [
          0.4912005282723632,
          0.44470177828467383,
          0.6301319902976629,
          0.4912005282723632,
          null
         ]
        },
        {
         "fill": "toself",
         "fillcolor": "rgba(244, 157, 126, 0.545)",
         "line": {
          "width": 3
         },
         "mode": "lines",
         "type": "scatter",
         "x": [
          0.03219622988071499,
          0.0982512663870819,
          0.18860717520923395,
          0.03219622988071499,
          null
         ],
         "y": [
          0.4912005282723632,
          0.2545157493993735,
          0.44470177828467383,
          0.4912005282723632,
          null
         ]
        },
        {
         "fill": "toself",
         "fillcolor": "rgba(244, 157, 126, 0.545)",
         "line": {
          "width": 3
         },
         "mode": "lines",
         "type": "scatter",
         "x": [
          0.03219622988071499,
          0.0982512663870819,
          0.0630081231063718,
          0.03219622988071499,
          null
         ],
         "y": [
          0.4912005282723632,
          0.2545157493993735,
          0.6301319902976629,
          0.4912005282723632,
          null
         ]
        },
        {
         "fill": "toself",
         "fillcolor": "rgba(244, 157, 126, 0.545)",
         "line": {
          "width": 3
         },
         "mode": "lines",
         "type": "scatter",
         "x": [
          0.0982512663870819,
          0.18860717520923395,
          0.0630081231063718,
          0.0982512663870819,
          null
         ],
         "y": [
          0.2545157493993735,
          0.44470177828467383,
          0.6301319902976629,
          0.2545157493993735,
          null
         ]
        },
        {
         "fill": "toself",
         "fillcolor": "rgba(244, 157, 126, 0.545)",
         "line": {
          "width": 3
         },
         "mode": "lines",
         "type": "scatter",
         "x": [
          0.18860717520923395,
          0.0630081231063718,
          0.20171668348772334,
          0.18860717520923395,
          null
         ],
         "y": [
          0.44470177828467383,
          0.6301319902976629,
          0.6679212612571933,
          0.44470177828467383,
          null
         ]
        },
        {
         "fill": "toself",
         "fillcolor": "rgba(244, 157, 126, 0.545)",
         "line": {
          "width": 3
         },
         "mode": "lines",
         "type": "scatter",
         "x": [
          0.0982512663870819,
          0.18860717520923395,
          0.20171668348772334,
          0.0982512663870819,
          null
         ],
         "y": [
          0.2545157493993735,
          0.44470177828467383,
          0.6679212612571933,
          0.2545157493993735,
          null
         ]
        },
        {
         "fill": "toself",
         "fillcolor": "rgba(244, 157, 126, 0.545)",
         "line": {
          "width": 3
         },
         "mode": "lines",
         "type": "scatter",
         "x": [
          0.0982512663870819,
          0.0630081231063718,
          0.20171668348772334,
          0.0982512663870819,
          null
         ],
         "y": [
          0.2545157493993735,
          0.6301319902976629,
          0.6679212612571933,
          0.2545157493993735,
          null
         ]
        },
        {
         "fill": "toself",
         "fillcolor": "rgba(244, 157, 126, 0.545)",
         "line": {
          "width": 3
         },
         "mode": "lines",
         "type": "scatter",
         "x": [
          0.03219622988071499,
          0.0982512663870819,
          0.33562695768208617,
          0.03219622988071499,
          null
         ],
         "y": [
          0.4912005282723632,
          0.2545157493993735,
          0.4370405887674392,
          0.4912005282723632,
          null
         ]
        },
        {
         "fill": "toself",
         "fillcolor": "rgba(244, 157, 126, 0.545)",
         "line": {
          "width": 3
         },
         "mode": "lines",
         "type": "scatter",
         "x": [
          0.03219622988071499,
          0.0982512663870819,
          0.20171668348772334,
          0.03219622988071499,
          null
         ],
         "y": [
          0.4912005282723632,
          0.2545157493993735,
          0.6679212612571933,
          0.4912005282723632,
          null
         ]
        },
        {
         "fill": "toself",
         "fillcolor": "rgba(244, 157, 126, 0.545)",
         "line": {
          "width": 3
         },
         "mode": "lines",
         "type": "scatter",
         "x": [
          0.03219622988071499,
          0.18860717520923395,
          0.20171668348772334,
          0.03219622988071499,
          null
         ],
         "y": [
          0.4912005282723632,
          0.44470177828467383,
          0.6679212612571933,
          0.4912005282723632,
          null
         ]
        },
        {
         "fill": "toself",
         "fillcolor": "rgba(244, 157, 126, 0.545)",
         "line": {
          "width": 3
         },
         "mode": "lines",
         "type": "scatter",
         "x": [
          0.03219622988071499,
          0.0630081231063718,
          0.20171668348772334,
          0.03219622988071499,
          null
         ],
         "y": [
          0.4912005282723632,
          0.6301319902976629,
          0.6679212612571933,
          0.4912005282723632,
          null
         ]
        },
        {
         "fill": "toself",
         "fillcolor": "rgba(244, 157, 126, 0.545)",
         "line": {
          "width": 3
         },
         "mode": "lines",
         "type": "scatter",
         "x": [
          0.03219622988071499,
          0.18860717520923395,
          0.33562695768208617,
          0.03219622988071499,
          null
         ],
         "y": [
          0.4912005282723632,
          0.44470177828467383,
          0.4370405887674392,
          0.4912005282723632,
          null
         ]
        },
        {
         "fill": "toself",
         "fillcolor": "rgba(244, 157, 126, 0.545)",
         "line": {
          "width": 3
         },
         "mode": "lines",
         "type": "scatter",
         "x": [
          0.0982512663870819,
          0.18860717520923395,
          0.33562695768208617,
          0.0982512663870819,
          null
         ],
         "y": [
          0.2545157493993735,
          0.44470177828467383,
          0.4370405887674392,
          0.2545157493993735,
          null
         ]
        },
        {
         "fill": "toself",
         "fillcolor": "rgba(244, 157, 126, 0.545)",
         "line": {
          "width": 3
         },
         "mode": "lines",
         "type": "scatter",
         "x": [
          0.03219622988071499,
          0.33562695768208617,
          0.20171668348772334,
          0.03219622988071499,
          null
         ],
         "y": [
          0.4912005282723632,
          0.4370405887674392,
          0.6679212612571933,
          0.4912005282723632,
          null
         ]
        },
        {
         "fill": "toself",
         "fillcolor": "rgba(244, 157, 126, 0.545)",
         "line": {
          "width": 3
         },
         "mode": "lines",
         "type": "scatter",
         "x": [
          0.0982512663870819,
          0.33562695768208617,
          0.20171668348772334,
          0.0982512663870819,
          null
         ],
         "y": [
          0.2545157493993735,
          0.4370405887674392,
          0.6679212612571933,
          0.2545157493993735,
          null
         ]
        },
        {
         "fill": "toself",
         "fillcolor": "rgba(244, 157, 126, 0.545)",
         "line": {
          "width": 3
         },
         "mode": "lines",
         "type": "scatter",
         "x": [
          0.18860717520923395,
          0.33562695768208617,
          0.20171668348772334,
          0.18860717520923395,
          null
         ],
         "y": [
          0.44470177828467383,
          0.4370405887674392,
          0.6679212612571933,
          0.44470177828467383,
          null
         ]
        },
        {
         "fill": "toself",
         "fillcolor": "rgba(244, 157, 126, 0.545)",
         "line": {
          "width": 3
         },
         "mode": "lines",
         "type": "scatter",
         "x": [
          0.03219622988071499,
          0.0630081231063718,
          0.33562695768208617,
          0.03219622988071499,
          null
         ],
         "y": [
          0.4912005282723632,
          0.6301319902976629,
          0.4370405887674392,
          0.4912005282723632,
          null
         ]
        },
        {
         "fill": "toself",
         "fillcolor": "rgba(244, 157, 126, 0.545)",
         "line": {
          "width": 3
         },
         "mode": "lines",
         "type": "scatter",
         "x": [
          0.0982512663870819,
          0.0630081231063718,
          0.33562695768208617,
          0.0982512663870819,
          null
         ],
         "y": [
          0.2545157493993735,
          0.6301319902976629,
          0.4370405887674392,
          0.2545157493993735,
          null
         ]
        },
        {
         "fill": "toself",
         "fillcolor": "rgba(244, 157, 126, 0.545)",
         "line": {
          "width": 3
         },
         "mode": "lines",
         "type": "scatter",
         "x": [
          0.18860717520923395,
          0.0630081231063718,
          0.33562695768208617,
          0.18860717520923395,
          null
         ],
         "y": [
          0.44470177828467383,
          0.6301319902976629,
          0.4370405887674392,
          0.44470177828467383,
          null
         ]
        },
        {
         "fill": "toself",
         "fillcolor": "rgba(244, 157, 126, 0.545)",
         "line": {
          "width": 3
         },
         "mode": "lines",
         "type": "scatter",
         "x": [
          0.0630081231063718,
          0.33562695768208617,
          0.20171668348772334,
          0.0630081231063718,
          null
         ],
         "y": [
          0.6301319902976629,
          0.4370405887674392,
          0.6679212612571933,
          0.6301319902976629,
          null
         ]
        },
        {
         "fill": "toself",
         "fillcolor": "rgba(244, 157, 126, 0.545)",
         "line": {
          "width": 3
         },
         "mode": "lines",
         "type": "scatter",
         "x": [
          0.32134377886017795,
          0.03219622988071499,
          0.33562695768208617,
          0.32134377886017795,
          null
         ],
         "y": [
          0.5893757033834685,
          0.4912005282723632,
          0.4370405887674392,
          0.5893757033834685,
          null
         ]
        },
        {
         "fill": "toself",
         "fillcolor": "rgba(244, 157, 126, 0.545)",
         "line": {
          "width": 3
         },
         "mode": "lines",
         "type": "scatter",
         "x": [
          0.32134377886017795,
          0.03219622988071499,
          0.18860717520923395,
          0.32134377886017795,
          null
         ],
         "y": [
          0.5893757033834685,
          0.4912005282723632,
          0.44470177828467383,
          0.5893757033834685,
          null
         ]
        },
        {
         "fill": "toself",
         "fillcolor": "rgba(244, 157, 126, 0.545)",
         "line": {
          "width": 3
         },
         "mode": "lines",
         "type": "scatter",
         "x": [
          0.32134377886017795,
          0.18860717520923395,
          0.33562695768208617,
          0.32134377886017795,
          null
         ],
         "y": [
          0.5893757033834685,
          0.44470177828467383,
          0.4370405887674392,
          0.5893757033834685,
          null
         ]
        },
        {
         "fill": "toself",
         "fillcolor": "rgba(244, 157, 126, 0.545)",
         "line": {
          "width": 3
         },
         "mode": "lines",
         "type": "scatter",
         "x": [
          0.32134377886017795,
          0.03219622988071499,
          0.0982512663870819,
          0.32134377886017795,
          null
         ],
         "y": [
          0.5893757033834685,
          0.4912005282723632,
          0.2545157493993735,
          0.5893757033834685,
          null
         ]
        },
        {
         "fill": "toself",
         "fillcolor": "rgba(244, 157, 126, 0.545)",
         "line": {
          "width": 3
         },
         "mode": "lines",
         "type": "scatter",
         "x": [
          0.32134377886017795,
          0.0982512663870819,
          0.18860717520923395,
          0.32134377886017795,
          null
         ],
         "y": [
          0.5893757033834685,
          0.2545157493993735,
          0.44470177828467383,
          0.5893757033834685,
          null
         ]
        },
        {
         "fill": "toself",
         "fillcolor": "rgba(244, 157, 126, 0.545)",
         "line": {
          "width": 3
         },
         "mode": "lines",
         "type": "scatter",
         "x": [
          0.32134377886017795,
          0.0982512663870819,
          0.33562695768208617,
          0.32134377886017795,
          null
         ],
         "y": [
          0.5893757033834685,
          0.2545157493993735,
          0.4370405887674392,
          0.5893757033834685,
          null
         ]
        },
        {
         "fill": "toself",
         "fillcolor": "rgba(244, 157, 126, 0.545)",
         "line": {
          "width": 3
         },
         "mode": "lines",
         "type": "scatter",
         "x": [
          0.32134377886017795,
          0.03219622988071499,
          0.0630081231063718,
          0.32134377886017795,
          null
         ],
         "y": [
          0.5893757033834685,
          0.4912005282723632,
          0.6301319902976629,
          0.5893757033834685,
          null
         ]
        },
        {
         "fill": "toself",
         "fillcolor": "rgba(244, 157, 126, 0.545)",
         "line": {
          "width": 3
         },
         "mode": "lines",
         "type": "scatter",
         "x": [
          0.32134377886017795,
          0.0982512663870819,
          0.0630081231063718,
          0.32134377886017795,
          null
         ],
         "y": [
          0.5893757033834685,
          0.2545157493993735,
          0.6301319902976629,
          0.5893757033834685,
          null
         ]
        },
        {
         "fill": "toself",
         "fillcolor": "rgba(244, 157, 126, 0.545)",
         "line": {
          "width": 3
         },
         "mode": "lines",
         "type": "scatter",
         "x": [
          0.32134377886017795,
          0.18860717520923395,
          0.0630081231063718,
          0.32134377886017795,
          null
         ],
         "y": [
          0.5893757033834685,
          0.44470177828467383,
          0.6301319902976629,
          0.5893757033834685,
          null
         ]
        },
        {
         "fill": "toself",
         "fillcolor": "rgba(244, 157, 126, 0.545)",
         "line": {
          "width": 3
         },
         "mode": "lines",
         "type": "scatter",
         "x": [
          0.32134377886017795,
          0.0630081231063718,
          0.33562695768208617,
          0.32134377886017795,
          null
         ],
         "y": [
          0.5893757033834685,
          0.6301319902976629,
          0.4370405887674392,
          0.5893757033834685,
          null
         ]
        },
        {
         "fill": "toself",
         "fillcolor": "rgba(244, 157, 126, 0.545)",
         "line": {
          "width": 3
         },
         "mode": "lines",
         "type": "scatter",
         "x": [
          0.32134377886017795,
          0.03219622988071499,
          0.20171668348772334,
          0.32134377886017795,
          null
         ],
         "y": [
          0.5893757033834685,
          0.4912005282723632,
          0.6679212612571933,
          0.5893757033834685,
          null
         ]
        },
        {
         "fill": "toself",
         "fillcolor": "rgba(244, 157, 126, 0.545)",
         "line": {
          "width": 3
         },
         "mode": "lines",
         "type": "scatter",
         "x": [
          0.32134377886017795,
          0.0982512663870819,
          0.20171668348772334,
          0.32134377886017795,
          null
         ],
         "y": [
          0.5893757033834685,
          0.2545157493993735,
          0.6679212612571933,
          0.5893757033834685,
          null
         ]
        },
        {
         "fill": "toself",
         "fillcolor": "rgba(244, 157, 126, 0.545)",
         "line": {
          "width": 3
         },
         "mode": "lines",
         "type": "scatter",
         "x": [
          0.32134377886017795,
          0.18860717520923395,
          0.20171668348772334,
          0.32134377886017795,
          null
         ],
         "y": [
          0.5893757033834685,
          0.44470177828467383,
          0.6679212612571933,
          0.5893757033834685,
          null
         ]
        },
        {
         "fill": "toself",
         "fillcolor": "rgba(244, 157, 126, 0.545)",
         "line": {
          "width": 3
         },
         "mode": "lines",
         "type": "scatter",
         "x": [
          0.32134377886017795,
          0.0630081231063718,
          0.20171668348772334,
          0.32134377886017795,
          null
         ],
         "y": [
          0.5893757033834685,
          0.6301319902976629,
          0.6679212612571933,
          0.5893757033834685,
          null
         ]
        },
        {
         "fill": "toself",
         "fillcolor": "rgba(244, 157, 126, 0.545)",
         "line": {
          "width": 3
         },
         "mode": "lines",
         "type": "scatter",
         "x": [
          0.32134377886017795,
          0.33562695768208617,
          0.20171668348772334,
          0.32134377886017795,
          null
         ],
         "y": [
          0.5893757033834685,
          0.4370405887674392,
          0.6679212612571933,
          0.5893757033834685,
          null
         ]
        },
        {
         "fill": "toself",
         "fillcolor": "rgba(244, 157, 126, 0.545)",
         "line": {
          "width": 3
         },
         "mode": "lines",
         "type": "scatter",
         "x": [
          -0.08425566700951496,
          -0.37168047518453645,
          -0.1125231714922423,
          -0.08425566700951496,
          null
         ],
         "y": [
          -0.6617285548273002,
          -0.6697684884876536,
          -0.3622057728280037,
          -0.6617285548273002,
          null
         ]
        },
        {
         "fill": "toself",
         "fillcolor": "rgba(244, 157, 126, 0.545)",
         "line": {
          "width": 3
         },
         "mode": "lines",
         "type": "scatter",
         "x": [
          -0.08425566700951496,
          -0.1125231714922423,
          -0.2057728370000087,
          -0.08425566700951496,
          null
         ],
         "y": [
          -0.6617285548273002,
          -0.3622057728280037,
          -0.8211847835192171,
          -0.6617285548273002,
          null
         ]
        },
        {
         "hoverinfo": "text",
         "marker": {
          "size": 14
         },
         "mode": "markers+text",
         "text": [
          "EC00690",
          "EC00668",
          "EC00609",
          "EC00701",
          "EC00678",
          "KLP00215",
          "KLP00221",
          "KLP00218",
          "KLP00213",
          "KLP00187",
          "KLP00149",
          "KLP00177"
         ],
         "textfont": {
          "size": 14
         },
         "textposition": "top center",
         "type": "scatter",
         "x": [
          -0.08425566700951496,
          -0.37168047518453645,
          -0.1125231714922423,
          -0.2057728370000087,
          -0.46651806392708745,
          0.32134377886017795,
          0.03219622988071499,
          0.0982512663870819,
          0.18860717520923395,
          0.0630081231063718,
          0.33562695768208617,
          0.20171668348772334
         ],
         "y": [
          -0.6617285548273002,
          -0.6697684884876536,
          -0.3622057728280037,
          -0.8211847835192171,
          -1,
          0.5893757033834685,
          0.4912005282723632,
          0.2545157493993735,
          0.44470177828467383,
          0.6301319902976629,
          0.4370405887674392,
          0.6679212612571933
         ]
        }
       ],
       "layout": {
        "height": 600,
        "hovermode": "closest",
        "showlegend": false,
        "template": {
         "data": {
          "bar": [
           {
            "error_x": {
             "color": "#2a3f5f"
            },
            "error_y": {
             "color": "#2a3f5f"
            },
            "marker": {
             "line": {
              "color": "#E5ECF6",
              "width": 0.5
             },
             "pattern": {
              "fillmode": "overlay",
              "size": 10,
              "solidity": 0.2
             }
            },
            "type": "bar"
           }
          ],
          "barpolar": [
           {
            "marker": {
             "line": {
              "color": "#E5ECF6",
              "width": 0.5
             },
             "pattern": {
              "fillmode": "overlay",
              "size": 10,
              "solidity": 0.2
             }
            },
            "type": "barpolar"
           }
          ],
          "carpet": [
           {
            "aaxis": {
             "endlinecolor": "#2a3f5f",
             "gridcolor": "white",
             "linecolor": "white",
             "minorgridcolor": "white",
             "startlinecolor": "#2a3f5f"
            },
            "baxis": {
             "endlinecolor": "#2a3f5f",
             "gridcolor": "white",
             "linecolor": "white",
             "minorgridcolor": "white",
             "startlinecolor": "#2a3f5f"
            },
            "type": "carpet"
           }
          ],
          "choropleth": [
           {
            "colorbar": {
             "outlinewidth": 0,
             "ticks": ""
            },
            "type": "choropleth"
           }
          ],
          "contour": [
           {
            "colorbar": {
             "outlinewidth": 0,
             "ticks": ""
            },
            "colorscale": [
             [
              0,
              "#0d0887"
             ],
             [
              0.1111111111111111,
              "#46039f"
             ],
             [
              0.2222222222222222,
              "#7201a8"
             ],
             [
              0.3333333333333333,
              "#9c179e"
             ],
             [
              0.4444444444444444,
              "#bd3786"
             ],
             [
              0.5555555555555556,
              "#d8576b"
             ],
             [
              0.6666666666666666,
              "#ed7953"
             ],
             [
              0.7777777777777778,
              "#fb9f3a"
             ],
             [
              0.8888888888888888,
              "#fdca26"
             ],
             [
              1,
              "#f0f921"
             ]
            ],
            "type": "contour"
           }
          ],
          "contourcarpet": [
           {
            "colorbar": {
             "outlinewidth": 0,
             "ticks": ""
            },
            "type": "contourcarpet"
           }
          ],
          "heatmap": [
           {
            "colorbar": {
             "outlinewidth": 0,
             "ticks": ""
            },
            "colorscale": [
             [
              0,
              "#0d0887"
             ],
             [
              0.1111111111111111,
              "#46039f"
             ],
             [
              0.2222222222222222,
              "#7201a8"
             ],
             [
              0.3333333333333333,
              "#9c179e"
             ],
             [
              0.4444444444444444,
              "#bd3786"
             ],
             [
              0.5555555555555556,
              "#d8576b"
             ],
             [
              0.6666666666666666,
              "#ed7953"
             ],
             [
              0.7777777777777778,
              "#fb9f3a"
             ],
             [
              0.8888888888888888,
              "#fdca26"
             ],
             [
              1,
              "#f0f921"
             ]
            ],
            "type": "heatmap"
           }
          ],
          "heatmapgl": [
           {
            "colorbar": {
             "outlinewidth": 0,
             "ticks": ""
            },
            "colorscale": [
             [
              0,
              "#0d0887"
             ],
             [
              0.1111111111111111,
              "#46039f"
             ],
             [
              0.2222222222222222,
              "#7201a8"
             ],
             [
              0.3333333333333333,
              "#9c179e"
             ],
             [
              0.4444444444444444,
              "#bd3786"
             ],
             [
              0.5555555555555556,
              "#d8576b"
             ],
             [
              0.6666666666666666,
              "#ed7953"
             ],
             [
              0.7777777777777778,
              "#fb9f3a"
             ],
             [
              0.8888888888888888,
              "#fdca26"
             ],
             [
              1,
              "#f0f921"
             ]
            ],
            "type": "heatmapgl"
           }
          ],
          "histogram": [
           {
            "marker": {
             "pattern": {
              "fillmode": "overlay",
              "size": 10,
              "solidity": 0.2
             }
            },
            "type": "histogram"
           }
          ],
          "histogram2d": [
           {
            "colorbar": {
             "outlinewidth": 0,
             "ticks": ""
            },
            "colorscale": [
             [
              0,
              "#0d0887"
             ],
             [
              0.1111111111111111,
              "#46039f"
             ],
             [
              0.2222222222222222,
              "#7201a8"
             ],
             [
              0.3333333333333333,
              "#9c179e"
             ],
             [
              0.4444444444444444,
              "#bd3786"
             ],
             [
              0.5555555555555556,
              "#d8576b"
             ],
             [
              0.6666666666666666,
              "#ed7953"
             ],
             [
              0.7777777777777778,
              "#fb9f3a"
             ],
             [
              0.8888888888888888,
              "#fdca26"
             ],
             [
              1,
              "#f0f921"
             ]
            ],
            "type": "histogram2d"
           }
          ],
          "histogram2dcontour": [
           {
            "colorbar": {
             "outlinewidth": 0,
             "ticks": ""
            },
            "colorscale": [
             [
              0,
              "#0d0887"
             ],
             [
              0.1111111111111111,
              "#46039f"
             ],
             [
              0.2222222222222222,
              "#7201a8"
             ],
             [
              0.3333333333333333,
              "#9c179e"
             ],
             [
              0.4444444444444444,
              "#bd3786"
             ],
             [
              0.5555555555555556,
              "#d8576b"
             ],
             [
              0.6666666666666666,
              "#ed7953"
             ],
             [
              0.7777777777777778,
              "#fb9f3a"
             ],
             [
              0.8888888888888888,
              "#fdca26"
             ],
             [
              1,
              "#f0f921"
             ]
            ],
            "type": "histogram2dcontour"
           }
          ],
          "mesh3d": [
           {
            "colorbar": {
             "outlinewidth": 0,
             "ticks": ""
            },
            "type": "mesh3d"
           }
          ],
          "parcoords": [
           {
            "line": {
             "colorbar": {
              "outlinewidth": 0,
              "ticks": ""
             }
            },
            "type": "parcoords"
           }
          ],
          "pie": [
           {
            "automargin": true,
            "type": "pie"
           }
          ],
          "scatter": [
           {
            "fillpattern": {
             "fillmode": "overlay",
             "size": 10,
             "solidity": 0.2
            },
            "type": "scatter"
           }
          ],
          "scatter3d": [
           {
            "line": {
             "colorbar": {
              "outlinewidth": 0,
              "ticks": ""
             }
            },
            "marker": {
             "colorbar": {
              "outlinewidth": 0,
              "ticks": ""
             }
            },
            "type": "scatter3d"
           }
          ],
          "scattercarpet": [
           {
            "marker": {
             "colorbar": {
              "outlinewidth": 0,
              "ticks": ""
             }
            },
            "type": "scattercarpet"
           }
          ],
          "scattergeo": [
           {
            "marker": {
             "colorbar": {
              "outlinewidth": 0,
              "ticks": ""
             }
            },
            "type": "scattergeo"
           }
          ],
          "scattergl": [
           {
            "marker": {
             "colorbar": {
              "outlinewidth": 0,
              "ticks": ""
             }
            },
            "type": "scattergl"
           }
          ],
          "scattermapbox": [
           {
            "marker": {
             "colorbar": {
              "outlinewidth": 0,
              "ticks": ""
             }
            },
            "type": "scattermapbox"
           }
          ],
          "scatterpolar": [
           {
            "marker": {
             "colorbar": {
              "outlinewidth": 0,
              "ticks": ""
             }
            },
            "type": "scatterpolar"
           }
          ],
          "scatterpolargl": [
           {
            "marker": {
             "colorbar": {
              "outlinewidth": 0,
              "ticks": ""
             }
            },
            "type": "scatterpolargl"
           }
          ],
          "scatterternary": [
           {
            "marker": {
             "colorbar": {
              "outlinewidth": 0,
              "ticks": ""
             }
            },
            "type": "scatterternary"
           }
          ],
          "surface": [
           {
            "colorbar": {
             "outlinewidth": 0,
             "ticks": ""
            },
            "colorscale": [
             [
              0,
              "#0d0887"
             ],
             [
              0.1111111111111111,
              "#46039f"
             ],
             [
              0.2222222222222222,
              "#7201a8"
             ],
             [
              0.3333333333333333,
              "#9c179e"
             ],
             [
              0.4444444444444444,
              "#bd3786"
             ],
             [
              0.5555555555555556,
              "#d8576b"
             ],
             [
              0.6666666666666666,
              "#ed7953"
             ],
             [
              0.7777777777777778,
              "#fb9f3a"
             ],
             [
              0.8888888888888888,
              "#fdca26"
             ],
             [
              1,
              "#f0f921"
             ]
            ],
            "type": "surface"
           }
          ],
          "table": [
           {
            "cells": {
             "fill": {
              "color": "#EBF0F8"
             },
             "line": {
              "color": "white"
             }
            },
            "header": {
             "fill": {
              "color": "#C8D4E3"
             },
             "line": {
              "color": "white"
             }
            },
            "type": "table"
           }
          ]
         },
         "layout": {
          "annotationdefaults": {
           "arrowcolor": "#2a3f5f",
           "arrowhead": 0,
           "arrowwidth": 1
          },
          "autotypenumbers": "strict",
          "coloraxis": {
           "colorbar": {
            "outlinewidth": 0,
            "ticks": ""
           }
          },
          "colorscale": {
           "diverging": [
            [
             0,
             "#8e0152"
            ],
            [
             0.1,
             "#c51b7d"
            ],
            [
             0.2,
             "#de77ae"
            ],
            [
             0.3,
             "#f1b6da"
            ],
            [
             0.4,
             "#fde0ef"
            ],
            [
             0.5,
             "#f7f7f7"
            ],
            [
             0.6,
             "#e6f5d0"
            ],
            [
             0.7,
             "#b8e186"
            ],
            [
             0.8,
             "#7fbc41"
            ],
            [
             0.9,
             "#4d9221"
            ],
            [
             1,
             "#276419"
            ]
           ],
           "sequential": [
            [
             0,
             "#0d0887"
            ],
            [
             0.1111111111111111,
             "#46039f"
            ],
            [
             0.2222222222222222,
             "#7201a8"
            ],
            [
             0.3333333333333333,
             "#9c179e"
            ],
            [
             0.4444444444444444,
             "#bd3786"
            ],
            [
             0.5555555555555556,
             "#d8576b"
            ],
            [
             0.6666666666666666,
             "#ed7953"
            ],
            [
             0.7777777777777778,
             "#fb9f3a"
            ],
            [
             0.8888888888888888,
             "#fdca26"
            ],
            [
             1,
             "#f0f921"
            ]
           ],
           "sequentialminus": [
            [
             0,
             "#0d0887"
            ],
            [
             0.1111111111111111,
             "#46039f"
            ],
            [
             0.2222222222222222,
             "#7201a8"
            ],
            [
             0.3333333333333333,
             "#9c179e"
            ],
            [
             0.4444444444444444,
             "#bd3786"
            ],
            [
             0.5555555555555556,
             "#d8576b"
            ],
            [
             0.6666666666666666,
             "#ed7953"
            ],
            [
             0.7777777777777778,
             "#fb9f3a"
            ],
            [
             0.8888888888888888,
             "#fdca26"
            ],
            [
             1,
             "#f0f921"
            ]
           ]
          },
          "colorway": [
           "#636efa",
           "#EF553B",
           "#00cc96",
           "#ab63fa",
           "#FFA15A",
           "#19d3f3",
           "#FF6692",
           "#B6E880",
           "#FF97FF",
           "#FECB52"
          ],
          "font": {
           "color": "#2a3f5f"
          },
          "geo": {
           "bgcolor": "white",
           "lakecolor": "white",
           "landcolor": "#E5ECF6",
           "showlakes": true,
           "showland": true,
           "subunitcolor": "white"
          },
          "hoverlabel": {
           "align": "left"
          },
          "hovermode": "closest",
          "mapbox": {
           "style": "light"
          },
          "paper_bgcolor": "white",
          "plot_bgcolor": "#E5ECF6",
          "polar": {
           "angularaxis": {
            "gridcolor": "white",
            "linecolor": "white",
            "ticks": ""
           },
           "bgcolor": "#E5ECF6",
           "radialaxis": {
            "gridcolor": "white",
            "linecolor": "white",
            "ticks": ""
           }
          },
          "scene": {
           "xaxis": {
            "backgroundcolor": "#E5ECF6",
            "gridcolor": "white",
            "gridwidth": 2,
            "linecolor": "white",
            "showbackground": true,
            "ticks": "",
            "zerolinecolor": "white"
           },
           "yaxis": {
            "backgroundcolor": "#E5ECF6",
            "gridcolor": "white",
            "gridwidth": 2,
            "linecolor": "white",
            "showbackground": true,
            "ticks": "",
            "zerolinecolor": "white"
           },
           "zaxis": {
            "backgroundcolor": "#E5ECF6",
            "gridcolor": "white",
            "gridwidth": 2,
            "linecolor": "white",
            "showbackground": true,
            "ticks": "",
            "zerolinecolor": "white"
           }
          },
          "shapedefaults": {
           "line": {
            "color": "#2a3f5f"
           }
          },
          "ternary": {
           "aaxis": {
            "gridcolor": "white",
            "linecolor": "white",
            "ticks": ""
           },
           "baxis": {
            "gridcolor": "white",
            "linecolor": "white",
            "ticks": ""
           },
           "bgcolor": "#E5ECF6",
           "caxis": {
            "gridcolor": "white",
            "linecolor": "white",
            "ticks": ""
           }
          },
          "title": {
           "x": 0.05
          },
          "xaxis": {
           "automargin": true,
           "gridcolor": "white",
           "linecolor": "white",
           "ticks": "",
           "title": {
            "standoff": 15
           },
           "zerolinecolor": "white",
           "zerolinewidth": 2
          },
          "yaxis": {
           "automargin": true,
           "gridcolor": "white",
           "linecolor": "white",
           "ticks": "",
           "title": {
            "standoff": 15
           },
           "zerolinecolor": "white",
           "zerolinewidth": 2
          }
         }
        },
        "width": 600,
        "xaxis": {
         "showgrid": false,
         "tickfont": {
          "family": "Arial, sans-serif",
          "size": 16
         },
         "zeroline": false
        },
        "yaxis": {
         "showgrid": false,
         "tickfont": {
          "family": "Arial, sans-serif",
          "size": 16
         },
         "zeroline": false
        }
       }
      },
      "text/html": [
       "<div>                            <div id=\"5e5e549a-465d-43cb-85ee-a1b06405dc5e\" class=\"plotly-graph-div\" style=\"height:600px; width:600px;\"></div>            <script type=\"text/javascript\">                require([\"plotly\"], function(Plotly) {                    window.PLOTLYENV=window.PLOTLYENV || {};                                    if (document.getElementById(\"5e5e549a-465d-43cb-85ee-a1b06405dc5e\")) {                    Plotly.newPlot(                        \"5e5e549a-465d-43cb-85ee-a1b06405dc5e\",                        [{\"line\":{\"color\":\"rgba(153, 186, 254, 1.0)\",\"width\":3},\"mode\":\"lines\",\"x\":[-0.08425566700951496,-0.1125231714922423,null],\"y\":[-0.6617285548273002,-0.3622057728280037,null],\"type\":\"scatter\"},{\"line\":{\"color\":\"rgba(244, 157, 126, 1.0)\",\"width\":3},\"mode\":\"lines\",\"x\":[-0.08425566700951496,-0.37168047518453645,null],\"y\":[-0.6617285548273002,-0.6697684884876536,null],\"type\":\"scatter\"},{\"line\":{\"color\":\"rgba(239, 137, 108, 1.0)\",\"width\":3},\"mode\":\"lines\",\"x\":[-0.08425566700951496,-0.2057728370000087,null],\"y\":[-0.6617285548273002,-0.8211847835192171,null],\"type\":\"scatter\"},{\"line\":{\"color\":\"rgba(236, 210, 196, 1.0)\",\"width\":3},\"mode\":\"lines\",\"x\":[-0.37168047518453645,-0.1125231714922423,null],\"y\":[-0.6697684884876536,-0.3622057728280037,null],\"type\":\"scatter\"},{\"line\":{\"color\":\"rgba(246, 183, 156, 1.0)\",\"width\":3},\"mode\":\"lines\",\"x\":[-0.37168047518453645,-0.46651806392708745,null],\"y\":[-0.6697684884876536,-1.0,null],\"type\":\"scatter\"},{\"line\":{\"color\":\"rgba(200, 56, 53, 1.0)\",\"width\":3},\"mode\":\"lines\",\"x\":[-0.1125231714922423,-0.2057728370000087,null],\"y\":[-0.3622057728280037,-0.8211847835192171,null],\"type\":\"scatter\"},{\"line\":{\"color\":\"rgba(179, 3, 38, 1.0)\",\"width\":3},\"mode\":\"lines\",\"x\":[-0.1125231714922423,0.0982512663870819,null],\"y\":[-0.3622057728280037,0.2545157493993735,null],\"type\":\"scatter\"},{\"line\":{\"color\":\"rgba(234, 125, 97, 1.0)\",\"width\":3},\"mode\":\"lines\",\"x\":[-0.2057728370000087,-0.46651806392708745,null],\"y\":[-0.8211847835192171,-1.0,null],\"type\":\"scatter\"},{\"line\":{\"color\":\"rgba(218, 220, 223, 1.0)\",\"width\":3},\"mode\":\"lines\",\"x\":[0.32134377886017795,0.03219622988071499,null],\"y\":[0.5893757033834685,0.4912005282723632,null],\"type\":\"scatter\"},{\"line\":{\"color\":\"rgba(228, 216, 209, 1.0)\",\"width\":3},\"mode\":\"lines\",\"x\":[0.32134377886017795,0.33562695768208617,null],\"y\":[0.5893757033834685,0.4370405887674392,null],\"type\":\"scatter\"},{\"line\":{\"color\":\"rgba(236, 210, 196, 1.0)\",\"width\":3},\"mode\":\"lines\",\"x\":[0.32134377886017795,0.18860717520923395,null],\"y\":[0.5893757033834685,0.44470177828467383,null],\"type\":\"scatter\"},{\"line\":{\"color\":\"rgba(239, 206, 188, 1.0)\",\"width\":3},\"mode\":\"lines\",\"x\":[0.32134377886017795,0.0982512663870819,null],\"y\":[0.5893757033834685,0.2545157493993735,null],\"type\":\"scatter\"},{\"line\":{\"color\":\"rgba(244, 194, 170, 1.0)\",\"width\":3},\"mode\":\"lines\",\"x\":[0.32134377886017795,0.0630081231063718,null],\"y\":[0.5893757033834685,0.6301319902976629,null],\"type\":\"scatter\"},{\"line\":{\"color\":\"rgba(246, 183, 156, 1.0)\",\"width\":3},\"mode\":\"lines\",\"x\":[0.32134377886017795,0.20171668348772334,null],\"y\":[0.5893757033834685,0.6679212612571933,null],\"type\":\"scatter\"},{\"line\":{\"color\":\"rgba(111, 145, 242, 1.0)\",\"width\":3},\"mode\":\"lines\",\"x\":[0.03219622988071499,0.18860717520923395,null],\"y\":[0.4912005282723632,0.44470177828467383,null],\"type\":\"scatter\"},{\"line\":{\"color\":\"rgba(141, 175, 253, 1.0)\",\"width\":3},\"mode\":\"lines\",\"x\":[0.03219622988071499,0.0630081231063718,null],\"y\":[0.4912005282723632,0.6301319902976629,null],\"type\":\"scatter\"},{\"line\":{\"color\":\"rgba(144, 178, 254, 1.0)\",\"width\":3},\"mode\":\"lines\",\"x\":[0.03219622988071499,0.0982512663870819,null],\"y\":[0.4912005282723632,0.2545157493993735,null],\"type\":\"scatter\"},{\"line\":{\"color\":\"rgba(190, 211, 245, 1.0)\",\"width\":3},\"mode\":\"lines\",\"x\":[0.03219622988071499,0.33562695768208617,null],\"y\":[0.4912005282723632,0.4370405887674392,null],\"type\":\"scatter\"},{\"line\":{\"color\":\"rgba(190, 211, 245, 1.0)\",\"width\":3},\"mode\":\"lines\",\"x\":[0.03219622988071499,0.20171668348772334,null],\"y\":[0.4912005282723632,0.6679212612571933,null],\"type\":\"scatter\"},{\"line\":{\"color\":\"rgba(111, 145, 242, 1.0)\",\"width\":3},\"mode\":\"lines\",\"x\":[0.0982512663870819,0.18860717520923395,null],\"y\":[0.2545157493993735,0.44470177828467383,null],\"type\":\"scatter\"},{\"line\":{\"color\":\"rgba(144, 178, 254, 1.0)\",\"width\":3},\"mode\":\"lines\",\"x\":[0.0982512663870819,0.0630081231063718,null],\"y\":[0.2545157493993735,0.6301319902976629,null],\"type\":\"scatter\"},{\"line\":{\"color\":\"rgba(160, 191, 254, 1.0)\",\"width\":3},\"mode\":\"lines\",\"x\":[0.0982512663870819,0.20171668348772334,null],\"y\":[0.2545157493993735,0.6679212612571933,null],\"type\":\"scatter\"},{\"line\":{\"color\":\"rgba(190, 211, 245, 1.0)\",\"width\":3},\"mode\":\"lines\",\"x\":[0.0982512663870819,0.33562695768208617,null],\"y\":[0.2545157493993735,0.4370405887674392,null],\"type\":\"scatter\"},{\"line\":{\"color\":\"rgba(111, 145, 242, 1.0)\",\"width\":3},\"mode\":\"lines\",\"x\":[0.18860717520923395,0.0630081231063718,null],\"y\":[0.44470177828467383,0.6301319902976629,null],\"type\":\"scatter\"},{\"line\":{\"color\":\"rgba(151, 184, 254, 1.0)\",\"width\":3},\"mode\":\"lines\",\"x\":[0.18860717520923395,0.20171668348772334,null],\"y\":[0.44470177828467383,0.6679212612571933,null],\"type\":\"scatter\"},{\"line\":{\"color\":\"rgba(197, 213, 242, 1.0)\",\"width\":3},\"mode\":\"lines\",\"x\":[0.18860717520923395,0.33562695768208617,null],\"y\":[0.44470177828467383,0.4370405887674392,null],\"type\":\"scatter\"},{\"line\":{\"color\":\"rgba(153, 186, 254, 1.0)\",\"width\":3},\"mode\":\"lines\",\"x\":[0.0630081231063718,0.20171668348772334,null],\"y\":[0.6301319902976629,0.6679212612571933,null],\"type\":\"scatter\"},{\"line\":{\"color\":\"rgba(225, 218, 214, 1.0)\",\"width\":3},\"mode\":\"lines\",\"x\":[0.0630081231063718,0.33562695768208617,null],\"y\":[0.6301319902976629,0.4370405887674392,null],\"type\":\"scatter\"},{\"line\":{\"color\":\"rgba(218, 220, 223, 1.0)\",\"width\":3},\"mode\":\"lines\",\"x\":[0.33562695768208617,0.20171668348772334,null],\"y\":[0.4370405887674392,0.6679212612571933,null],\"type\":\"scatter\"},{\"fill\":\"toself\",\"fillcolor\":\"rgba(244, 157, 126, 0.545)\",\"line\":{\"width\":3},\"mode\":\"lines\",\"x\":[0.03219622988071499,0.18860717520923395,0.0630081231063718,0.03219622988071499,null],\"y\":[0.4912005282723632,0.44470177828467383,0.6301319902976629,0.4912005282723632,null],\"type\":\"scatter\"},{\"fill\":\"toself\",\"fillcolor\":\"rgba(244, 157, 126, 0.545)\",\"line\":{\"width\":3},\"mode\":\"lines\",\"x\":[0.03219622988071499,0.0982512663870819,0.18860717520923395,0.03219622988071499,null],\"y\":[0.4912005282723632,0.2545157493993735,0.44470177828467383,0.4912005282723632,null],\"type\":\"scatter\"},{\"fill\":\"toself\",\"fillcolor\":\"rgba(244, 157, 126, 0.545)\",\"line\":{\"width\":3},\"mode\":\"lines\",\"x\":[0.03219622988071499,0.0982512663870819,0.0630081231063718,0.03219622988071499,null],\"y\":[0.4912005282723632,0.2545157493993735,0.6301319902976629,0.4912005282723632,null],\"type\":\"scatter\"},{\"fill\":\"toself\",\"fillcolor\":\"rgba(244, 157, 126, 0.545)\",\"line\":{\"width\":3},\"mode\":\"lines\",\"x\":[0.0982512663870819,0.18860717520923395,0.0630081231063718,0.0982512663870819,null],\"y\":[0.2545157493993735,0.44470177828467383,0.6301319902976629,0.2545157493993735,null],\"type\":\"scatter\"},{\"fill\":\"toself\",\"fillcolor\":\"rgba(244, 157, 126, 0.545)\",\"line\":{\"width\":3},\"mode\":\"lines\",\"x\":[0.18860717520923395,0.0630081231063718,0.20171668348772334,0.18860717520923395,null],\"y\":[0.44470177828467383,0.6301319902976629,0.6679212612571933,0.44470177828467383,null],\"type\":\"scatter\"},{\"fill\":\"toself\",\"fillcolor\":\"rgba(244, 157, 126, 0.545)\",\"line\":{\"width\":3},\"mode\":\"lines\",\"x\":[0.0982512663870819,0.18860717520923395,0.20171668348772334,0.0982512663870819,null],\"y\":[0.2545157493993735,0.44470177828467383,0.6679212612571933,0.2545157493993735,null],\"type\":\"scatter\"},{\"fill\":\"toself\",\"fillcolor\":\"rgba(244, 157, 126, 0.545)\",\"line\":{\"width\":3},\"mode\":\"lines\",\"x\":[0.0982512663870819,0.0630081231063718,0.20171668348772334,0.0982512663870819,null],\"y\":[0.2545157493993735,0.6301319902976629,0.6679212612571933,0.2545157493993735,null],\"type\":\"scatter\"},{\"fill\":\"toself\",\"fillcolor\":\"rgba(244, 157, 126, 0.545)\",\"line\":{\"width\":3},\"mode\":\"lines\",\"x\":[0.03219622988071499,0.0982512663870819,0.33562695768208617,0.03219622988071499,null],\"y\":[0.4912005282723632,0.2545157493993735,0.4370405887674392,0.4912005282723632,null],\"type\":\"scatter\"},{\"fill\":\"toself\",\"fillcolor\":\"rgba(244, 157, 126, 0.545)\",\"line\":{\"width\":3},\"mode\":\"lines\",\"x\":[0.03219622988071499,0.0982512663870819,0.20171668348772334,0.03219622988071499,null],\"y\":[0.4912005282723632,0.2545157493993735,0.6679212612571933,0.4912005282723632,null],\"type\":\"scatter\"},{\"fill\":\"toself\",\"fillcolor\":\"rgba(244, 157, 126, 0.545)\",\"line\":{\"width\":3},\"mode\":\"lines\",\"x\":[0.03219622988071499,0.18860717520923395,0.20171668348772334,0.03219622988071499,null],\"y\":[0.4912005282723632,0.44470177828467383,0.6679212612571933,0.4912005282723632,null],\"type\":\"scatter\"},{\"fill\":\"toself\",\"fillcolor\":\"rgba(244, 157, 126, 0.545)\",\"line\":{\"width\":3},\"mode\":\"lines\",\"x\":[0.03219622988071499,0.0630081231063718,0.20171668348772334,0.03219622988071499,null],\"y\":[0.4912005282723632,0.6301319902976629,0.6679212612571933,0.4912005282723632,null],\"type\":\"scatter\"},{\"fill\":\"toself\",\"fillcolor\":\"rgba(244, 157, 126, 0.545)\",\"line\":{\"width\":3},\"mode\":\"lines\",\"x\":[0.03219622988071499,0.18860717520923395,0.33562695768208617,0.03219622988071499,null],\"y\":[0.4912005282723632,0.44470177828467383,0.4370405887674392,0.4912005282723632,null],\"type\":\"scatter\"},{\"fill\":\"toself\",\"fillcolor\":\"rgba(244, 157, 126, 0.545)\",\"line\":{\"width\":3},\"mode\":\"lines\",\"x\":[0.0982512663870819,0.18860717520923395,0.33562695768208617,0.0982512663870819,null],\"y\":[0.2545157493993735,0.44470177828467383,0.4370405887674392,0.2545157493993735,null],\"type\":\"scatter\"},{\"fill\":\"toself\",\"fillcolor\":\"rgba(244, 157, 126, 0.545)\",\"line\":{\"width\":3},\"mode\":\"lines\",\"x\":[0.03219622988071499,0.33562695768208617,0.20171668348772334,0.03219622988071499,null],\"y\":[0.4912005282723632,0.4370405887674392,0.6679212612571933,0.4912005282723632,null],\"type\":\"scatter\"},{\"fill\":\"toself\",\"fillcolor\":\"rgba(244, 157, 126, 0.545)\",\"line\":{\"width\":3},\"mode\":\"lines\",\"x\":[0.0982512663870819,0.33562695768208617,0.20171668348772334,0.0982512663870819,null],\"y\":[0.2545157493993735,0.4370405887674392,0.6679212612571933,0.2545157493993735,null],\"type\":\"scatter\"},{\"fill\":\"toself\",\"fillcolor\":\"rgba(244, 157, 126, 0.545)\",\"line\":{\"width\":3},\"mode\":\"lines\",\"x\":[0.18860717520923395,0.33562695768208617,0.20171668348772334,0.18860717520923395,null],\"y\":[0.44470177828467383,0.4370405887674392,0.6679212612571933,0.44470177828467383,null],\"type\":\"scatter\"},{\"fill\":\"toself\",\"fillcolor\":\"rgba(244, 157, 126, 0.545)\",\"line\":{\"width\":3},\"mode\":\"lines\",\"x\":[0.03219622988071499,0.0630081231063718,0.33562695768208617,0.03219622988071499,null],\"y\":[0.4912005282723632,0.6301319902976629,0.4370405887674392,0.4912005282723632,null],\"type\":\"scatter\"},{\"fill\":\"toself\",\"fillcolor\":\"rgba(244, 157, 126, 0.545)\",\"line\":{\"width\":3},\"mode\":\"lines\",\"x\":[0.0982512663870819,0.0630081231063718,0.33562695768208617,0.0982512663870819,null],\"y\":[0.2545157493993735,0.6301319902976629,0.4370405887674392,0.2545157493993735,null],\"type\":\"scatter\"},{\"fill\":\"toself\",\"fillcolor\":\"rgba(244, 157, 126, 0.545)\",\"line\":{\"width\":3},\"mode\":\"lines\",\"x\":[0.18860717520923395,0.0630081231063718,0.33562695768208617,0.18860717520923395,null],\"y\":[0.44470177828467383,0.6301319902976629,0.4370405887674392,0.44470177828467383,null],\"type\":\"scatter\"},{\"fill\":\"toself\",\"fillcolor\":\"rgba(244, 157, 126, 0.545)\",\"line\":{\"width\":3},\"mode\":\"lines\",\"x\":[0.0630081231063718,0.33562695768208617,0.20171668348772334,0.0630081231063718,null],\"y\":[0.6301319902976629,0.4370405887674392,0.6679212612571933,0.6301319902976629,null],\"type\":\"scatter\"},{\"fill\":\"toself\",\"fillcolor\":\"rgba(244, 157, 126, 0.545)\",\"line\":{\"width\":3},\"mode\":\"lines\",\"x\":[0.32134377886017795,0.03219622988071499,0.33562695768208617,0.32134377886017795,null],\"y\":[0.5893757033834685,0.4912005282723632,0.4370405887674392,0.5893757033834685,null],\"type\":\"scatter\"},{\"fill\":\"toself\",\"fillcolor\":\"rgba(244, 157, 126, 0.545)\",\"line\":{\"width\":3},\"mode\":\"lines\",\"x\":[0.32134377886017795,0.03219622988071499,0.18860717520923395,0.32134377886017795,null],\"y\":[0.5893757033834685,0.4912005282723632,0.44470177828467383,0.5893757033834685,null],\"type\":\"scatter\"},{\"fill\":\"toself\",\"fillcolor\":\"rgba(244, 157, 126, 0.545)\",\"line\":{\"width\":3},\"mode\":\"lines\",\"x\":[0.32134377886017795,0.18860717520923395,0.33562695768208617,0.32134377886017795,null],\"y\":[0.5893757033834685,0.44470177828467383,0.4370405887674392,0.5893757033834685,null],\"type\":\"scatter\"},{\"fill\":\"toself\",\"fillcolor\":\"rgba(244, 157, 126, 0.545)\",\"line\":{\"width\":3},\"mode\":\"lines\",\"x\":[0.32134377886017795,0.03219622988071499,0.0982512663870819,0.32134377886017795,null],\"y\":[0.5893757033834685,0.4912005282723632,0.2545157493993735,0.5893757033834685,null],\"type\":\"scatter\"},{\"fill\":\"toself\",\"fillcolor\":\"rgba(244, 157, 126, 0.545)\",\"line\":{\"width\":3},\"mode\":\"lines\",\"x\":[0.32134377886017795,0.0982512663870819,0.18860717520923395,0.32134377886017795,null],\"y\":[0.5893757033834685,0.2545157493993735,0.44470177828467383,0.5893757033834685,null],\"type\":\"scatter\"},{\"fill\":\"toself\",\"fillcolor\":\"rgba(244, 157, 126, 0.545)\",\"line\":{\"width\":3},\"mode\":\"lines\",\"x\":[0.32134377886017795,0.0982512663870819,0.33562695768208617,0.32134377886017795,null],\"y\":[0.5893757033834685,0.2545157493993735,0.4370405887674392,0.5893757033834685,null],\"type\":\"scatter\"},{\"fill\":\"toself\",\"fillcolor\":\"rgba(244, 157, 126, 0.545)\",\"line\":{\"width\":3},\"mode\":\"lines\",\"x\":[0.32134377886017795,0.03219622988071499,0.0630081231063718,0.32134377886017795,null],\"y\":[0.5893757033834685,0.4912005282723632,0.6301319902976629,0.5893757033834685,null],\"type\":\"scatter\"},{\"fill\":\"toself\",\"fillcolor\":\"rgba(244, 157, 126, 0.545)\",\"line\":{\"width\":3},\"mode\":\"lines\",\"x\":[0.32134377886017795,0.0982512663870819,0.0630081231063718,0.32134377886017795,null],\"y\":[0.5893757033834685,0.2545157493993735,0.6301319902976629,0.5893757033834685,null],\"type\":\"scatter\"},{\"fill\":\"toself\",\"fillcolor\":\"rgba(244, 157, 126, 0.545)\",\"line\":{\"width\":3},\"mode\":\"lines\",\"x\":[0.32134377886017795,0.18860717520923395,0.0630081231063718,0.32134377886017795,null],\"y\":[0.5893757033834685,0.44470177828467383,0.6301319902976629,0.5893757033834685,null],\"type\":\"scatter\"},{\"fill\":\"toself\",\"fillcolor\":\"rgba(244, 157, 126, 0.545)\",\"line\":{\"width\":3},\"mode\":\"lines\",\"x\":[0.32134377886017795,0.0630081231063718,0.33562695768208617,0.32134377886017795,null],\"y\":[0.5893757033834685,0.6301319902976629,0.4370405887674392,0.5893757033834685,null],\"type\":\"scatter\"},{\"fill\":\"toself\",\"fillcolor\":\"rgba(244, 157, 126, 0.545)\",\"line\":{\"width\":3},\"mode\":\"lines\",\"x\":[0.32134377886017795,0.03219622988071499,0.20171668348772334,0.32134377886017795,null],\"y\":[0.5893757033834685,0.4912005282723632,0.6679212612571933,0.5893757033834685,null],\"type\":\"scatter\"},{\"fill\":\"toself\",\"fillcolor\":\"rgba(244, 157, 126, 0.545)\",\"line\":{\"width\":3},\"mode\":\"lines\",\"x\":[0.32134377886017795,0.0982512663870819,0.20171668348772334,0.32134377886017795,null],\"y\":[0.5893757033834685,0.2545157493993735,0.6679212612571933,0.5893757033834685,null],\"type\":\"scatter\"},{\"fill\":\"toself\",\"fillcolor\":\"rgba(244, 157, 126, 0.545)\",\"line\":{\"width\":3},\"mode\":\"lines\",\"x\":[0.32134377886017795,0.18860717520923395,0.20171668348772334,0.32134377886017795,null],\"y\":[0.5893757033834685,0.44470177828467383,0.6679212612571933,0.5893757033834685,null],\"type\":\"scatter\"},{\"fill\":\"toself\",\"fillcolor\":\"rgba(244, 157, 126, 0.545)\",\"line\":{\"width\":3},\"mode\":\"lines\",\"x\":[0.32134377886017795,0.0630081231063718,0.20171668348772334,0.32134377886017795,null],\"y\":[0.5893757033834685,0.6301319902976629,0.6679212612571933,0.5893757033834685,null],\"type\":\"scatter\"},{\"fill\":\"toself\",\"fillcolor\":\"rgba(244, 157, 126, 0.545)\",\"line\":{\"width\":3},\"mode\":\"lines\",\"x\":[0.32134377886017795,0.33562695768208617,0.20171668348772334,0.32134377886017795,null],\"y\":[0.5893757033834685,0.4370405887674392,0.6679212612571933,0.5893757033834685,null],\"type\":\"scatter\"},{\"fill\":\"toself\",\"fillcolor\":\"rgba(244, 157, 126, 0.545)\",\"line\":{\"width\":3},\"mode\":\"lines\",\"x\":[-0.08425566700951496,-0.37168047518453645,-0.1125231714922423,-0.08425566700951496,null],\"y\":[-0.6617285548273002,-0.6697684884876536,-0.3622057728280037,-0.6617285548273002,null],\"type\":\"scatter\"},{\"fill\":\"toself\",\"fillcolor\":\"rgba(244, 157, 126, 0.545)\",\"line\":{\"width\":3},\"mode\":\"lines\",\"x\":[-0.08425566700951496,-0.1125231714922423,-0.2057728370000087,-0.08425566700951496,null],\"y\":[-0.6617285548273002,-0.3622057728280037,-0.8211847835192171,-0.6617285548273002,null],\"type\":\"scatter\"},{\"hoverinfo\":\"text\",\"marker\":{\"size\":14},\"mode\":\"markers+text\",\"text\":[\"EC00690\",\"EC00668\",\"EC00609\",\"EC00701\",\"EC00678\",\"KLP00215\",\"KLP00221\",\"KLP00218\",\"KLP00213\",\"KLP00187\",\"KLP00149\",\"KLP00177\"],\"textfont\":{\"size\":14},\"textposition\":\"top center\",\"x\":[-0.08425566700951496,-0.37168047518453645,-0.1125231714922423,-0.2057728370000087,-0.46651806392708745,0.32134377886017795,0.03219622988071499,0.0982512663870819,0.18860717520923395,0.0630081231063718,0.33562695768208617,0.20171668348772334],\"y\":[-0.6617285548273002,-0.6697684884876536,-0.3622057728280037,-0.8211847835192171,-1.0,0.5893757033834685,0.4912005282723632,0.2545157493993735,0.44470177828467383,0.6301319902976629,0.4370405887674392,0.6679212612571933],\"type\":\"scatter\"}],                        {\"hovermode\":\"closest\",\"showlegend\":false,\"xaxis\":{\"showgrid\":false,\"tickfont\":{\"family\":\"Arial, sans-serif\",\"size\":16},\"zeroline\":false},\"yaxis\":{\"showgrid\":false,\"tickfont\":{\"family\":\"Arial, sans-serif\",\"size\":16},\"zeroline\":false},\"template\":{\"data\":{\"histogram2dcontour\":[{\"type\":\"histogram2dcontour\",\"colorbar\":{\"outlinewidth\":0,\"ticks\":\"\"},\"colorscale\":[[0.0,\"#0d0887\"],[0.1111111111111111,\"#46039f\"],[0.2222222222222222,\"#7201a8\"],[0.3333333333333333,\"#9c179e\"],[0.4444444444444444,\"#bd3786\"],[0.5555555555555556,\"#d8576b\"],[0.6666666666666666,\"#ed7953\"],[0.7777777777777778,\"#fb9f3a\"],[0.8888888888888888,\"#fdca26\"],[1.0,\"#f0f921\"]]}],\"choropleth\":[{\"type\":\"choropleth\",\"colorbar\":{\"outlinewidth\":0,\"ticks\":\"\"}}],\"histogram2d\":[{\"type\":\"histogram2d\",\"colorbar\":{\"outlinewidth\":0,\"ticks\":\"\"},\"colorscale\":[[0.0,\"#0d0887\"],[0.1111111111111111,\"#46039f\"],[0.2222222222222222,\"#7201a8\"],[0.3333333333333333,\"#9c179e\"],[0.4444444444444444,\"#bd3786\"],[0.5555555555555556,\"#d8576b\"],[0.6666666666666666,\"#ed7953\"],[0.7777777777777778,\"#fb9f3a\"],[0.8888888888888888,\"#fdca26\"],[1.0,\"#f0f921\"]]}],\"heatmap\":[{\"type\":\"heatmap\",\"colorbar\":{\"outlinewidth\":0,\"ticks\":\"\"},\"colorscale\":[[0.0,\"#0d0887\"],[0.1111111111111111,\"#46039f\"],[0.2222222222222222,\"#7201a8\"],[0.3333333333333333,\"#9c179e\"],[0.4444444444444444,\"#bd3786\"],[0.5555555555555556,\"#d8576b\"],[0.6666666666666666,\"#ed7953\"],[0.7777777777777778,\"#fb9f3a\"],[0.8888888888888888,\"#fdca26\"],[1.0,\"#f0f921\"]]}],\"heatmapgl\":[{\"type\":\"heatmapgl\",\"colorbar\":{\"outlinewidth\":0,\"ticks\":\"\"},\"colorscale\":[[0.0,\"#0d0887\"],[0.1111111111111111,\"#46039f\"],[0.2222222222222222,\"#7201a8\"],[0.3333333333333333,\"#9c179e\"],[0.4444444444444444,\"#bd3786\"],[0.5555555555555556,\"#d8576b\"],[0.6666666666666666,\"#ed7953\"],[0.7777777777777778,\"#fb9f3a\"],[0.8888888888888888,\"#fdca26\"],[1.0,\"#f0f921\"]]}],\"contourcarpet\":[{\"type\":\"contourcarpet\",\"colorbar\":{\"outlinewidth\":0,\"ticks\":\"\"}}],\"contour\":[{\"type\":\"contour\",\"colorbar\":{\"outlinewidth\":0,\"ticks\":\"\"},\"colorscale\":[[0.0,\"#0d0887\"],[0.1111111111111111,\"#46039f\"],[0.2222222222222222,\"#7201a8\"],[0.3333333333333333,\"#9c179e\"],[0.4444444444444444,\"#bd3786\"],[0.5555555555555556,\"#d8576b\"],[0.6666666666666666,\"#ed7953\"],[0.7777777777777778,\"#fb9f3a\"],[0.8888888888888888,\"#fdca26\"],[1.0,\"#f0f921\"]]}],\"surface\":[{\"type\":\"surface\",\"colorbar\":{\"outlinewidth\":0,\"ticks\":\"\"},\"colorscale\":[[0.0,\"#0d0887\"],[0.1111111111111111,\"#46039f\"],[0.2222222222222222,\"#7201a8\"],[0.3333333333333333,\"#9c179e\"],[0.4444444444444444,\"#bd3786\"],[0.5555555555555556,\"#d8576b\"],[0.6666666666666666,\"#ed7953\"],[0.7777777777777778,\"#fb9f3a\"],[0.8888888888888888,\"#fdca26\"],[1.0,\"#f0f921\"]]}],\"mesh3d\":[{\"type\":\"mesh3d\",\"colorbar\":{\"outlinewidth\":0,\"ticks\":\"\"}}],\"scatter\":[{\"fillpattern\":{\"fillmode\":\"overlay\",\"size\":10,\"solidity\":0.2},\"type\":\"scatter\"}],\"parcoords\":[{\"type\":\"parcoords\",\"line\":{\"colorbar\":{\"outlinewidth\":0,\"ticks\":\"\"}}}],\"scatterpolargl\":[{\"type\":\"scatterpolargl\",\"marker\":{\"colorbar\":{\"outlinewidth\":0,\"ticks\":\"\"}}}],\"bar\":[{\"error_x\":{\"color\":\"#2a3f5f\"},\"error_y\":{\"color\":\"#2a3f5f\"},\"marker\":{\"line\":{\"color\":\"#E5ECF6\",\"width\":0.5},\"pattern\":{\"fillmode\":\"overlay\",\"size\":10,\"solidity\":0.2}},\"type\":\"bar\"}],\"scattergeo\":[{\"type\":\"scattergeo\",\"marker\":{\"colorbar\":{\"outlinewidth\":0,\"ticks\":\"\"}}}],\"scatterpolar\":[{\"type\":\"scatterpolar\",\"marker\":{\"colorbar\":{\"outlinewidth\":0,\"ticks\":\"\"}}}],\"histogram\":[{\"marker\":{\"pattern\":{\"fillmode\":\"overlay\",\"size\":10,\"solidity\":0.2}},\"type\":\"histogram\"}],\"scattergl\":[{\"type\":\"scattergl\",\"marker\":{\"colorbar\":{\"outlinewidth\":0,\"ticks\":\"\"}}}],\"scatter3d\":[{\"type\":\"scatter3d\",\"line\":{\"colorbar\":{\"outlinewidth\":0,\"ticks\":\"\"}},\"marker\":{\"colorbar\":{\"outlinewidth\":0,\"ticks\":\"\"}}}],\"scattermapbox\":[{\"type\":\"scattermapbox\",\"marker\":{\"colorbar\":{\"outlinewidth\":0,\"ticks\":\"\"}}}],\"scatterternary\":[{\"type\":\"scatterternary\",\"marker\":{\"colorbar\":{\"outlinewidth\":0,\"ticks\":\"\"}}}],\"scattercarpet\":[{\"type\":\"scattercarpet\",\"marker\":{\"colorbar\":{\"outlinewidth\":0,\"ticks\":\"\"}}}],\"carpet\":[{\"aaxis\":{\"endlinecolor\":\"#2a3f5f\",\"gridcolor\":\"white\",\"linecolor\":\"white\",\"minorgridcolor\":\"white\",\"startlinecolor\":\"#2a3f5f\"},\"baxis\":{\"endlinecolor\":\"#2a3f5f\",\"gridcolor\":\"white\",\"linecolor\":\"white\",\"minorgridcolor\":\"white\",\"startlinecolor\":\"#2a3f5f\"},\"type\":\"carpet\"}],\"table\":[{\"cells\":{\"fill\":{\"color\":\"#EBF0F8\"},\"line\":{\"color\":\"white\"}},\"header\":{\"fill\":{\"color\":\"#C8D4E3\"},\"line\":{\"color\":\"white\"}},\"type\":\"table\"}],\"barpolar\":[{\"marker\":{\"line\":{\"color\":\"#E5ECF6\",\"width\":0.5},\"pattern\":{\"fillmode\":\"overlay\",\"size\":10,\"solidity\":0.2}},\"type\":\"barpolar\"}],\"pie\":[{\"automargin\":true,\"type\":\"pie\"}]},\"layout\":{\"autotypenumbers\":\"strict\",\"colorway\":[\"#636efa\",\"#EF553B\",\"#00cc96\",\"#ab63fa\",\"#FFA15A\",\"#19d3f3\",\"#FF6692\",\"#B6E880\",\"#FF97FF\",\"#FECB52\"],\"font\":{\"color\":\"#2a3f5f\"},\"hovermode\":\"closest\",\"hoverlabel\":{\"align\":\"left\"},\"paper_bgcolor\":\"white\",\"plot_bgcolor\":\"#E5ECF6\",\"polar\":{\"bgcolor\":\"#E5ECF6\",\"angularaxis\":{\"gridcolor\":\"white\",\"linecolor\":\"white\",\"ticks\":\"\"},\"radialaxis\":{\"gridcolor\":\"white\",\"linecolor\":\"white\",\"ticks\":\"\"}},\"ternary\":{\"bgcolor\":\"#E5ECF6\",\"aaxis\":{\"gridcolor\":\"white\",\"linecolor\":\"white\",\"ticks\":\"\"},\"baxis\":{\"gridcolor\":\"white\",\"linecolor\":\"white\",\"ticks\":\"\"},\"caxis\":{\"gridcolor\":\"white\",\"linecolor\":\"white\",\"ticks\":\"\"}},\"coloraxis\":{\"colorbar\":{\"outlinewidth\":0,\"ticks\":\"\"}},\"colorscale\":{\"sequential\":[[0.0,\"#0d0887\"],[0.1111111111111111,\"#46039f\"],[0.2222222222222222,\"#7201a8\"],[0.3333333333333333,\"#9c179e\"],[0.4444444444444444,\"#bd3786\"],[0.5555555555555556,\"#d8576b\"],[0.6666666666666666,\"#ed7953\"],[0.7777777777777778,\"#fb9f3a\"],[0.8888888888888888,\"#fdca26\"],[1.0,\"#f0f921\"]],\"sequentialminus\":[[0.0,\"#0d0887\"],[0.1111111111111111,\"#46039f\"],[0.2222222222222222,\"#7201a8\"],[0.3333333333333333,\"#9c179e\"],[0.4444444444444444,\"#bd3786\"],[0.5555555555555556,\"#d8576b\"],[0.6666666666666666,\"#ed7953\"],[0.7777777777777778,\"#fb9f3a\"],[0.8888888888888888,\"#fdca26\"],[1.0,\"#f0f921\"]],\"diverging\":[[0,\"#8e0152\"],[0.1,\"#c51b7d\"],[0.2,\"#de77ae\"],[0.3,\"#f1b6da\"],[0.4,\"#fde0ef\"],[0.5,\"#f7f7f7\"],[0.6,\"#e6f5d0\"],[0.7,\"#b8e186\"],[0.8,\"#7fbc41\"],[0.9,\"#4d9221\"],[1,\"#276419\"]]},\"xaxis\":{\"gridcolor\":\"white\",\"linecolor\":\"white\",\"ticks\":\"\",\"title\":{\"standoff\":15},\"zerolinecolor\":\"white\",\"automargin\":true,\"zerolinewidth\":2},\"yaxis\":{\"gridcolor\":\"white\",\"linecolor\":\"white\",\"ticks\":\"\",\"title\":{\"standoff\":15},\"zerolinecolor\":\"white\",\"automargin\":true,\"zerolinewidth\":2},\"scene\":{\"xaxis\":{\"backgroundcolor\":\"#E5ECF6\",\"gridcolor\":\"white\",\"linecolor\":\"white\",\"showbackground\":true,\"ticks\":\"\",\"zerolinecolor\":\"white\",\"gridwidth\":2},\"yaxis\":{\"backgroundcolor\":\"#E5ECF6\",\"gridcolor\":\"white\",\"linecolor\":\"white\",\"showbackground\":true,\"ticks\":\"\",\"zerolinecolor\":\"white\",\"gridwidth\":2},\"zaxis\":{\"backgroundcolor\":\"#E5ECF6\",\"gridcolor\":\"white\",\"linecolor\":\"white\",\"showbackground\":true,\"ticks\":\"\",\"zerolinecolor\":\"white\",\"gridwidth\":2}},\"shapedefaults\":{\"line\":{\"color\":\"#2a3f5f\"}},\"annotationdefaults\":{\"arrowcolor\":\"#2a3f5f\",\"arrowhead\":0,\"arrowwidth\":1},\"geo\":{\"bgcolor\":\"white\",\"landcolor\":\"#E5ECF6\",\"subunitcolor\":\"white\",\"showland\":true,\"showlakes\":true,\"lakecolor\":\"white\"},\"title\":{\"x\":0.05},\"mapbox\":{\"style\":\"light\"}}},\"width\":600,\"height\":600},                        {\"responsive\": true}                    ).then(function(){\n",
       "                            \n",
       "var gd = document.getElementById('5e5e549a-465d-43cb-85ee-a1b06405dc5e');\n",
       "var x = new MutationObserver(function (mutations, observer) {{\n",
       "        var display = window.getComputedStyle(gd).display;\n",
       "        if (!display || display === 'none') {{\n",
       "            console.log([gd, 'removed!']);\n",
       "            Plotly.purge(gd);\n",
       "            observer.disconnect();\n",
       "        }}\n",
       "}});\n",
       "\n",
       "// Listen for the removal of the full notebook cells\n",
       "var notebookContainer = gd.closest('#notebook-container');\n",
       "if (notebookContainer) {{\n",
       "    x.observe(notebookContainer, {childList: true});\n",
       "}}\n",
       "\n",
       "// Listen for the clearing of the current output cell\n",
       "var outputEl = gd.closest('.output');\n",
       "if (outputEl) {{\n",
       "    x.observe(outputEl, {childList: true});\n",
       "}}\n",
       "\n",
       "                        })                };                });            </script>        </div>"
      ]
     },
     "metadata": {},
     "output_type": "display_data"
    },
    {
     "data": {
      "text/plain": [
       "<networkx.classes.graph.Graph at 0x7f19806b2150>"
      ]
     },
     "execution_count": 24,
     "metadata": {},
     "output_type": "execute_result"
    }
   ],
   "source": [
    "visualize_simplicial_complex(simplex_tree3,108,strain_names,save_filename=\"plots/simplicial_108.svg\")"
   ]
  },
  {
   "cell_type": "code",
   "execution_count": 20,
   "id": "c63b3b99",
   "metadata": {},
   "outputs": [
    {
     "data": {
      "application/vnd.plotly.v1+json": {
       "config": {
        "plotlyServerURL": "https://plot.ly"
       },
       "data": [
        {
         "line": {
          "color": "rgba(145, 179, 254, 1.0)",
          "width": 3
         },
         "mode": "lines",
         "type": "scatter",
         "x": [
          0.45544566475981496,
          0.08992006045665993,
          null
         ],
         "y": [
          1,
          0.3360482105532291,
          null
         ]
        },
        {
         "line": {
          "color": "rgba(247, 179, 151, 1.0)",
          "width": 3
         },
         "mode": "lines",
         "type": "scatter",
         "x": [
          0.45544566475981496,
          0.2003812279548145,
          null
         ],
         "y": [
          1,
          0.8042196124763402,
          null
         ]
        },
        {
         "line": {
          "color": "rgba(246, 164, 134, 1.0)",
          "width": 3
         },
         "mode": "lines",
         "type": "scatter",
         "x": [
          0.45544566475981496,
          0.6936578168028874,
          null
         ],
         "y": [
          1,
          0.6533417649556992,
          null
         ]
        },
        {
         "line": {
          "color": "rgba(225, 218, 214, 1.0)",
          "width": 3
         },
         "mode": "lines",
         "type": "scatter",
         "x": [
          0.2003812279548145,
          0.08992006045665993,
          null
         ],
         "y": [
          0.8042196124763402,
          0.3360482105532291,
          null
         ]
        },
        {
         "line": {
          "color": "rgba(242, 199, 178, 1.0)",
          "width": 3
         },
         "mode": "lines",
         "type": "scatter",
         "x": [
          0.2003812279548145,
          0.4604652893866944,
          null
         ],
         "y": [
          0.8042196124763402,
          0.25962334201718107,
          null
         ]
        },
        {
         "line": {
          "color": "rgba(223, 100, 79, 1.0)",
          "width": 3
         },
         "mode": "lines",
         "type": "scatter",
         "x": [
          0.08992006045665993,
          0.6936578168028874,
          null
         ],
         "y": [
          0.3360482105532291,
          0.6533417649556992,
          null
         ]
        },
        {
         "line": {
          "color": "rgba(209, 73, 62, 1.0)",
          "width": 3
         },
         "mode": "lines",
         "type": "scatter",
         "x": [
          0.08992006045665993,
          -0.2732324205273399,
          null
         ],
         "y": [
          0.3360482105532291,
          -0.35237951104759774,
          null
         ]
        },
        {
         "line": {
          "color": "rgba(198, 53, 52, 1.0)",
          "width": 3
         },
         "mode": "lines",
         "type": "scatter",
         "x": [
          0.08992006045665993,
          0.4604652893866944,
          null
         ],
         "y": [
          0.3360482105532291,
          0.25962334201718107,
          null
         ]
        },
        {
         "line": {
          "color": "rgba(179, 3, 38, 1.0)",
          "width": 3
         },
         "mode": "lines",
         "type": "scatter",
         "x": [
          0.08992006045665993,
          -0.40792141278089394,
          null
         ],
         "y": [
          0.3360482105532291,
          -0.16728971232585776,
          null
         ]
        },
        {
         "line": {
          "color": "rgba(179, 3, 38, 1.0)",
          "width": 3
         },
         "mode": "lines",
         "type": "scatter",
         "x": [
          0.08992006045665993,
          -0.1328549749927915,
          null
         ],
         "y": [
          0.3360482105532291,
          -0.20727043254169078,
          null
         ]
        },
        {
         "line": {
          "color": "rgba(244, 155, 124, 1.0)",
          "width": 3
         },
         "mode": "lines",
         "type": "scatter",
         "x": [
          0.6936578168028874,
          0.4604652893866944,
          null
         ],
         "y": [
          0.6533417649556992,
          0.25962334201718107,
          null
         ]
        },
        {
         "line": {
          "color": "rgba(179, 3, 38, 1.0)",
          "width": 3
         },
         "mode": "lines",
         "type": "scatter",
         "x": [
          0.4604652893866944,
          0.046287087416770255,
          null
         ],
         "y": [
          0.25962334201718107,
          -0.40360425878508444,
          null
         ]
        },
        {
         "line": {
          "color": "rgba(206, 217, 235, 1.0)",
          "width": 3
         },
         "mode": "lines",
         "type": "scatter",
         "x": [
          0.046287087416770255,
          -0.4045680265363692,
          null
         ],
         "y": [
          -0.40360425878508444,
          -0.7057255562071982,
          null
         ]
        },
        {
         "line": {
          "color": "rgba(216, 219, 225, 1.0)",
          "width": 3
         },
         "mode": "lines",
         "type": "scatter",
         "x": [
          0.046287087416770255,
          -0.5638756081895392,
          null
         ],
         "y": [
          -0.40360425878508444,
          -0.5108850847800055,
          null
         ]
        },
        {
         "line": {
          "color": "rgba(225, 218, 214, 1.0)",
          "width": 3
         },
         "mode": "lines",
         "type": "scatter",
         "x": [
          0.046287087416770255,
          -0.40792141278089394,
          null
         ],
         "y": [
          -0.40360425878508444,
          -0.16728971232585776,
          null
         ]
        },
        {
         "line": {
          "color": "rgba(229, 216, 208, 1.0)",
          "width": 3
         },
         "mode": "lines",
         "type": "scatter",
         "x": [
          0.046287087416770255,
          -0.2732324205273399,
          null
         ],
         "y": [
          -0.40360425878508444,
          -0.35237951104759774,
          null
         ]
        },
        {
         "line": {
          "color": "rgba(237, 207, 192, 1.0)",
          "width": 3
         },
         "mode": "lines",
         "type": "scatter",
         "x": [
          0.046287087416770255,
          -0.1328549749927915,
          null
         ],
         "y": [
          -0.40360425878508444,
          -0.20727043254169078,
          null
         ]
        },
        {
         "line": {
          "color": "rgba(242, 199, 178, 1.0)",
          "width": 3
         },
         "mode": "lines",
         "type": "scatter",
         "x": [
          0.046287087416770255,
          -0.16370470375070803,
          null
         ],
         "y": [
          -0.40360425878508444,
          -0.7060783743150162,
          null
         ]
        },
        {
         "line": {
          "color": "rgba(107, 141, 240, 1.0)",
          "width": 3
         },
         "mode": "lines",
         "type": "scatter",
         "x": [
          -0.4045680265363692,
          -0.40792141278089394,
          null
         ],
         "y": [
          -0.7057255562071982,
          -0.16728971232585776,
          null
         ]
        },
        {
         "line": {
          "color": "rgba(133, 168, 251, 1.0)",
          "width": 3
         },
         "mode": "lines",
         "type": "scatter",
         "x": [
          -0.4045680265363692,
          -0.1328549749927915,
          null
         ],
         "y": [
          -0.7057255562071982,
          -0.20727043254169078,
          null
         ]
        },
        {
         "line": {
          "color": "rgba(135, 170, 252, 1.0)",
          "width": 3
         },
         "mode": "lines",
         "type": "scatter",
         "x": [
          -0.4045680265363692,
          -0.2732324205273399,
          null
         ],
         "y": [
          -0.7057255562071982,
          -0.35237951104759774,
          null
         ]
        },
        {
         "line": {
          "color": "rgba(180, 205, 250, 1.0)",
          "width": 3
         },
         "mode": "lines",
         "type": "scatter",
         "x": [
          -0.4045680265363692,
          -0.5638756081895392,
          null
         ],
         "y": [
          -0.7057255562071982,
          -0.5108850847800055,
          null
         ]
        },
        {
         "line": {
          "color": "rgba(180, 205, 250, 1.0)",
          "width": 3
         },
         "mode": "lines",
         "type": "scatter",
         "x": [
          -0.4045680265363692,
          -0.16370470375070803,
          null
         ],
         "y": [
          -0.7057255562071982,
          -0.7060783743150162,
          null
         ]
        },
        {
         "line": {
          "color": "rgba(107, 141, 240, 1.0)",
          "width": 3
         },
         "mode": "lines",
         "type": "scatter",
         "x": [
          -0.2732324205273399,
          -0.40792141278089394,
          null
         ],
         "y": [
          -0.35237951104759774,
          -0.16728971232585776,
          null
         ]
        },
        {
         "line": {
          "color": "rgba(135, 170, 252, 1.0)",
          "width": 3
         },
         "mode": "lines",
         "type": "scatter",
         "x": [
          -0.2732324205273399,
          -0.1328549749927915,
          null
         ],
         "y": [
          -0.35237951104759774,
          -0.20727043254169078,
          null
         ]
        },
        {
         "line": {
          "color": "rgba(151, 184, 254, 1.0)",
          "width": 3
         },
         "mode": "lines",
         "type": "scatter",
         "x": [
          -0.2732324205273399,
          -0.16370470375070803,
          null
         ],
         "y": [
          -0.35237951104759774,
          -0.7060783743150162,
          null
         ]
        },
        {
         "line": {
          "color": "rgba(180, 205, 250, 1.0)",
          "width": 3
         },
         "mode": "lines",
         "type": "scatter",
         "x": [
          -0.2732324205273399,
          -0.5638756081895392,
          null
         ],
         "y": [
          -0.35237951104759774,
          -0.5108850847800055,
          null
         ]
        },
        {
         "line": {
          "color": "rgba(107, 141, 240, 1.0)",
          "width": 3
         },
         "mode": "lines",
         "type": "scatter",
         "x": [
          -0.40792141278089394,
          -0.1328549749927915,
          null
         ],
         "y": [
          -0.16728971232585776,
          -0.20727043254169078,
          null
         ]
        },
        {
         "line": {
          "color": "rgba(142, 177, 253, 1.0)",
          "width": 3
         },
         "mode": "lines",
         "type": "scatter",
         "x": [
          -0.40792141278089394,
          -0.16370470375070803,
          null
         ],
         "y": [
          -0.16728971232585776,
          -0.7060783743150162,
          null
         ]
        },
        {
         "line": {
          "color": "rgba(185, 208, 248, 1.0)",
          "width": 3
         },
         "mode": "lines",
         "type": "scatter",
         "x": [
          -0.40792141278089394,
          -0.5638756081895392,
          null
         ],
         "y": [
          -0.16728971232585776,
          -0.5108850847800055,
          null
         ]
        },
        {
         "line": {
          "color": "rgba(145, 179, 254, 1.0)",
          "width": 3
         },
         "mode": "lines",
         "type": "scatter",
         "x": [
          -0.1328549749927915,
          -0.16370470375070803,
          null
         ],
         "y": [
          -0.20727043254169078,
          -0.7060783743150162,
          null
         ]
        },
        {
         "line": {
          "color": "rgba(214, 219, 228, 1.0)",
          "width": 3
         },
         "mode": "lines",
         "type": "scatter",
         "x": [
          -0.1328549749927915,
          -0.5638756081895392,
          null
         ],
         "y": [
          -0.20727043254169078,
          -0.5108850847800055,
          null
         ]
        },
        {
         "line": {
          "color": "rgba(206, 217, 235, 1.0)",
          "width": 3
         },
         "mode": "lines",
         "type": "scatter",
         "x": [
          -0.5638756081895392,
          -0.16370470375070803,
          null
         ],
         "y": [
          -0.5108850847800055,
          -0.7060783743150162,
          null
         ]
        },
        {
         "fill": "toself",
         "fillcolor": "rgba(244, 157, 126, 0.545)",
         "line": {
          "width": 3
         },
         "mode": "lines",
         "type": "scatter",
         "x": [
          -0.4045680265363692,
          -0.40792141278089394,
          -0.1328549749927915,
          -0.4045680265363692,
          null
         ],
         "y": [
          -0.7057255562071982,
          -0.16728971232585776,
          -0.20727043254169078,
          -0.7057255562071982,
          null
         ]
        },
        {
         "fill": "toself",
         "fillcolor": "rgba(244, 157, 126, 0.545)",
         "line": {
          "width": 3
         },
         "mode": "lines",
         "type": "scatter",
         "x": [
          -0.4045680265363692,
          -0.2732324205273399,
          -0.40792141278089394,
          -0.4045680265363692,
          null
         ],
         "y": [
          -0.7057255562071982,
          -0.35237951104759774,
          -0.16728971232585776,
          -0.7057255562071982,
          null
         ]
        },
        {
         "fill": "toself",
         "fillcolor": "rgba(244, 157, 126, 0.545)",
         "line": {
          "width": 3
         },
         "mode": "lines",
         "type": "scatter",
         "x": [
          -0.4045680265363692,
          -0.2732324205273399,
          -0.1328549749927915,
          -0.4045680265363692,
          null
         ],
         "y": [
          -0.7057255562071982,
          -0.35237951104759774,
          -0.20727043254169078,
          -0.7057255562071982,
          null
         ]
        },
        {
         "fill": "toself",
         "fillcolor": "rgba(244, 157, 126, 0.545)",
         "line": {
          "width": 3
         },
         "mode": "lines",
         "type": "scatter",
         "x": [
          -0.2732324205273399,
          -0.40792141278089394,
          -0.1328549749927915,
          -0.2732324205273399,
          null
         ],
         "y": [
          -0.35237951104759774,
          -0.16728971232585776,
          -0.20727043254169078,
          -0.35237951104759774,
          null
         ]
        },
        {
         "fill": "toself",
         "fillcolor": "rgba(244, 157, 126, 0.545)",
         "line": {
          "width": 3
         },
         "mode": "lines",
         "type": "scatter",
         "x": [
          -0.40792141278089394,
          -0.1328549749927915,
          -0.16370470375070803,
          -0.40792141278089394,
          null
         ],
         "y": [
          -0.16728971232585776,
          -0.20727043254169078,
          -0.7060783743150162,
          -0.16728971232585776,
          null
         ]
        },
        {
         "fill": "toself",
         "fillcolor": "rgba(244, 157, 126, 0.545)",
         "line": {
          "width": 3
         },
         "mode": "lines",
         "type": "scatter",
         "x": [
          -0.2732324205273399,
          -0.40792141278089394,
          -0.16370470375070803,
          -0.2732324205273399,
          null
         ],
         "y": [
          -0.35237951104759774,
          -0.16728971232585776,
          -0.7060783743150162,
          -0.35237951104759774,
          null
         ]
        },
        {
         "fill": "toself",
         "fillcolor": "rgba(244, 157, 126, 0.545)",
         "line": {
          "width": 3
         },
         "mode": "lines",
         "type": "scatter",
         "x": [
          -0.2732324205273399,
          -0.1328549749927915,
          -0.16370470375070803,
          -0.2732324205273399,
          null
         ],
         "y": [
          -0.35237951104759774,
          -0.20727043254169078,
          -0.7060783743150162,
          -0.35237951104759774,
          null
         ]
        },
        {
         "fill": "toself",
         "fillcolor": "rgba(244, 157, 126, 0.545)",
         "line": {
          "width": 3
         },
         "mode": "lines",
         "type": "scatter",
         "x": [
          -0.4045680265363692,
          -0.2732324205273399,
          -0.5638756081895392,
          -0.4045680265363692,
          null
         ],
         "y": [
          -0.7057255562071982,
          -0.35237951104759774,
          -0.5108850847800055,
          -0.7057255562071982,
          null
         ]
        },
        {
         "fill": "toself",
         "fillcolor": "rgba(244, 157, 126, 0.545)",
         "line": {
          "width": 3
         },
         "mode": "lines",
         "type": "scatter",
         "x": [
          -0.4045680265363692,
          -0.2732324205273399,
          -0.16370470375070803,
          -0.4045680265363692,
          null
         ],
         "y": [
          -0.7057255562071982,
          -0.35237951104759774,
          -0.7060783743150162,
          -0.7057255562071982,
          null
         ]
        },
        {
         "fill": "toself",
         "fillcolor": "rgba(244, 157, 126, 0.545)",
         "line": {
          "width": 3
         },
         "mode": "lines",
         "type": "scatter",
         "x": [
          -0.4045680265363692,
          -0.40792141278089394,
          -0.16370470375070803,
          -0.4045680265363692,
          null
         ],
         "y": [
          -0.7057255562071982,
          -0.16728971232585776,
          -0.7060783743150162,
          -0.7057255562071982,
          null
         ]
        },
        {
         "fill": "toself",
         "fillcolor": "rgba(244, 157, 126, 0.545)",
         "line": {
          "width": 3
         },
         "mode": "lines",
         "type": "scatter",
         "x": [
          -0.4045680265363692,
          -0.1328549749927915,
          -0.16370470375070803,
          -0.4045680265363692,
          null
         ],
         "y": [
          -0.7057255562071982,
          -0.20727043254169078,
          -0.7060783743150162,
          -0.7057255562071982,
          null
         ]
        },
        {
         "fill": "toself",
         "fillcolor": "rgba(244, 157, 126, 0.545)",
         "line": {
          "width": 3
         },
         "mode": "lines",
         "type": "scatter",
         "x": [
          -0.4045680265363692,
          -0.40792141278089394,
          -0.5638756081895392,
          -0.4045680265363692,
          null
         ],
         "y": [
          -0.7057255562071982,
          -0.16728971232585776,
          -0.5108850847800055,
          -0.7057255562071982,
          null
         ]
        },
        {
         "fill": "toself",
         "fillcolor": "rgba(244, 157, 126, 0.545)",
         "line": {
          "width": 3
         },
         "mode": "lines",
         "type": "scatter",
         "x": [
          -0.2732324205273399,
          -0.40792141278089394,
          -0.5638756081895392,
          -0.2732324205273399,
          null
         ],
         "y": [
          -0.35237951104759774,
          -0.16728971232585776,
          -0.5108850847800055,
          -0.35237951104759774,
          null
         ]
        },
        {
         "fill": "toself",
         "fillcolor": "rgba(244, 157, 126, 0.545)",
         "line": {
          "width": 3
         },
         "mode": "lines",
         "type": "scatter",
         "x": [
          -0.4045680265363692,
          -0.5638756081895392,
          -0.16370470375070803,
          -0.4045680265363692,
          null
         ],
         "y": [
          -0.7057255562071982,
          -0.5108850847800055,
          -0.7060783743150162,
          -0.7057255562071982,
          null
         ]
        },
        {
         "fill": "toself",
         "fillcolor": "rgba(244, 157, 126, 0.545)",
         "line": {
          "width": 3
         },
         "mode": "lines",
         "type": "scatter",
         "x": [
          -0.2732324205273399,
          -0.5638756081895392,
          -0.16370470375070803,
          -0.2732324205273399,
          null
         ],
         "y": [
          -0.35237951104759774,
          -0.5108850847800055,
          -0.7060783743150162,
          -0.35237951104759774,
          null
         ]
        },
        {
         "fill": "toself",
         "fillcolor": "rgba(244, 157, 126, 0.545)",
         "line": {
          "width": 3
         },
         "mode": "lines",
         "type": "scatter",
         "x": [
          -0.40792141278089394,
          -0.5638756081895392,
          -0.16370470375070803,
          -0.40792141278089394,
          null
         ],
         "y": [
          -0.16728971232585776,
          -0.5108850847800055,
          -0.7060783743150162,
          -0.16728971232585776,
          null
         ]
        },
        {
         "fill": "toself",
         "fillcolor": "rgba(244, 157, 126, 0.545)",
         "line": {
          "width": 3
         },
         "mode": "lines",
         "type": "scatter",
         "x": [
          -0.4045680265363692,
          -0.1328549749927915,
          -0.5638756081895392,
          -0.4045680265363692,
          null
         ],
         "y": [
          -0.7057255562071982,
          -0.20727043254169078,
          -0.5108850847800055,
          -0.7057255562071982,
          null
         ]
        },
        {
         "fill": "toself",
         "fillcolor": "rgba(244, 157, 126, 0.545)",
         "line": {
          "width": 3
         },
         "mode": "lines",
         "type": "scatter",
         "x": [
          -0.2732324205273399,
          -0.1328549749927915,
          -0.5638756081895392,
          -0.2732324205273399,
          null
         ],
         "y": [
          -0.35237951104759774,
          -0.20727043254169078,
          -0.5108850847800055,
          -0.35237951104759774,
          null
         ]
        },
        {
         "fill": "toself",
         "fillcolor": "rgba(244, 157, 126, 0.545)",
         "line": {
          "width": 3
         },
         "mode": "lines",
         "type": "scatter",
         "x": [
          -0.40792141278089394,
          -0.1328549749927915,
          -0.5638756081895392,
          -0.40792141278089394,
          null
         ],
         "y": [
          -0.16728971232585776,
          -0.20727043254169078,
          -0.5108850847800055,
          -0.16728971232585776,
          null
         ]
        },
        {
         "fill": "toself",
         "fillcolor": "rgba(244, 157, 126, 0.545)",
         "line": {
          "width": 3
         },
         "mode": "lines",
         "type": "scatter",
         "x": [
          -0.1328549749927915,
          -0.5638756081895392,
          -0.16370470375070803,
          -0.1328549749927915,
          null
         ],
         "y": [
          -0.20727043254169078,
          -0.5108850847800055,
          -0.7060783743150162,
          -0.20727043254169078,
          null
         ]
        },
        {
         "fill": "toself",
         "fillcolor": "rgba(244, 157, 126, 0.545)",
         "line": {
          "width": 3
         },
         "mode": "lines",
         "type": "scatter",
         "x": [
          0.046287087416770255,
          -0.4045680265363692,
          -0.5638756081895392,
          0.046287087416770255,
          null
         ],
         "y": [
          -0.40360425878508444,
          -0.7057255562071982,
          -0.5108850847800055,
          -0.40360425878508444,
          null
         ]
        },
        {
         "fill": "toself",
         "fillcolor": "rgba(244, 157, 126, 0.545)",
         "line": {
          "width": 3
         },
         "mode": "lines",
         "type": "scatter",
         "x": [
          0.046287087416770255,
          -0.4045680265363692,
          -0.40792141278089394,
          0.046287087416770255,
          null
         ],
         "y": [
          -0.40360425878508444,
          -0.7057255562071982,
          -0.16728971232585776,
          -0.40360425878508444,
          null
         ]
        },
        {
         "fill": "toself",
         "fillcolor": "rgba(244, 157, 126, 0.545)",
         "line": {
          "width": 3
         },
         "mode": "lines",
         "type": "scatter",
         "x": [
          0.046287087416770255,
          -0.40792141278089394,
          -0.5638756081895392,
          0.046287087416770255,
          null
         ],
         "y": [
          -0.40360425878508444,
          -0.16728971232585776,
          -0.5108850847800055,
          -0.40360425878508444,
          null
         ]
        },
        {
         "fill": "toself",
         "fillcolor": "rgba(244, 157, 126, 0.545)",
         "line": {
          "width": 3
         },
         "mode": "lines",
         "type": "scatter",
         "x": [
          0.046287087416770255,
          -0.4045680265363692,
          -0.2732324205273399,
          0.046287087416770255,
          null
         ],
         "y": [
          -0.40360425878508444,
          -0.7057255562071982,
          -0.35237951104759774,
          -0.40360425878508444,
          null
         ]
        },
        {
         "fill": "toself",
         "fillcolor": "rgba(244, 157, 126, 0.545)",
         "line": {
          "width": 3
         },
         "mode": "lines",
         "type": "scatter",
         "x": [
          0.046287087416770255,
          -0.2732324205273399,
          -0.40792141278089394,
          0.046287087416770255,
          null
         ],
         "y": [
          -0.40360425878508444,
          -0.35237951104759774,
          -0.16728971232585776,
          -0.40360425878508444,
          null
         ]
        },
        {
         "fill": "toself",
         "fillcolor": "rgba(244, 157, 126, 0.545)",
         "line": {
          "width": 3
         },
         "mode": "lines",
         "type": "scatter",
         "x": [
          0.046287087416770255,
          -0.2732324205273399,
          -0.5638756081895392,
          0.046287087416770255,
          null
         ],
         "y": [
          -0.40360425878508444,
          -0.35237951104759774,
          -0.5108850847800055,
          -0.40360425878508444,
          null
         ]
        },
        {
         "fill": "toself",
         "fillcolor": "rgba(244, 157, 126, 0.545)",
         "line": {
          "width": 3
         },
         "mode": "lines",
         "type": "scatter",
         "x": [
          0.046287087416770255,
          -0.4045680265363692,
          -0.1328549749927915,
          0.046287087416770255,
          null
         ],
         "y": [
          -0.40360425878508444,
          -0.7057255562071982,
          -0.20727043254169078,
          -0.40360425878508444,
          null
         ]
        },
        {
         "fill": "toself",
         "fillcolor": "rgba(244, 157, 126, 0.545)",
         "line": {
          "width": 3
         },
         "mode": "lines",
         "type": "scatter",
         "x": [
          0.046287087416770255,
          -0.2732324205273399,
          -0.1328549749927915,
          0.046287087416770255,
          null
         ],
         "y": [
          -0.40360425878508444,
          -0.35237951104759774,
          -0.20727043254169078,
          -0.40360425878508444,
          null
         ]
        },
        {
         "fill": "toself",
         "fillcolor": "rgba(244, 157, 126, 0.545)",
         "line": {
          "width": 3
         },
         "mode": "lines",
         "type": "scatter",
         "x": [
          0.046287087416770255,
          -0.40792141278089394,
          -0.1328549749927915,
          0.046287087416770255,
          null
         ],
         "y": [
          -0.40360425878508444,
          -0.16728971232585776,
          -0.20727043254169078,
          -0.40360425878508444,
          null
         ]
        },
        {
         "fill": "toself",
         "fillcolor": "rgba(244, 157, 126, 0.545)",
         "line": {
          "width": 3
         },
         "mode": "lines",
         "type": "scatter",
         "x": [
          0.046287087416770255,
          -0.1328549749927915,
          -0.5638756081895392,
          0.046287087416770255,
          null
         ],
         "y": [
          -0.40360425878508444,
          -0.20727043254169078,
          -0.5108850847800055,
          -0.40360425878508444,
          null
         ]
        },
        {
         "fill": "toself",
         "fillcolor": "rgba(244, 157, 126, 0.545)",
         "line": {
          "width": 3
         },
         "mode": "lines",
         "type": "scatter",
         "x": [
          0.046287087416770255,
          -0.4045680265363692,
          -0.16370470375070803,
          0.046287087416770255,
          null
         ],
         "y": [
          -0.40360425878508444,
          -0.7057255562071982,
          -0.7060783743150162,
          -0.40360425878508444,
          null
         ]
        },
        {
         "fill": "toself",
         "fillcolor": "rgba(244, 157, 126, 0.545)",
         "line": {
          "width": 3
         },
         "mode": "lines",
         "type": "scatter",
         "x": [
          0.046287087416770255,
          -0.2732324205273399,
          -0.16370470375070803,
          0.046287087416770255,
          null
         ],
         "y": [
          -0.40360425878508444,
          -0.35237951104759774,
          -0.7060783743150162,
          -0.40360425878508444,
          null
         ]
        },
        {
         "fill": "toself",
         "fillcolor": "rgba(244, 157, 126, 0.545)",
         "line": {
          "width": 3
         },
         "mode": "lines",
         "type": "scatter",
         "x": [
          0.046287087416770255,
          -0.40792141278089394,
          -0.16370470375070803,
          0.046287087416770255,
          null
         ],
         "y": [
          -0.40360425878508444,
          -0.16728971232585776,
          -0.7060783743150162,
          -0.40360425878508444,
          null
         ]
        },
        {
         "fill": "toself",
         "fillcolor": "rgba(244, 157, 126, 0.545)",
         "line": {
          "width": 3
         },
         "mode": "lines",
         "type": "scatter",
         "x": [
          0.046287087416770255,
          -0.1328549749927915,
          -0.16370470375070803,
          0.046287087416770255,
          null
         ],
         "y": [
          -0.40360425878508444,
          -0.20727043254169078,
          -0.7060783743150162,
          -0.40360425878508444,
          null
         ]
        },
        {
         "fill": "toself",
         "fillcolor": "rgba(244, 157, 126, 0.545)",
         "line": {
          "width": 3
         },
         "mode": "lines",
         "type": "scatter",
         "x": [
          0.046287087416770255,
          -0.5638756081895392,
          -0.16370470375070803,
          0.046287087416770255,
          null
         ],
         "y": [
          -0.40360425878508444,
          -0.5108850847800055,
          -0.7060783743150162,
          -0.40360425878508444,
          null
         ]
        },
        {
         "fill": "toself",
         "fillcolor": "rgba(244, 157, 126, 0.545)",
         "line": {
          "width": 3
         },
         "mode": "lines",
         "type": "scatter",
         "x": [
          0.45544566475981496,
          0.2003812279548145,
          0.08992006045665993,
          0.45544566475981496,
          null
         ],
         "y": [
          1,
          0.8042196124763402,
          0.3360482105532291,
          1,
          null
         ]
        },
        {
         "fill": "toself",
         "fillcolor": "rgba(244, 157, 126, 0.545)",
         "line": {
          "width": 3
         },
         "mode": "lines",
         "type": "scatter",
         "x": [
          0.45544566475981496,
          0.08992006045665993,
          0.6936578168028874,
          0.45544566475981496,
          null
         ],
         "y": [
          1,
          0.3360482105532291,
          0.6533417649556992,
          1,
          null
         ]
        },
        {
         "fill": "toself",
         "fillcolor": "rgba(244, 157, 126, 0.545)",
         "line": {
          "width": 3
         },
         "mode": "lines",
         "type": "scatter",
         "x": [
          0.2003812279548145,
          0.08992006045665993,
          0.4604652893866944,
          0.2003812279548145,
          null
         ],
         "y": [
          0.8042196124763402,
          0.3360482105532291,
          0.25962334201718107,
          0.8042196124763402,
          null
         ]
        },
        {
         "fill": "toself",
         "fillcolor": "rgba(244, 157, 126, 0.545)",
         "line": {
          "width": 3
         },
         "mode": "lines",
         "type": "scatter",
         "x": [
          0.08992006045665993,
          0.6936578168028874,
          0.4604652893866944,
          0.08992006045665993,
          null
         ],
         "y": [
          0.3360482105532291,
          0.6533417649556992,
          0.25962334201718107,
          0.3360482105532291,
          null
         ]
        },
        {
         "fill": "toself",
         "fillcolor": "rgba(244, 157, 126, 0.545)",
         "line": {
          "width": 3
         },
         "mode": "lines",
         "type": "scatter",
         "x": [
          0.08992006045665993,
          -0.2732324205273399,
          -0.40792141278089394,
          0.08992006045665993,
          null
         ],
         "y": [
          0.3360482105532291,
          -0.35237951104759774,
          -0.16728971232585776,
          0.3360482105532291,
          null
         ]
        },
        {
         "fill": "toself",
         "fillcolor": "rgba(244, 157, 126, 0.545)",
         "line": {
          "width": 3
         },
         "mode": "lines",
         "type": "scatter",
         "x": [
          0.08992006045665993,
          -0.2732324205273399,
          -0.1328549749927915,
          0.08992006045665993,
          null
         ],
         "y": [
          0.3360482105532291,
          -0.35237951104759774,
          -0.20727043254169078,
          0.3360482105532291,
          null
         ]
        },
        {
         "fill": "toself",
         "fillcolor": "rgba(244, 157, 126, 0.545)",
         "line": {
          "width": 3
         },
         "mode": "lines",
         "type": "scatter",
         "x": [
          0.08992006045665993,
          -0.40792141278089394,
          -0.1328549749927915,
          0.08992006045665993,
          null
         ],
         "y": [
          0.3360482105532291,
          -0.16728971232585776,
          -0.20727043254169078,
          0.3360482105532291,
          null
         ]
        },
        {
         "hoverinfo": "text",
         "marker": {
          "size": 14
         },
         "mode": "markers+text",
         "text": [
          "EC00690",
          "EC00668",
          "EC00609",
          "EC00701",
          "EC00678",
          "KLP00215",
          "KLP00221",
          "KLP00218",
          "KLP00213",
          "KLP00187",
          "KLP00149",
          "KLP00177"
         ],
         "textfont": {
          "size": 14
         },
         "textposition": "top center",
         "type": "scatter",
         "x": [
          0.45544566475981496,
          0.2003812279548145,
          0.08992006045665993,
          0.6936578168028874,
          0.4604652893866944,
          0.046287087416770255,
          -0.4045680265363692,
          -0.2732324205273399,
          -0.40792141278089394,
          -0.1328549749927915,
          -0.5638756081895392,
          -0.16370470375070803
         ],
         "y": [
          1,
          0.8042196124763402,
          0.3360482105532291,
          0.6533417649556992,
          0.25962334201718107,
          -0.40360425878508444,
          -0.7057255562071982,
          -0.35237951104759774,
          -0.16728971232585776,
          -0.20727043254169078,
          -0.5108850847800055,
          -0.7060783743150162
         ]
        }
       ],
       "layout": {
        "height": 600,
        "hovermode": "closest",
        "showlegend": false,
        "template": {
         "data": {
          "bar": [
           {
            "error_x": {
             "color": "#2a3f5f"
            },
            "error_y": {
             "color": "#2a3f5f"
            },
            "marker": {
             "line": {
              "color": "#E5ECF6",
              "width": 0.5
             },
             "pattern": {
              "fillmode": "overlay",
              "size": 10,
              "solidity": 0.2
             }
            },
            "type": "bar"
           }
          ],
          "barpolar": [
           {
            "marker": {
             "line": {
              "color": "#E5ECF6",
              "width": 0.5
             },
             "pattern": {
              "fillmode": "overlay",
              "size": 10,
              "solidity": 0.2
             }
            },
            "type": "barpolar"
           }
          ],
          "carpet": [
           {
            "aaxis": {
             "endlinecolor": "#2a3f5f",
             "gridcolor": "white",
             "linecolor": "white",
             "minorgridcolor": "white",
             "startlinecolor": "#2a3f5f"
            },
            "baxis": {
             "endlinecolor": "#2a3f5f",
             "gridcolor": "white",
             "linecolor": "white",
             "minorgridcolor": "white",
             "startlinecolor": "#2a3f5f"
            },
            "type": "carpet"
           }
          ],
          "choropleth": [
           {
            "colorbar": {
             "outlinewidth": 0,
             "ticks": ""
            },
            "type": "choropleth"
           }
          ],
          "contour": [
           {
            "colorbar": {
             "outlinewidth": 0,
             "ticks": ""
            },
            "colorscale": [
             [
              0,
              "#0d0887"
             ],
             [
              0.1111111111111111,
              "#46039f"
             ],
             [
              0.2222222222222222,
              "#7201a8"
             ],
             [
              0.3333333333333333,
              "#9c179e"
             ],
             [
              0.4444444444444444,
              "#bd3786"
             ],
             [
              0.5555555555555556,
              "#d8576b"
             ],
             [
              0.6666666666666666,
              "#ed7953"
             ],
             [
              0.7777777777777778,
              "#fb9f3a"
             ],
             [
              0.8888888888888888,
              "#fdca26"
             ],
             [
              1,
              "#f0f921"
             ]
            ],
            "type": "contour"
           }
          ],
          "contourcarpet": [
           {
            "colorbar": {
             "outlinewidth": 0,
             "ticks": ""
            },
            "type": "contourcarpet"
           }
          ],
          "heatmap": [
           {
            "colorbar": {
             "outlinewidth": 0,
             "ticks": ""
            },
            "colorscale": [
             [
              0,
              "#0d0887"
             ],
             [
              0.1111111111111111,
              "#46039f"
             ],
             [
              0.2222222222222222,
              "#7201a8"
             ],
             [
              0.3333333333333333,
              "#9c179e"
             ],
             [
              0.4444444444444444,
              "#bd3786"
             ],
             [
              0.5555555555555556,
              "#d8576b"
             ],
             [
              0.6666666666666666,
              "#ed7953"
             ],
             [
              0.7777777777777778,
              "#fb9f3a"
             ],
             [
              0.8888888888888888,
              "#fdca26"
             ],
             [
              1,
              "#f0f921"
             ]
            ],
            "type": "heatmap"
           }
          ],
          "heatmapgl": [
           {
            "colorbar": {
             "outlinewidth": 0,
             "ticks": ""
            },
            "colorscale": [
             [
              0,
              "#0d0887"
             ],
             [
              0.1111111111111111,
              "#46039f"
             ],
             [
              0.2222222222222222,
              "#7201a8"
             ],
             [
              0.3333333333333333,
              "#9c179e"
             ],
             [
              0.4444444444444444,
              "#bd3786"
             ],
             [
              0.5555555555555556,
              "#d8576b"
             ],
             [
              0.6666666666666666,
              "#ed7953"
             ],
             [
              0.7777777777777778,
              "#fb9f3a"
             ],
             [
              0.8888888888888888,
              "#fdca26"
             ],
             [
              1,
              "#f0f921"
             ]
            ],
            "type": "heatmapgl"
           }
          ],
          "histogram": [
           {
            "marker": {
             "pattern": {
              "fillmode": "overlay",
              "size": 10,
              "solidity": 0.2
             }
            },
            "type": "histogram"
           }
          ],
          "histogram2d": [
           {
            "colorbar": {
             "outlinewidth": 0,
             "ticks": ""
            },
            "colorscale": [
             [
              0,
              "#0d0887"
             ],
             [
              0.1111111111111111,
              "#46039f"
             ],
             [
              0.2222222222222222,
              "#7201a8"
             ],
             [
              0.3333333333333333,
              "#9c179e"
             ],
             [
              0.4444444444444444,
              "#bd3786"
             ],
             [
              0.5555555555555556,
              "#d8576b"
             ],
             [
              0.6666666666666666,
              "#ed7953"
             ],
             [
              0.7777777777777778,
              "#fb9f3a"
             ],
             [
              0.8888888888888888,
              "#fdca26"
             ],
             [
              1,
              "#f0f921"
             ]
            ],
            "type": "histogram2d"
           }
          ],
          "histogram2dcontour": [
           {
            "colorbar": {
             "outlinewidth": 0,
             "ticks": ""
            },
            "colorscale": [
             [
              0,
              "#0d0887"
             ],
             [
              0.1111111111111111,
              "#46039f"
             ],
             [
              0.2222222222222222,
              "#7201a8"
             ],
             [
              0.3333333333333333,
              "#9c179e"
             ],
             [
              0.4444444444444444,
              "#bd3786"
             ],
             [
              0.5555555555555556,
              "#d8576b"
             ],
             [
              0.6666666666666666,
              "#ed7953"
             ],
             [
              0.7777777777777778,
              "#fb9f3a"
             ],
             [
              0.8888888888888888,
              "#fdca26"
             ],
             [
              1,
              "#f0f921"
             ]
            ],
            "type": "histogram2dcontour"
           }
          ],
          "mesh3d": [
           {
            "colorbar": {
             "outlinewidth": 0,
             "ticks": ""
            },
            "type": "mesh3d"
           }
          ],
          "parcoords": [
           {
            "line": {
             "colorbar": {
              "outlinewidth": 0,
              "ticks": ""
             }
            },
            "type": "parcoords"
           }
          ],
          "pie": [
           {
            "automargin": true,
            "type": "pie"
           }
          ],
          "scatter": [
           {
            "fillpattern": {
             "fillmode": "overlay",
             "size": 10,
             "solidity": 0.2
            },
            "type": "scatter"
           }
          ],
          "scatter3d": [
           {
            "line": {
             "colorbar": {
              "outlinewidth": 0,
              "ticks": ""
             }
            },
            "marker": {
             "colorbar": {
              "outlinewidth": 0,
              "ticks": ""
             }
            },
            "type": "scatter3d"
           }
          ],
          "scattercarpet": [
           {
            "marker": {
             "colorbar": {
              "outlinewidth": 0,
              "ticks": ""
             }
            },
            "type": "scattercarpet"
           }
          ],
          "scattergeo": [
           {
            "marker": {
             "colorbar": {
              "outlinewidth": 0,
              "ticks": ""
             }
            },
            "type": "scattergeo"
           }
          ],
          "scattergl": [
           {
            "marker": {
             "colorbar": {
              "outlinewidth": 0,
              "ticks": ""
             }
            },
            "type": "scattergl"
           }
          ],
          "scattermapbox": [
           {
            "marker": {
             "colorbar": {
              "outlinewidth": 0,
              "ticks": ""
             }
            },
            "type": "scattermapbox"
           }
          ],
          "scatterpolar": [
           {
            "marker": {
             "colorbar": {
              "outlinewidth": 0,
              "ticks": ""
             }
            },
            "type": "scatterpolar"
           }
          ],
          "scatterpolargl": [
           {
            "marker": {
             "colorbar": {
              "outlinewidth": 0,
              "ticks": ""
             }
            },
            "type": "scatterpolargl"
           }
          ],
          "scatterternary": [
           {
            "marker": {
             "colorbar": {
              "outlinewidth": 0,
              "ticks": ""
             }
            },
            "type": "scatterternary"
           }
          ],
          "surface": [
           {
            "colorbar": {
             "outlinewidth": 0,
             "ticks": ""
            },
            "colorscale": [
             [
              0,
              "#0d0887"
             ],
             [
              0.1111111111111111,
              "#46039f"
             ],
             [
              0.2222222222222222,
              "#7201a8"
             ],
             [
              0.3333333333333333,
              "#9c179e"
             ],
             [
              0.4444444444444444,
              "#bd3786"
             ],
             [
              0.5555555555555556,
              "#d8576b"
             ],
             [
              0.6666666666666666,
              "#ed7953"
             ],
             [
              0.7777777777777778,
              "#fb9f3a"
             ],
             [
              0.8888888888888888,
              "#fdca26"
             ],
             [
              1,
              "#f0f921"
             ]
            ],
            "type": "surface"
           }
          ],
          "table": [
           {
            "cells": {
             "fill": {
              "color": "#EBF0F8"
             },
             "line": {
              "color": "white"
             }
            },
            "header": {
             "fill": {
              "color": "#C8D4E3"
             },
             "line": {
              "color": "white"
             }
            },
            "type": "table"
           }
          ]
         },
         "layout": {
          "annotationdefaults": {
           "arrowcolor": "#2a3f5f",
           "arrowhead": 0,
           "arrowwidth": 1
          },
          "autotypenumbers": "strict",
          "coloraxis": {
           "colorbar": {
            "outlinewidth": 0,
            "ticks": ""
           }
          },
          "colorscale": {
           "diverging": [
            [
             0,
             "#8e0152"
            ],
            [
             0.1,
             "#c51b7d"
            ],
            [
             0.2,
             "#de77ae"
            ],
            [
             0.3,
             "#f1b6da"
            ],
            [
             0.4,
             "#fde0ef"
            ],
            [
             0.5,
             "#f7f7f7"
            ],
            [
             0.6,
             "#e6f5d0"
            ],
            [
             0.7,
             "#b8e186"
            ],
            [
             0.8,
             "#7fbc41"
            ],
            [
             0.9,
             "#4d9221"
            ],
            [
             1,
             "#276419"
            ]
           ],
           "sequential": [
            [
             0,
             "#0d0887"
            ],
            [
             0.1111111111111111,
             "#46039f"
            ],
            [
             0.2222222222222222,
             "#7201a8"
            ],
            [
             0.3333333333333333,
             "#9c179e"
            ],
            [
             0.4444444444444444,
             "#bd3786"
            ],
            [
             0.5555555555555556,
             "#d8576b"
            ],
            [
             0.6666666666666666,
             "#ed7953"
            ],
            [
             0.7777777777777778,
             "#fb9f3a"
            ],
            [
             0.8888888888888888,
             "#fdca26"
            ],
            [
             1,
             "#f0f921"
            ]
           ],
           "sequentialminus": [
            [
             0,
             "#0d0887"
            ],
            [
             0.1111111111111111,
             "#46039f"
            ],
            [
             0.2222222222222222,
             "#7201a8"
            ],
            [
             0.3333333333333333,
             "#9c179e"
            ],
            [
             0.4444444444444444,
             "#bd3786"
            ],
            [
             0.5555555555555556,
             "#d8576b"
            ],
            [
             0.6666666666666666,
             "#ed7953"
            ],
            [
             0.7777777777777778,
             "#fb9f3a"
            ],
            [
             0.8888888888888888,
             "#fdca26"
            ],
            [
             1,
             "#f0f921"
            ]
           ]
          },
          "colorway": [
           "#636efa",
           "#EF553B",
           "#00cc96",
           "#ab63fa",
           "#FFA15A",
           "#19d3f3",
           "#FF6692",
           "#B6E880",
           "#FF97FF",
           "#FECB52"
          ],
          "font": {
           "color": "#2a3f5f"
          },
          "geo": {
           "bgcolor": "white",
           "lakecolor": "white",
           "landcolor": "#E5ECF6",
           "showlakes": true,
           "showland": true,
           "subunitcolor": "white"
          },
          "hoverlabel": {
           "align": "left"
          },
          "hovermode": "closest",
          "mapbox": {
           "style": "light"
          },
          "paper_bgcolor": "white",
          "plot_bgcolor": "#E5ECF6",
          "polar": {
           "angularaxis": {
            "gridcolor": "white",
            "linecolor": "white",
            "ticks": ""
           },
           "bgcolor": "#E5ECF6",
           "radialaxis": {
            "gridcolor": "white",
            "linecolor": "white",
            "ticks": ""
           }
          },
          "scene": {
           "xaxis": {
            "backgroundcolor": "#E5ECF6",
            "gridcolor": "white",
            "gridwidth": 2,
            "linecolor": "white",
            "showbackground": true,
            "ticks": "",
            "zerolinecolor": "white"
           },
           "yaxis": {
            "backgroundcolor": "#E5ECF6",
            "gridcolor": "white",
            "gridwidth": 2,
            "linecolor": "white",
            "showbackground": true,
            "ticks": "",
            "zerolinecolor": "white"
           },
           "zaxis": {
            "backgroundcolor": "#E5ECF6",
            "gridcolor": "white",
            "gridwidth": 2,
            "linecolor": "white",
            "showbackground": true,
            "ticks": "",
            "zerolinecolor": "white"
           }
          },
          "shapedefaults": {
           "line": {
            "color": "#2a3f5f"
           }
          },
          "ternary": {
           "aaxis": {
            "gridcolor": "white",
            "linecolor": "white",
            "ticks": ""
           },
           "baxis": {
            "gridcolor": "white",
            "linecolor": "white",
            "ticks": ""
           },
           "bgcolor": "#E5ECF6",
           "caxis": {
            "gridcolor": "white",
            "linecolor": "white",
            "ticks": ""
           }
          },
          "title": {
           "x": 0.05
          },
          "xaxis": {
           "automargin": true,
           "gridcolor": "white",
           "linecolor": "white",
           "ticks": "",
           "title": {
            "standoff": 15
           },
           "zerolinecolor": "white",
           "zerolinewidth": 2
          },
          "yaxis": {
           "automargin": true,
           "gridcolor": "white",
           "linecolor": "white",
           "ticks": "",
           "title": {
            "standoff": 15
           },
           "zerolinecolor": "white",
           "zerolinewidth": 2
          }
         }
        },
        "width": 600,
        "xaxis": {
         "showgrid": false,
         "tickfont": {
          "family": "Arial, sans-serif",
          "size": 16
         },
         "zeroline": false
        },
        "yaxis": {
         "showgrid": false,
         "tickfont": {
          "family": "Arial, sans-serif",
          "size": 16
         },
         "zeroline": false
        }
       }
      },
      "text/html": [
       "<div>                            <div id=\"8e65b966-778b-4b6e-a14e-fc3e85c52013\" class=\"plotly-graph-div\" style=\"height:600px; width:600px;\"></div>            <script type=\"text/javascript\">                require([\"plotly\"], function(Plotly) {                    window.PLOTLYENV=window.PLOTLYENV || {};                                    if (document.getElementById(\"8e65b966-778b-4b6e-a14e-fc3e85c52013\")) {                    Plotly.newPlot(                        \"8e65b966-778b-4b6e-a14e-fc3e85c52013\",                        [{\"line\":{\"color\":\"rgba(145, 179, 254, 1.0)\",\"width\":3},\"mode\":\"lines\",\"x\":[0.45544566475981496,0.08992006045665993,null],\"y\":[1.0,0.3360482105532291,null],\"type\":\"scatter\"},{\"line\":{\"color\":\"rgba(247, 179, 151, 1.0)\",\"width\":3},\"mode\":\"lines\",\"x\":[0.45544566475981496,0.2003812279548145,null],\"y\":[1.0,0.8042196124763402,null],\"type\":\"scatter\"},{\"line\":{\"color\":\"rgba(246, 164, 134, 1.0)\",\"width\":3},\"mode\":\"lines\",\"x\":[0.45544566475981496,0.6936578168028874,null],\"y\":[1.0,0.6533417649556992,null],\"type\":\"scatter\"},{\"line\":{\"color\":\"rgba(225, 218, 214, 1.0)\",\"width\":3},\"mode\":\"lines\",\"x\":[0.2003812279548145,0.08992006045665993,null],\"y\":[0.8042196124763402,0.3360482105532291,null],\"type\":\"scatter\"},{\"line\":{\"color\":\"rgba(242, 199, 178, 1.0)\",\"width\":3},\"mode\":\"lines\",\"x\":[0.2003812279548145,0.4604652893866944,null],\"y\":[0.8042196124763402,0.25962334201718107,null],\"type\":\"scatter\"},{\"line\":{\"color\":\"rgba(223, 100, 79, 1.0)\",\"width\":3},\"mode\":\"lines\",\"x\":[0.08992006045665993,0.6936578168028874,null],\"y\":[0.3360482105532291,0.6533417649556992,null],\"type\":\"scatter\"},{\"line\":{\"color\":\"rgba(209, 73, 62, 1.0)\",\"width\":3},\"mode\":\"lines\",\"x\":[0.08992006045665993,-0.2732324205273399,null],\"y\":[0.3360482105532291,-0.35237951104759774,null],\"type\":\"scatter\"},{\"line\":{\"color\":\"rgba(198, 53, 52, 1.0)\",\"width\":3},\"mode\":\"lines\",\"x\":[0.08992006045665993,0.4604652893866944,null],\"y\":[0.3360482105532291,0.25962334201718107,null],\"type\":\"scatter\"},{\"line\":{\"color\":\"rgba(179, 3, 38, 1.0)\",\"width\":3},\"mode\":\"lines\",\"x\":[0.08992006045665993,-0.40792141278089394,null],\"y\":[0.3360482105532291,-0.16728971232585776,null],\"type\":\"scatter\"},{\"line\":{\"color\":\"rgba(179, 3, 38, 1.0)\",\"width\":3},\"mode\":\"lines\",\"x\":[0.08992006045665993,-0.1328549749927915,null],\"y\":[0.3360482105532291,-0.20727043254169078,null],\"type\":\"scatter\"},{\"line\":{\"color\":\"rgba(244, 155, 124, 1.0)\",\"width\":3},\"mode\":\"lines\",\"x\":[0.6936578168028874,0.4604652893866944,null],\"y\":[0.6533417649556992,0.25962334201718107,null],\"type\":\"scatter\"},{\"line\":{\"color\":\"rgba(179, 3, 38, 1.0)\",\"width\":3},\"mode\":\"lines\",\"x\":[0.4604652893866944,0.046287087416770255,null],\"y\":[0.25962334201718107,-0.40360425878508444,null],\"type\":\"scatter\"},{\"line\":{\"color\":\"rgba(206, 217, 235, 1.0)\",\"width\":3},\"mode\":\"lines\",\"x\":[0.046287087416770255,-0.4045680265363692,null],\"y\":[-0.40360425878508444,-0.7057255562071982,null],\"type\":\"scatter\"},{\"line\":{\"color\":\"rgba(216, 219, 225, 1.0)\",\"width\":3},\"mode\":\"lines\",\"x\":[0.046287087416770255,-0.5638756081895392,null],\"y\":[-0.40360425878508444,-0.5108850847800055,null],\"type\":\"scatter\"},{\"line\":{\"color\":\"rgba(225, 218, 214, 1.0)\",\"width\":3},\"mode\":\"lines\",\"x\":[0.046287087416770255,-0.40792141278089394,null],\"y\":[-0.40360425878508444,-0.16728971232585776,null],\"type\":\"scatter\"},{\"line\":{\"color\":\"rgba(229, 216, 208, 1.0)\",\"width\":3},\"mode\":\"lines\",\"x\":[0.046287087416770255,-0.2732324205273399,null],\"y\":[-0.40360425878508444,-0.35237951104759774,null],\"type\":\"scatter\"},{\"line\":{\"color\":\"rgba(237, 207, 192, 1.0)\",\"width\":3},\"mode\":\"lines\",\"x\":[0.046287087416770255,-0.1328549749927915,null],\"y\":[-0.40360425878508444,-0.20727043254169078,null],\"type\":\"scatter\"},{\"line\":{\"color\":\"rgba(242, 199, 178, 1.0)\",\"width\":3},\"mode\":\"lines\",\"x\":[0.046287087416770255,-0.16370470375070803,null],\"y\":[-0.40360425878508444,-0.7060783743150162,null],\"type\":\"scatter\"},{\"line\":{\"color\":\"rgba(107, 141, 240, 1.0)\",\"width\":3},\"mode\":\"lines\",\"x\":[-0.4045680265363692,-0.40792141278089394,null],\"y\":[-0.7057255562071982,-0.16728971232585776,null],\"type\":\"scatter\"},{\"line\":{\"color\":\"rgba(133, 168, 251, 1.0)\",\"width\":3},\"mode\":\"lines\",\"x\":[-0.4045680265363692,-0.1328549749927915,null],\"y\":[-0.7057255562071982,-0.20727043254169078,null],\"type\":\"scatter\"},{\"line\":{\"color\":\"rgba(135, 170, 252, 1.0)\",\"width\":3},\"mode\":\"lines\",\"x\":[-0.4045680265363692,-0.2732324205273399,null],\"y\":[-0.7057255562071982,-0.35237951104759774,null],\"type\":\"scatter\"},{\"line\":{\"color\":\"rgba(180, 205, 250, 1.0)\",\"width\":3},\"mode\":\"lines\",\"x\":[-0.4045680265363692,-0.5638756081895392,null],\"y\":[-0.7057255562071982,-0.5108850847800055,null],\"type\":\"scatter\"},{\"line\":{\"color\":\"rgba(180, 205, 250, 1.0)\",\"width\":3},\"mode\":\"lines\",\"x\":[-0.4045680265363692,-0.16370470375070803,null],\"y\":[-0.7057255562071982,-0.7060783743150162,null],\"type\":\"scatter\"},{\"line\":{\"color\":\"rgba(107, 141, 240, 1.0)\",\"width\":3},\"mode\":\"lines\",\"x\":[-0.2732324205273399,-0.40792141278089394,null],\"y\":[-0.35237951104759774,-0.16728971232585776,null],\"type\":\"scatter\"},{\"line\":{\"color\":\"rgba(135, 170, 252, 1.0)\",\"width\":3},\"mode\":\"lines\",\"x\":[-0.2732324205273399,-0.1328549749927915,null],\"y\":[-0.35237951104759774,-0.20727043254169078,null],\"type\":\"scatter\"},{\"line\":{\"color\":\"rgba(151, 184, 254, 1.0)\",\"width\":3},\"mode\":\"lines\",\"x\":[-0.2732324205273399,-0.16370470375070803,null],\"y\":[-0.35237951104759774,-0.7060783743150162,null],\"type\":\"scatter\"},{\"line\":{\"color\":\"rgba(180, 205, 250, 1.0)\",\"width\":3},\"mode\":\"lines\",\"x\":[-0.2732324205273399,-0.5638756081895392,null],\"y\":[-0.35237951104759774,-0.5108850847800055,null],\"type\":\"scatter\"},{\"line\":{\"color\":\"rgba(107, 141, 240, 1.0)\",\"width\":3},\"mode\":\"lines\",\"x\":[-0.40792141278089394,-0.1328549749927915,null],\"y\":[-0.16728971232585776,-0.20727043254169078,null],\"type\":\"scatter\"},{\"line\":{\"color\":\"rgba(142, 177, 253, 1.0)\",\"width\":3},\"mode\":\"lines\",\"x\":[-0.40792141278089394,-0.16370470375070803,null],\"y\":[-0.16728971232585776,-0.7060783743150162,null],\"type\":\"scatter\"},{\"line\":{\"color\":\"rgba(185, 208, 248, 1.0)\",\"width\":3},\"mode\":\"lines\",\"x\":[-0.40792141278089394,-0.5638756081895392,null],\"y\":[-0.16728971232585776,-0.5108850847800055,null],\"type\":\"scatter\"},{\"line\":{\"color\":\"rgba(145, 179, 254, 1.0)\",\"width\":3},\"mode\":\"lines\",\"x\":[-0.1328549749927915,-0.16370470375070803,null],\"y\":[-0.20727043254169078,-0.7060783743150162,null],\"type\":\"scatter\"},{\"line\":{\"color\":\"rgba(214, 219, 228, 1.0)\",\"width\":3},\"mode\":\"lines\",\"x\":[-0.1328549749927915,-0.5638756081895392,null],\"y\":[-0.20727043254169078,-0.5108850847800055,null],\"type\":\"scatter\"},{\"line\":{\"color\":\"rgba(206, 217, 235, 1.0)\",\"width\":3},\"mode\":\"lines\",\"x\":[-0.5638756081895392,-0.16370470375070803,null],\"y\":[-0.5108850847800055,-0.7060783743150162,null],\"type\":\"scatter\"},{\"fill\":\"toself\",\"fillcolor\":\"rgba(244, 157, 126, 0.545)\",\"line\":{\"width\":3},\"mode\":\"lines\",\"x\":[-0.4045680265363692,-0.40792141278089394,-0.1328549749927915,-0.4045680265363692,null],\"y\":[-0.7057255562071982,-0.16728971232585776,-0.20727043254169078,-0.7057255562071982,null],\"type\":\"scatter\"},{\"fill\":\"toself\",\"fillcolor\":\"rgba(244, 157, 126, 0.545)\",\"line\":{\"width\":3},\"mode\":\"lines\",\"x\":[-0.4045680265363692,-0.2732324205273399,-0.40792141278089394,-0.4045680265363692,null],\"y\":[-0.7057255562071982,-0.35237951104759774,-0.16728971232585776,-0.7057255562071982,null],\"type\":\"scatter\"},{\"fill\":\"toself\",\"fillcolor\":\"rgba(244, 157, 126, 0.545)\",\"line\":{\"width\":3},\"mode\":\"lines\",\"x\":[-0.4045680265363692,-0.2732324205273399,-0.1328549749927915,-0.4045680265363692,null],\"y\":[-0.7057255562071982,-0.35237951104759774,-0.20727043254169078,-0.7057255562071982,null],\"type\":\"scatter\"},{\"fill\":\"toself\",\"fillcolor\":\"rgba(244, 157, 126, 0.545)\",\"line\":{\"width\":3},\"mode\":\"lines\",\"x\":[-0.2732324205273399,-0.40792141278089394,-0.1328549749927915,-0.2732324205273399,null],\"y\":[-0.35237951104759774,-0.16728971232585776,-0.20727043254169078,-0.35237951104759774,null],\"type\":\"scatter\"},{\"fill\":\"toself\",\"fillcolor\":\"rgba(244, 157, 126, 0.545)\",\"line\":{\"width\":3},\"mode\":\"lines\",\"x\":[-0.40792141278089394,-0.1328549749927915,-0.16370470375070803,-0.40792141278089394,null],\"y\":[-0.16728971232585776,-0.20727043254169078,-0.7060783743150162,-0.16728971232585776,null],\"type\":\"scatter\"},{\"fill\":\"toself\",\"fillcolor\":\"rgba(244, 157, 126, 0.545)\",\"line\":{\"width\":3},\"mode\":\"lines\",\"x\":[-0.2732324205273399,-0.40792141278089394,-0.16370470375070803,-0.2732324205273399,null],\"y\":[-0.35237951104759774,-0.16728971232585776,-0.7060783743150162,-0.35237951104759774,null],\"type\":\"scatter\"},{\"fill\":\"toself\",\"fillcolor\":\"rgba(244, 157, 126, 0.545)\",\"line\":{\"width\":3},\"mode\":\"lines\",\"x\":[-0.2732324205273399,-0.1328549749927915,-0.16370470375070803,-0.2732324205273399,null],\"y\":[-0.35237951104759774,-0.20727043254169078,-0.7060783743150162,-0.35237951104759774,null],\"type\":\"scatter\"},{\"fill\":\"toself\",\"fillcolor\":\"rgba(244, 157, 126, 0.545)\",\"line\":{\"width\":3},\"mode\":\"lines\",\"x\":[-0.4045680265363692,-0.2732324205273399,-0.5638756081895392,-0.4045680265363692,null],\"y\":[-0.7057255562071982,-0.35237951104759774,-0.5108850847800055,-0.7057255562071982,null],\"type\":\"scatter\"},{\"fill\":\"toself\",\"fillcolor\":\"rgba(244, 157, 126, 0.545)\",\"line\":{\"width\":3},\"mode\":\"lines\",\"x\":[-0.4045680265363692,-0.2732324205273399,-0.16370470375070803,-0.4045680265363692,null],\"y\":[-0.7057255562071982,-0.35237951104759774,-0.7060783743150162,-0.7057255562071982,null],\"type\":\"scatter\"},{\"fill\":\"toself\",\"fillcolor\":\"rgba(244, 157, 126, 0.545)\",\"line\":{\"width\":3},\"mode\":\"lines\",\"x\":[-0.4045680265363692,-0.40792141278089394,-0.16370470375070803,-0.4045680265363692,null],\"y\":[-0.7057255562071982,-0.16728971232585776,-0.7060783743150162,-0.7057255562071982,null],\"type\":\"scatter\"},{\"fill\":\"toself\",\"fillcolor\":\"rgba(244, 157, 126, 0.545)\",\"line\":{\"width\":3},\"mode\":\"lines\",\"x\":[-0.4045680265363692,-0.1328549749927915,-0.16370470375070803,-0.4045680265363692,null],\"y\":[-0.7057255562071982,-0.20727043254169078,-0.7060783743150162,-0.7057255562071982,null],\"type\":\"scatter\"},{\"fill\":\"toself\",\"fillcolor\":\"rgba(244, 157, 126, 0.545)\",\"line\":{\"width\":3},\"mode\":\"lines\",\"x\":[-0.4045680265363692,-0.40792141278089394,-0.5638756081895392,-0.4045680265363692,null],\"y\":[-0.7057255562071982,-0.16728971232585776,-0.5108850847800055,-0.7057255562071982,null],\"type\":\"scatter\"},{\"fill\":\"toself\",\"fillcolor\":\"rgba(244, 157, 126, 0.545)\",\"line\":{\"width\":3},\"mode\":\"lines\",\"x\":[-0.2732324205273399,-0.40792141278089394,-0.5638756081895392,-0.2732324205273399,null],\"y\":[-0.35237951104759774,-0.16728971232585776,-0.5108850847800055,-0.35237951104759774,null],\"type\":\"scatter\"},{\"fill\":\"toself\",\"fillcolor\":\"rgba(244, 157, 126, 0.545)\",\"line\":{\"width\":3},\"mode\":\"lines\",\"x\":[-0.4045680265363692,-0.5638756081895392,-0.16370470375070803,-0.4045680265363692,null],\"y\":[-0.7057255562071982,-0.5108850847800055,-0.7060783743150162,-0.7057255562071982,null],\"type\":\"scatter\"},{\"fill\":\"toself\",\"fillcolor\":\"rgba(244, 157, 126, 0.545)\",\"line\":{\"width\":3},\"mode\":\"lines\",\"x\":[-0.2732324205273399,-0.5638756081895392,-0.16370470375070803,-0.2732324205273399,null],\"y\":[-0.35237951104759774,-0.5108850847800055,-0.7060783743150162,-0.35237951104759774,null],\"type\":\"scatter\"},{\"fill\":\"toself\",\"fillcolor\":\"rgba(244, 157, 126, 0.545)\",\"line\":{\"width\":3},\"mode\":\"lines\",\"x\":[-0.40792141278089394,-0.5638756081895392,-0.16370470375070803,-0.40792141278089394,null],\"y\":[-0.16728971232585776,-0.5108850847800055,-0.7060783743150162,-0.16728971232585776,null],\"type\":\"scatter\"},{\"fill\":\"toself\",\"fillcolor\":\"rgba(244, 157, 126, 0.545)\",\"line\":{\"width\":3},\"mode\":\"lines\",\"x\":[-0.4045680265363692,-0.1328549749927915,-0.5638756081895392,-0.4045680265363692,null],\"y\":[-0.7057255562071982,-0.20727043254169078,-0.5108850847800055,-0.7057255562071982,null],\"type\":\"scatter\"},{\"fill\":\"toself\",\"fillcolor\":\"rgba(244, 157, 126, 0.545)\",\"line\":{\"width\":3},\"mode\":\"lines\",\"x\":[-0.2732324205273399,-0.1328549749927915,-0.5638756081895392,-0.2732324205273399,null],\"y\":[-0.35237951104759774,-0.20727043254169078,-0.5108850847800055,-0.35237951104759774,null],\"type\":\"scatter\"},{\"fill\":\"toself\",\"fillcolor\":\"rgba(244, 157, 126, 0.545)\",\"line\":{\"width\":3},\"mode\":\"lines\",\"x\":[-0.40792141278089394,-0.1328549749927915,-0.5638756081895392,-0.40792141278089394,null],\"y\":[-0.16728971232585776,-0.20727043254169078,-0.5108850847800055,-0.16728971232585776,null],\"type\":\"scatter\"},{\"fill\":\"toself\",\"fillcolor\":\"rgba(244, 157, 126, 0.545)\",\"line\":{\"width\":3},\"mode\":\"lines\",\"x\":[-0.1328549749927915,-0.5638756081895392,-0.16370470375070803,-0.1328549749927915,null],\"y\":[-0.20727043254169078,-0.5108850847800055,-0.7060783743150162,-0.20727043254169078,null],\"type\":\"scatter\"},{\"fill\":\"toself\",\"fillcolor\":\"rgba(244, 157, 126, 0.545)\",\"line\":{\"width\":3},\"mode\":\"lines\",\"x\":[0.046287087416770255,-0.4045680265363692,-0.5638756081895392,0.046287087416770255,null],\"y\":[-0.40360425878508444,-0.7057255562071982,-0.5108850847800055,-0.40360425878508444,null],\"type\":\"scatter\"},{\"fill\":\"toself\",\"fillcolor\":\"rgba(244, 157, 126, 0.545)\",\"line\":{\"width\":3},\"mode\":\"lines\",\"x\":[0.046287087416770255,-0.4045680265363692,-0.40792141278089394,0.046287087416770255,null],\"y\":[-0.40360425878508444,-0.7057255562071982,-0.16728971232585776,-0.40360425878508444,null],\"type\":\"scatter\"},{\"fill\":\"toself\",\"fillcolor\":\"rgba(244, 157, 126, 0.545)\",\"line\":{\"width\":3},\"mode\":\"lines\",\"x\":[0.046287087416770255,-0.40792141278089394,-0.5638756081895392,0.046287087416770255,null],\"y\":[-0.40360425878508444,-0.16728971232585776,-0.5108850847800055,-0.40360425878508444,null],\"type\":\"scatter\"},{\"fill\":\"toself\",\"fillcolor\":\"rgba(244, 157, 126, 0.545)\",\"line\":{\"width\":3},\"mode\":\"lines\",\"x\":[0.046287087416770255,-0.4045680265363692,-0.2732324205273399,0.046287087416770255,null],\"y\":[-0.40360425878508444,-0.7057255562071982,-0.35237951104759774,-0.40360425878508444,null],\"type\":\"scatter\"},{\"fill\":\"toself\",\"fillcolor\":\"rgba(244, 157, 126, 0.545)\",\"line\":{\"width\":3},\"mode\":\"lines\",\"x\":[0.046287087416770255,-0.2732324205273399,-0.40792141278089394,0.046287087416770255,null],\"y\":[-0.40360425878508444,-0.35237951104759774,-0.16728971232585776,-0.40360425878508444,null],\"type\":\"scatter\"},{\"fill\":\"toself\",\"fillcolor\":\"rgba(244, 157, 126, 0.545)\",\"line\":{\"width\":3},\"mode\":\"lines\",\"x\":[0.046287087416770255,-0.2732324205273399,-0.5638756081895392,0.046287087416770255,null],\"y\":[-0.40360425878508444,-0.35237951104759774,-0.5108850847800055,-0.40360425878508444,null],\"type\":\"scatter\"},{\"fill\":\"toself\",\"fillcolor\":\"rgba(244, 157, 126, 0.545)\",\"line\":{\"width\":3},\"mode\":\"lines\",\"x\":[0.046287087416770255,-0.4045680265363692,-0.1328549749927915,0.046287087416770255,null],\"y\":[-0.40360425878508444,-0.7057255562071982,-0.20727043254169078,-0.40360425878508444,null],\"type\":\"scatter\"},{\"fill\":\"toself\",\"fillcolor\":\"rgba(244, 157, 126, 0.545)\",\"line\":{\"width\":3},\"mode\":\"lines\",\"x\":[0.046287087416770255,-0.2732324205273399,-0.1328549749927915,0.046287087416770255,null],\"y\":[-0.40360425878508444,-0.35237951104759774,-0.20727043254169078,-0.40360425878508444,null],\"type\":\"scatter\"},{\"fill\":\"toself\",\"fillcolor\":\"rgba(244, 157, 126, 0.545)\",\"line\":{\"width\":3},\"mode\":\"lines\",\"x\":[0.046287087416770255,-0.40792141278089394,-0.1328549749927915,0.046287087416770255,null],\"y\":[-0.40360425878508444,-0.16728971232585776,-0.20727043254169078,-0.40360425878508444,null],\"type\":\"scatter\"},{\"fill\":\"toself\",\"fillcolor\":\"rgba(244, 157, 126, 0.545)\",\"line\":{\"width\":3},\"mode\":\"lines\",\"x\":[0.046287087416770255,-0.1328549749927915,-0.5638756081895392,0.046287087416770255,null],\"y\":[-0.40360425878508444,-0.20727043254169078,-0.5108850847800055,-0.40360425878508444,null],\"type\":\"scatter\"},{\"fill\":\"toself\",\"fillcolor\":\"rgba(244, 157, 126, 0.545)\",\"line\":{\"width\":3},\"mode\":\"lines\",\"x\":[0.046287087416770255,-0.4045680265363692,-0.16370470375070803,0.046287087416770255,null],\"y\":[-0.40360425878508444,-0.7057255562071982,-0.7060783743150162,-0.40360425878508444,null],\"type\":\"scatter\"},{\"fill\":\"toself\",\"fillcolor\":\"rgba(244, 157, 126, 0.545)\",\"line\":{\"width\":3},\"mode\":\"lines\",\"x\":[0.046287087416770255,-0.2732324205273399,-0.16370470375070803,0.046287087416770255,null],\"y\":[-0.40360425878508444,-0.35237951104759774,-0.7060783743150162,-0.40360425878508444,null],\"type\":\"scatter\"},{\"fill\":\"toself\",\"fillcolor\":\"rgba(244, 157, 126, 0.545)\",\"line\":{\"width\":3},\"mode\":\"lines\",\"x\":[0.046287087416770255,-0.40792141278089394,-0.16370470375070803,0.046287087416770255,null],\"y\":[-0.40360425878508444,-0.16728971232585776,-0.7060783743150162,-0.40360425878508444,null],\"type\":\"scatter\"},{\"fill\":\"toself\",\"fillcolor\":\"rgba(244, 157, 126, 0.545)\",\"line\":{\"width\":3},\"mode\":\"lines\",\"x\":[0.046287087416770255,-0.1328549749927915,-0.16370470375070803,0.046287087416770255,null],\"y\":[-0.40360425878508444,-0.20727043254169078,-0.7060783743150162,-0.40360425878508444,null],\"type\":\"scatter\"},{\"fill\":\"toself\",\"fillcolor\":\"rgba(244, 157, 126, 0.545)\",\"line\":{\"width\":3},\"mode\":\"lines\",\"x\":[0.046287087416770255,-0.5638756081895392,-0.16370470375070803,0.046287087416770255,null],\"y\":[-0.40360425878508444,-0.5108850847800055,-0.7060783743150162,-0.40360425878508444,null],\"type\":\"scatter\"},{\"fill\":\"toself\",\"fillcolor\":\"rgba(244, 157, 126, 0.545)\",\"line\":{\"width\":3},\"mode\":\"lines\",\"x\":[0.45544566475981496,0.2003812279548145,0.08992006045665993,0.45544566475981496,null],\"y\":[1.0,0.8042196124763402,0.3360482105532291,1.0,null],\"type\":\"scatter\"},{\"fill\":\"toself\",\"fillcolor\":\"rgba(244, 157, 126, 0.545)\",\"line\":{\"width\":3},\"mode\":\"lines\",\"x\":[0.45544566475981496,0.08992006045665993,0.6936578168028874,0.45544566475981496,null],\"y\":[1.0,0.3360482105532291,0.6533417649556992,1.0,null],\"type\":\"scatter\"},{\"fill\":\"toself\",\"fillcolor\":\"rgba(244, 157, 126, 0.545)\",\"line\":{\"width\":3},\"mode\":\"lines\",\"x\":[0.2003812279548145,0.08992006045665993,0.4604652893866944,0.2003812279548145,null],\"y\":[0.8042196124763402,0.3360482105532291,0.25962334201718107,0.8042196124763402,null],\"type\":\"scatter\"},{\"fill\":\"toself\",\"fillcolor\":\"rgba(244, 157, 126, 0.545)\",\"line\":{\"width\":3},\"mode\":\"lines\",\"x\":[0.08992006045665993,0.6936578168028874,0.4604652893866944,0.08992006045665993,null],\"y\":[0.3360482105532291,0.6533417649556992,0.25962334201718107,0.3360482105532291,null],\"type\":\"scatter\"},{\"fill\":\"toself\",\"fillcolor\":\"rgba(244, 157, 126, 0.545)\",\"line\":{\"width\":3},\"mode\":\"lines\",\"x\":[0.08992006045665993,-0.2732324205273399,-0.40792141278089394,0.08992006045665993,null],\"y\":[0.3360482105532291,-0.35237951104759774,-0.16728971232585776,0.3360482105532291,null],\"type\":\"scatter\"},{\"fill\":\"toself\",\"fillcolor\":\"rgba(244, 157, 126, 0.545)\",\"line\":{\"width\":3},\"mode\":\"lines\",\"x\":[0.08992006045665993,-0.2732324205273399,-0.1328549749927915,0.08992006045665993,null],\"y\":[0.3360482105532291,-0.35237951104759774,-0.20727043254169078,0.3360482105532291,null],\"type\":\"scatter\"},{\"fill\":\"toself\",\"fillcolor\":\"rgba(244, 157, 126, 0.545)\",\"line\":{\"width\":3},\"mode\":\"lines\",\"x\":[0.08992006045665993,-0.40792141278089394,-0.1328549749927915,0.08992006045665993,null],\"y\":[0.3360482105532291,-0.16728971232585776,-0.20727043254169078,0.3360482105532291,null],\"type\":\"scatter\"},{\"hoverinfo\":\"text\",\"marker\":{\"size\":14},\"mode\":\"markers+text\",\"text\":[\"EC00690\",\"EC00668\",\"EC00609\",\"EC00701\",\"EC00678\",\"KLP00215\",\"KLP00221\",\"KLP00218\",\"KLP00213\",\"KLP00187\",\"KLP00149\",\"KLP00177\"],\"textfont\":{\"size\":14},\"textposition\":\"top center\",\"x\":[0.45544566475981496,0.2003812279548145,0.08992006045665993,0.6936578168028874,0.4604652893866944,0.046287087416770255,-0.4045680265363692,-0.2732324205273399,-0.40792141278089394,-0.1328549749927915,-0.5638756081895392,-0.16370470375070803],\"y\":[1.0,0.8042196124763402,0.3360482105532291,0.6533417649556992,0.25962334201718107,-0.40360425878508444,-0.7057255562071982,-0.35237951104759774,-0.16728971232585776,-0.20727043254169078,-0.5108850847800055,-0.7060783743150162],\"type\":\"scatter\"}],                        {\"hovermode\":\"closest\",\"showlegend\":false,\"xaxis\":{\"showgrid\":false,\"tickfont\":{\"family\":\"Arial, sans-serif\",\"size\":16},\"zeroline\":false},\"yaxis\":{\"showgrid\":false,\"tickfont\":{\"family\":\"Arial, sans-serif\",\"size\":16},\"zeroline\":false},\"template\":{\"data\":{\"histogram2dcontour\":[{\"type\":\"histogram2dcontour\",\"colorbar\":{\"outlinewidth\":0,\"ticks\":\"\"},\"colorscale\":[[0.0,\"#0d0887\"],[0.1111111111111111,\"#46039f\"],[0.2222222222222222,\"#7201a8\"],[0.3333333333333333,\"#9c179e\"],[0.4444444444444444,\"#bd3786\"],[0.5555555555555556,\"#d8576b\"],[0.6666666666666666,\"#ed7953\"],[0.7777777777777778,\"#fb9f3a\"],[0.8888888888888888,\"#fdca26\"],[1.0,\"#f0f921\"]]}],\"choropleth\":[{\"type\":\"choropleth\",\"colorbar\":{\"outlinewidth\":0,\"ticks\":\"\"}}],\"histogram2d\":[{\"type\":\"histogram2d\",\"colorbar\":{\"outlinewidth\":0,\"ticks\":\"\"},\"colorscale\":[[0.0,\"#0d0887\"],[0.1111111111111111,\"#46039f\"],[0.2222222222222222,\"#7201a8\"],[0.3333333333333333,\"#9c179e\"],[0.4444444444444444,\"#bd3786\"],[0.5555555555555556,\"#d8576b\"],[0.6666666666666666,\"#ed7953\"],[0.7777777777777778,\"#fb9f3a\"],[0.8888888888888888,\"#fdca26\"],[1.0,\"#f0f921\"]]}],\"heatmap\":[{\"type\":\"heatmap\",\"colorbar\":{\"outlinewidth\":0,\"ticks\":\"\"},\"colorscale\":[[0.0,\"#0d0887\"],[0.1111111111111111,\"#46039f\"],[0.2222222222222222,\"#7201a8\"],[0.3333333333333333,\"#9c179e\"],[0.4444444444444444,\"#bd3786\"],[0.5555555555555556,\"#d8576b\"],[0.6666666666666666,\"#ed7953\"],[0.7777777777777778,\"#fb9f3a\"],[0.8888888888888888,\"#fdca26\"],[1.0,\"#f0f921\"]]}],\"heatmapgl\":[{\"type\":\"heatmapgl\",\"colorbar\":{\"outlinewidth\":0,\"ticks\":\"\"},\"colorscale\":[[0.0,\"#0d0887\"],[0.1111111111111111,\"#46039f\"],[0.2222222222222222,\"#7201a8\"],[0.3333333333333333,\"#9c179e\"],[0.4444444444444444,\"#bd3786\"],[0.5555555555555556,\"#d8576b\"],[0.6666666666666666,\"#ed7953\"],[0.7777777777777778,\"#fb9f3a\"],[0.8888888888888888,\"#fdca26\"],[1.0,\"#f0f921\"]]}],\"contourcarpet\":[{\"type\":\"contourcarpet\",\"colorbar\":{\"outlinewidth\":0,\"ticks\":\"\"}}],\"contour\":[{\"type\":\"contour\",\"colorbar\":{\"outlinewidth\":0,\"ticks\":\"\"},\"colorscale\":[[0.0,\"#0d0887\"],[0.1111111111111111,\"#46039f\"],[0.2222222222222222,\"#7201a8\"],[0.3333333333333333,\"#9c179e\"],[0.4444444444444444,\"#bd3786\"],[0.5555555555555556,\"#d8576b\"],[0.6666666666666666,\"#ed7953\"],[0.7777777777777778,\"#fb9f3a\"],[0.8888888888888888,\"#fdca26\"],[1.0,\"#f0f921\"]]}],\"surface\":[{\"type\":\"surface\",\"colorbar\":{\"outlinewidth\":0,\"ticks\":\"\"},\"colorscale\":[[0.0,\"#0d0887\"],[0.1111111111111111,\"#46039f\"],[0.2222222222222222,\"#7201a8\"],[0.3333333333333333,\"#9c179e\"],[0.4444444444444444,\"#bd3786\"],[0.5555555555555556,\"#d8576b\"],[0.6666666666666666,\"#ed7953\"],[0.7777777777777778,\"#fb9f3a\"],[0.8888888888888888,\"#fdca26\"],[1.0,\"#f0f921\"]]}],\"mesh3d\":[{\"type\":\"mesh3d\",\"colorbar\":{\"outlinewidth\":0,\"ticks\":\"\"}}],\"scatter\":[{\"fillpattern\":{\"fillmode\":\"overlay\",\"size\":10,\"solidity\":0.2},\"type\":\"scatter\"}],\"parcoords\":[{\"type\":\"parcoords\",\"line\":{\"colorbar\":{\"outlinewidth\":0,\"ticks\":\"\"}}}],\"scatterpolargl\":[{\"type\":\"scatterpolargl\",\"marker\":{\"colorbar\":{\"outlinewidth\":0,\"ticks\":\"\"}}}],\"bar\":[{\"error_x\":{\"color\":\"#2a3f5f\"},\"error_y\":{\"color\":\"#2a3f5f\"},\"marker\":{\"line\":{\"color\":\"#E5ECF6\",\"width\":0.5},\"pattern\":{\"fillmode\":\"overlay\",\"size\":10,\"solidity\":0.2}},\"type\":\"bar\"}],\"scattergeo\":[{\"type\":\"scattergeo\",\"marker\":{\"colorbar\":{\"outlinewidth\":0,\"ticks\":\"\"}}}],\"scatterpolar\":[{\"type\":\"scatterpolar\",\"marker\":{\"colorbar\":{\"outlinewidth\":0,\"ticks\":\"\"}}}],\"histogram\":[{\"marker\":{\"pattern\":{\"fillmode\":\"overlay\",\"size\":10,\"solidity\":0.2}},\"type\":\"histogram\"}],\"scattergl\":[{\"type\":\"scattergl\",\"marker\":{\"colorbar\":{\"outlinewidth\":0,\"ticks\":\"\"}}}],\"scatter3d\":[{\"type\":\"scatter3d\",\"line\":{\"colorbar\":{\"outlinewidth\":0,\"ticks\":\"\"}},\"marker\":{\"colorbar\":{\"outlinewidth\":0,\"ticks\":\"\"}}}],\"scattermapbox\":[{\"type\":\"scattermapbox\",\"marker\":{\"colorbar\":{\"outlinewidth\":0,\"ticks\":\"\"}}}],\"scatterternary\":[{\"type\":\"scatterternary\",\"marker\":{\"colorbar\":{\"outlinewidth\":0,\"ticks\":\"\"}}}],\"scattercarpet\":[{\"type\":\"scattercarpet\",\"marker\":{\"colorbar\":{\"outlinewidth\":0,\"ticks\":\"\"}}}],\"carpet\":[{\"aaxis\":{\"endlinecolor\":\"#2a3f5f\",\"gridcolor\":\"white\",\"linecolor\":\"white\",\"minorgridcolor\":\"white\",\"startlinecolor\":\"#2a3f5f\"},\"baxis\":{\"endlinecolor\":\"#2a3f5f\",\"gridcolor\":\"white\",\"linecolor\":\"white\",\"minorgridcolor\":\"white\",\"startlinecolor\":\"#2a3f5f\"},\"type\":\"carpet\"}],\"table\":[{\"cells\":{\"fill\":{\"color\":\"#EBF0F8\"},\"line\":{\"color\":\"white\"}},\"header\":{\"fill\":{\"color\":\"#C8D4E3\"},\"line\":{\"color\":\"white\"}},\"type\":\"table\"}],\"barpolar\":[{\"marker\":{\"line\":{\"color\":\"#E5ECF6\",\"width\":0.5},\"pattern\":{\"fillmode\":\"overlay\",\"size\":10,\"solidity\":0.2}},\"type\":\"barpolar\"}],\"pie\":[{\"automargin\":true,\"type\":\"pie\"}]},\"layout\":{\"autotypenumbers\":\"strict\",\"colorway\":[\"#636efa\",\"#EF553B\",\"#00cc96\",\"#ab63fa\",\"#FFA15A\",\"#19d3f3\",\"#FF6692\",\"#B6E880\",\"#FF97FF\",\"#FECB52\"],\"font\":{\"color\":\"#2a3f5f\"},\"hovermode\":\"closest\",\"hoverlabel\":{\"align\":\"left\"},\"paper_bgcolor\":\"white\",\"plot_bgcolor\":\"#E5ECF6\",\"polar\":{\"bgcolor\":\"#E5ECF6\",\"angularaxis\":{\"gridcolor\":\"white\",\"linecolor\":\"white\",\"ticks\":\"\"},\"radialaxis\":{\"gridcolor\":\"white\",\"linecolor\":\"white\",\"ticks\":\"\"}},\"ternary\":{\"bgcolor\":\"#E5ECF6\",\"aaxis\":{\"gridcolor\":\"white\",\"linecolor\":\"white\",\"ticks\":\"\"},\"baxis\":{\"gridcolor\":\"white\",\"linecolor\":\"white\",\"ticks\":\"\"},\"caxis\":{\"gridcolor\":\"white\",\"linecolor\":\"white\",\"ticks\":\"\"}},\"coloraxis\":{\"colorbar\":{\"outlinewidth\":0,\"ticks\":\"\"}},\"colorscale\":{\"sequential\":[[0.0,\"#0d0887\"],[0.1111111111111111,\"#46039f\"],[0.2222222222222222,\"#7201a8\"],[0.3333333333333333,\"#9c179e\"],[0.4444444444444444,\"#bd3786\"],[0.5555555555555556,\"#d8576b\"],[0.6666666666666666,\"#ed7953\"],[0.7777777777777778,\"#fb9f3a\"],[0.8888888888888888,\"#fdca26\"],[1.0,\"#f0f921\"]],\"sequentialminus\":[[0.0,\"#0d0887\"],[0.1111111111111111,\"#46039f\"],[0.2222222222222222,\"#7201a8\"],[0.3333333333333333,\"#9c179e\"],[0.4444444444444444,\"#bd3786\"],[0.5555555555555556,\"#d8576b\"],[0.6666666666666666,\"#ed7953\"],[0.7777777777777778,\"#fb9f3a\"],[0.8888888888888888,\"#fdca26\"],[1.0,\"#f0f921\"]],\"diverging\":[[0,\"#8e0152\"],[0.1,\"#c51b7d\"],[0.2,\"#de77ae\"],[0.3,\"#f1b6da\"],[0.4,\"#fde0ef\"],[0.5,\"#f7f7f7\"],[0.6,\"#e6f5d0\"],[0.7,\"#b8e186\"],[0.8,\"#7fbc41\"],[0.9,\"#4d9221\"],[1,\"#276419\"]]},\"xaxis\":{\"gridcolor\":\"white\",\"linecolor\":\"white\",\"ticks\":\"\",\"title\":{\"standoff\":15},\"zerolinecolor\":\"white\",\"automargin\":true,\"zerolinewidth\":2},\"yaxis\":{\"gridcolor\":\"white\",\"linecolor\":\"white\",\"ticks\":\"\",\"title\":{\"standoff\":15},\"zerolinecolor\":\"white\",\"automargin\":true,\"zerolinewidth\":2},\"scene\":{\"xaxis\":{\"backgroundcolor\":\"#E5ECF6\",\"gridcolor\":\"white\",\"linecolor\":\"white\",\"showbackground\":true,\"ticks\":\"\",\"zerolinecolor\":\"white\",\"gridwidth\":2},\"yaxis\":{\"backgroundcolor\":\"#E5ECF6\",\"gridcolor\":\"white\",\"linecolor\":\"white\",\"showbackground\":true,\"ticks\":\"\",\"zerolinecolor\":\"white\",\"gridwidth\":2},\"zaxis\":{\"backgroundcolor\":\"#E5ECF6\",\"gridcolor\":\"white\",\"linecolor\":\"white\",\"showbackground\":true,\"ticks\":\"\",\"zerolinecolor\":\"white\",\"gridwidth\":2}},\"shapedefaults\":{\"line\":{\"color\":\"#2a3f5f\"}},\"annotationdefaults\":{\"arrowcolor\":\"#2a3f5f\",\"arrowhead\":0,\"arrowwidth\":1},\"geo\":{\"bgcolor\":\"white\",\"landcolor\":\"#E5ECF6\",\"subunitcolor\":\"white\",\"showland\":true,\"showlakes\":true,\"lakecolor\":\"white\"},\"title\":{\"x\":0.05},\"mapbox\":{\"style\":\"light\"}}},\"width\":600,\"height\":600},                        {\"responsive\": true}                    ).then(function(){\n",
       "                            \n",
       "var gd = document.getElementById('8e65b966-778b-4b6e-a14e-fc3e85c52013');\n",
       "var x = new MutationObserver(function (mutations, observer) {{\n",
       "        var display = window.getComputedStyle(gd).display;\n",
       "        if (!display || display === 'none') {{\n",
       "            console.log([gd, 'removed!']);\n",
       "            Plotly.purge(gd);\n",
       "            observer.disconnect();\n",
       "        }}\n",
       "}});\n",
       "\n",
       "// Listen for the removal of the full notebook cells\n",
       "var notebookContainer = gd.closest('#notebook-container');\n",
       "if (notebookContainer) {{\n",
       "    x.observe(notebookContainer, {childList: true});\n",
       "}}\n",
       "\n",
       "// Listen for the clearing of the current output cell\n",
       "var outputEl = gd.closest('.output');\n",
       "if (outputEl) {{\n",
       "    x.observe(outputEl, {childList: true});\n",
       "}}\n",
       "\n",
       "                        })                };                });            </script>        </div>"
      ]
     },
     "metadata": {},
     "output_type": "display_data"
    },
    {
     "data": {
      "text/plain": [
       "<networkx.classes.graph.Graph at 0x7f198066f5d0>"
      ]
     },
     "execution_count": 20,
     "metadata": {},
     "output_type": "execute_result"
    }
   ],
   "source": [
    "visualize_simplicial_complex(simplex_tree3,119,strain_names,save_filename=\"plots/simplicial_119.svg\")"
   ]
  },
  {
   "cell_type": "code",
   "execution_count": 25,
   "id": "6e77d2a3",
   "metadata": {},
   "outputs": [
    {
     "data": {
      "image/png": "[encoded data removed]",
      "text/plain": [
       "<Figure size 1000x800 with 2 Axes>"
      ]
     },
     "metadata": {},
     "output_type": "display_data"
    }
   ],
   "source": [
    "# Adjust the size of the plot\n",
    "plt.figure(figsize=(10, 8))  # You can adjust these numbers according to your needs\n",
    "\n",
    "# Create the heatmap\n",
    "sns.heatmap(hamming_matrix_3, annot=True, cmap='coolwarm', xticklabels=strain_names, yticklabels=strain_names, fmt='.0f')\n",
    "\n",
    "# Add titles and labels if necessary\n",
    "#plt.title('Heatmap for Hamming Matrix')\n",
    "plt.xlabel('Strain', fontsize=18)\n",
    "plt.ylabel('Strain', fontsize=18)\n",
    "\n",
    "# Adjust the layout\n",
    "plt.tight_layout()\n",
    "\n",
    "# Save the plot\n",
    "plt.savefig(\"plots/heatmap_hamming.svg\", dpi=600)\n",
    "#plt.savefig(\"plots/heatmap_hamming.png\", dpi=600)\n",
    "# Increase the size of the axis labels\n",
    "plt.xticks(fontsize=16)  # Adjust the size as needed\n",
    "plt.yticks(fontsize=16)\n",
    "sns.set(font_scale=1.6)\n",
    "# Display the plot\n",
    "plt.show()\n"
   ]
  }
 ],
 "metadata": {
  "kernelspec": {
   "display_name": "TDA",
   "language": "python",
   "name": "tda"
  },
  "language_info": {
   "codemirror_mode": {
    "name": "ipython",
    "version": 3
   },
   "file_extension": ".py",
   "mimetype": "text/x-python",
   "name": "python",
   "nbconvert_exporter": "python",
   "pygments_lexer": "ipython3",
   "version": "3.7.12"
  }
 },
 "nbformat": 4,
 "nbformat_minor": 5
}
