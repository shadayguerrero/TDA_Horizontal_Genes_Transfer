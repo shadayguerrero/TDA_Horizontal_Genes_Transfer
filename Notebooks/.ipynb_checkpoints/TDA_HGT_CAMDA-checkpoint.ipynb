{
 "cells": [
  {
   "cell_type": "markdown",
   "id": "3309a3d6",
   "metadata": {},
   "source": [
    "# Notebook 3\n",
    "In this notebook, we present the code to create the figures related to the CAMDA data, which are resistomes of antibiotic resistance gene markers from *Klebsiella, Escherichia, Enterobacter* bacterial isolates taken from a hospital in the United States. We will include these figures in the article **TDA captures HGT in AMR gene families among clinically relevant bacteria**.\n",
    "## Import libraries"
   ]
  },
  {
   "cell_type": "code",
   "execution_count": 1,
   "id": "64128d06",
   "metadata": {},
   "outputs": [],
   "source": [
    "import pandas as pd\n",
    "import numpy as np\n",
    "import gudhi as gd\n",
    "import matplotlib.pyplot as plt\n",
    "from scipy.spatial.distance import pdist, squareform\n",
    "from itertools import combinations\n",
    "import scipy.cluster.hierarchy as sch\n",
    "from Bio import SeqIO\n",
    "from Bio.Align import MultipleSeqAlignment\n",
    "from Bio.Phylo.TreeConstruction import DistanceCalculator, DistanceTreeConstructor\n",
    "from Bio.Phylo import draw\n",
    "import plotly.graph_objects as go\n",
    "import plotly.io as pio\n",
    "import networkx as nx\n",
    "\n",
    "import gudhi as gd\n",
    "\n",
    "import matplotlib.pyplot as plt\n",
    "import matplotlib.lines as mlines\n",
    "\n",
    "\n",
    "import requests\n",
    "from io import StringIO\n",
    "from scipy.cluster.hierarchy import dendrogram, linkage\n"
   ]
  },
  {
   "cell_type": "markdown",
   "id": "fbc93d0b",
   "metadata": {},
   "source": [
    "## Define functions\n",
    "These functions calculate a Hamming distance matrix from an array where the columns are genes and the rows are genomes."
   ]
  },
  {
   "cell_type": "code",
   "execution_count": 2,
   "id": "8b71cbce",
   "metadata": {},
   "outputs": [],
   "source": [
    "def plot_persistence(data, max_edge_length=2):\n",
    "    \"\"\"\n",
    "    data: La matriz de datos con las que se construirá la matriz de distancia.\n",
    "    max_edge_length: Máximo valor de distancia para construir el complejo Rips.\n",
    "    \"\"\"\n",
    "\n",
    "    # Calcular la matriz de distancia de Hamming\n",
    "    dist_matrix = pdist(data, metric='hamming')\n",
    "    # Convertir las distancias por pares a una matriz de distancia cuadrada\n",
    "    dist_matrix_square = squareform(dist_matrix)\n",
    "    \n",
    "    # Complejo Rips con la matriz de distancia\n",
    "    rips_complex = gd.RipsComplex(\n",
    "        distance_matrix=dist_matrix_square,\n",
    "        max_edge_length=max_edge_length\n",
    "    )\n",
    "    \n",
    "    # Crear el árbol de símplex a partir del complejo Rips\n",
    "    simplex_tree = rips_complex.create_simplex_tree(max_dimension=3)\n",
    "    \n",
    "    # Calcular la persistencia del complejo simplicial\n",
    "    persistence = simplex_tree.persistence()\n",
    "\n",
    "    # Graficar el diagrama de persistencia completo\n",
    "    gd.plot_persistence_diagram(persistence, legend=True)\n",
    "    gd.plot_persistence_barcode(persistence)\n",
    "\n",
    "    # Filtrar por \\( H_1 \\)\n",
    "    filtered_simplex_tree = simplex_tree.persistence_intervals_in_dimension(1)\n",
    "\n",
    "    # Graficar el diagrama de persistencia de \\( H_1 \\)\n",
    "    gd.plot_persistence_diagram(filtered_simplex_tree, legend=False)\n",
    "    gd.plot_persistence_barcode(filtered_simplex_tree)\n",
    "    \n",
    "    return simplex_tree, filtered_simplex_tree"
   ]
  },
  {
   "cell_type": "code",
   "execution_count": 19,
   "id": "53eaab7e",
   "metadata": {},
   "outputs": [],
   "source": [
    "def visualize_simplicial_complex(simplex_tree, filtration_value, vertex_names=None, save_filename=None, plot_size=1, dpi=600):\n",
    "    G = nx.Graph()\n",
    "    triangles = []\n",
    "    color_map = plt.get_cmap('coolwarm')\n",
    "\n",
    "    # Create a dictionary to map simplices to colors based on their filtration values\n",
    "    simplex_colors = {}\n",
    "    max_filtration = max(filt for _, filt in simplex_tree.get_filtration() if filt <= filtration_value)\n",
    "\n",
    "    for simplex, filt in simplex_tree.get_filtration():\n",
    "        if filt <= filtration_value:\n",
    "            # Normalize the filtration value and get the corresponding color\n",
    "            normalized_value = filt / max_filtration\n",
    "            color = color_map(normalized_value)\n",
    "            rgba_color = 'rgba({}, {}, {}, {})'.format(int(color[0]*255), int(color[1]*255), int(color[2]*255), color[3])\n",
    "            simplex_colors[tuple(simplex)] = rgba_color\n",
    "\n",
    "            # Add nodes and edges/triangles to the graph\n",
    "            if len(simplex) == 2:\n",
    "                G.add_edge(simplex[0], simplex[1])\n",
    "            elif len(simplex) == 1:\n",
    "                G.add_node(simplex[0])\n",
    "            elif len(simplex) == 3:\n",
    "                triangles.append(simplex)\n",
    "\n",
    "    # Position nodes using NetworkX's spring layout\n",
    "    pos = nx.spring_layout(G)\n",
    "\n",
    "    # Node trace\n",
    "    x_values = [pos[key][0] for key in pos]\n",
    "    y_values = [pos[key][1] for key in pos]\n",
    "    node_labels = [vertex_names[node] if vertex_names else node for node in pos]\n",
    "    #node_trace = go.Scatter(x=x_values, y=y_values, mode='markers+text', hoverinfo=\"text\", marker=dict(size=10), text=node_labels, textposition='top center')\n",
    "    node_trace = go.Scatter(x=x_values, y=y_values, mode='markers+text', hoverinfo=\"text\",marker=dict(size=14), text=node_labels, textposition='top center', textfont=dict(size=14))\n",
    "\n",
    "    \n",
    "    # Edge traces\n",
    "    edge_traces = []\n",
    "    for edge in G.edges():\n",
    "        x0, y0 = pos[edge[0]]\n",
    "        x1, y1 = pos[edge[1]]\n",
    "        color = simplex_colors.get(edge, 'rgba(0, 0, 0, 0.5)')  # Default color if edge not in simplex_colors\n",
    "        edge_trace = go.Scatter(x=[x0, x1, None], y=[y0, y1, None], mode='lines', line=dict(width=3, color=color))\n",
    "        edge_traces.append(edge_trace)\n",
    "\n",
    "        # Triangle traces\n",
    "    triangle_traces = []\n",
    "    for triangle in triangles:\n",
    "        x0, y0 = pos[triangle[0]]\n",
    "        x1, y1 = pos[triangle[1]]\n",
    "        x2, y2 = pos[triangle[2]]\n",
    "    # Utilizando el nuevo color RGBA para los triángulos\n",
    "        color = 'rgba(244, 157, 126, 0.545)'  # Color #F49D7E en formato RGBA\n",
    "        triangle_trace = go.Scatter(x=[x0, x1, x2, x0, None], y=[y0, y1, y2, y0, None], fill='toself', mode='lines', line=dict(width=3), fillcolor=color)\n",
    "        triangle_traces.append(triangle_trace)\n",
    "\n",
    "    # Combine all traces and create the figure\n",
    "\n",
    "    layout = go.Layout(showlegend=False, hovermode='closest', xaxis=dict(showgrid=False, zeroline=False,tickfont=dict(size=16, family='Arial, sans-serif') ), yaxis=dict(showgrid=False, zeroline=False,tickfont=dict(size=16, family='Arial, sans-serif')))\n",
    "\n",
    "    fig = go.Figure(data=edge_traces + triangle_traces + [node_trace], layout=layout)\n",
    "\n",
    "    # Set the figure size\n",
    "    fig.update_layout(width=plot_size * dpi, height=plot_size * dpi)\n",
    "\n",
    "    # Save the figure if a filename is provided\n",
    "    if save_filename:\n",
    "        pio.write_image(fig, save_filename, width=plot_size * dpi, height=plot_size * dpi, scale=1)\n",
    "\n",
    "    # Show the figure\n",
    "    fig.show()\n",
    "\n",
    "    return G"
   ]
  },
  {
   "cell_type": "code",
   "execution_count": 4,
   "id": "ecff0b3c",
   "metadata": {},
   "outputs": [],
   "source": [
    "def plot_barcodes(intervals, color, ax):\n",
    "    for idx, (start, end) in enumerate(intervals):\n",
    "        ax.plot([start, end], [idx, idx], color=color, lw=5)\n",
    "def plot_barcodes2(intervals, color, ax):\n",
    "    for idx, (start, end) in enumerate(intervals):\n",
    "        ax.plot([start, end], [idx, idx], color=color, lw=5, linestyle='-')\n"
   ]
  },
  {
   "cell_type": "code",
   "execution_count": 5,
   "id": "f7fbd768",
   "metadata": {},
   "outputs": [],
   "source": [
    "\n",
    "def plot_intervals_2(klebsiella_intervals, escherichia_intervals, save_path=None):\n",
    "    fig, ax = plt.subplots(figsize=(10, 10))\n",
    "\n",
    "    # Grafica los códigos de barras\n",
    "    plot_barcodes(klebsiella_intervals, '#F34E81', ax)\n",
    "    plot_barcodes2(escherichia_intervals, '#274E13', ax)\n",
    "\n",
    "    # Remueve las etiquetas del eje y\n",
    "    ax.get_yaxis().set_ticks([])\n",
    "\n",
    "    # Añade leyendas\n",
    "    klebsiella_legend = mlines.Line2D([], [], color='#F34E81', label='$Klebsiella$ $P.$ ')\n",
    "    escherichia_legend = mlines.Line2D([], [], color='#274E13', label='$Escherichia$ $C.$')\n",
    "    ax.legend(handles=[klebsiella_legend, escherichia_legend],fontsize=26)\n",
    "\n",
    "    #ax.set_title(r'H1 Persistence Barcode', fontsize=20)\n",
    "    plt.xticks(fontsize=16)  # Ajusta el tamaño según sea necesario\n",
    "    plt.yticks(fontsize=16)\n",
    "    #ax.set_xlabel('Persistence Interval', fontsize=22)\n",
    "    plt.tight_layout()\n",
    "    \n",
    "    if save_path:\n",
    "        plt.savefig(save_path, dpi=600, bbox_inches='tight')\n",
    "    else:\n",
    "        plt.show()\n"
   ]
  },
  {
   "cell_type": "code",
   "execution_count": 6,
   "id": "60f7ff61",
   "metadata": {},
   "outputs": [],
   "source": [
    "\n",
    "def plot_intervals(klebsiella_intervals, escherichia_intervals, enterobacter_intervals, save_path=None):\n",
    "    fig, ax = plt.subplots(figsize=(10, 8))\n",
    "\n",
    "    # Grafica los códigos de barras\n",
    "    plot_barcodes(klebsiella_intervals, '#F34E81', ax)\n",
    "    plot_barcodes(escherichia_intervals, '#274E13', ax)\n",
    "    plot_barcodes(enterobacter_intervals, '#8B572A', ax)  # Agregado Enterobacter\n",
    "\n",
    "    # Remueve las etiquetas del eje y\n",
    "    ax.get_yaxis().set_ticks([])\n",
    "\n",
    "    # Añade leyendas\n",
    "    klebsiella_legend = mlines.Line2D([], [], color='#F34E81', label='$Klebsiella$ $P.$ ')\n",
    "    escherichia_legend = mlines.Line2D([], [], color='#274E13', label='$Escherichia$ $C.$')\n",
    "    enterobacter_legend = mlines.Line2D([], [], color='#8B572A', label='$Enterobacter$ $H.$')\n",
    "    ax.legend(handles=[klebsiella_legend, escherichia_legend, enterobacter_legend],fontsize=26)\n",
    "    plt.xticks(fontsize=16)  # Ajusta el tamaño según sea necesario\n",
    "    plt.yticks(fontsize=16)\n",
    "\n",
    "    #ax.set_title(r'H1 Persistence Barcode', fontsize=20)\n",
    "    #ax.set_xlabel('Persistence Interval', fontsize=22)\n",
    "    plt.tight_layout()\n",
    "    \n",
    "    if save_path:\n",
    "        plt.savefig(save_path, dpi=600, bbox_inches='tight')\n",
    "    else:\n",
    "        plt.show()"
   ]
  },
  {
   "cell_type": "code",
   "execution_count": 7,
   "id": "18b955ed",
   "metadata": {},
   "outputs": [],
   "source": [
    "def plot_intervals_esc(bacteria, save_path=None):\n",
    "    fig, ax = plt.subplots(figsize=(10, 10))\n",
    "\n",
    "    # Grafica los códigos de barras\n",
    "    #plot_barcodes(bacteria, '#F34E81', ax)\n",
    "    plot_barcodes(bacteria, '#274E13', ax)\n",
    "\n",
    "    # Remueve las etiquetas del eje y\n",
    "    ax.get_yaxis().set_ticks([])\n",
    "\n",
    "    # Añade leyendas\n",
    "    #bacteria_legend = mlines.Line2D([], [], color='#F34E81', label='$Klebsiella$ $P.$ ')\n",
    "    bacteria_legend = mlines.Line2D([], [], color='#274E13', label='$Escherichia$ $C.$')\n",
    "    ax.legend(handles=[bacteria_legend],fontsize=16)\n",
    "\n",
    "#     ax.set_title(r'H1 Persistence Barcode', fontsize=20)\n",
    "#     ax.set_xlabel('Persistence Interval', fontsize=14)\n",
    "    plt.xticks(fontsize=16)  # Ajusta el tamaño según sea necesario\n",
    "    plt.yticks(fontsize=16)\n",
    "    plt.tight_layout()\n",
    "    \n",
    "    if save_path:\n",
    "        plt.savefig(save_path, dpi=600, bbox_inches='tight')\n",
    "    else:\n",
    "        plt.show()"
   ]
  },
  {
   "cell_type": "code",
   "execution_count": 8,
   "id": "db261a13",
   "metadata": {},
   "outputs": [],
   "source": [
    "def plot_intervals_kle(bacteria, save_path=None):\n",
    "    fig, ax = plt.subplots(figsize=(10, 10))\n",
    "\n",
    "    # Grafica los códigos de barras\n",
    "    plot_barcodes(bacteria, '#F34E81', ax)\n",
    "    #plot_barcodes(bacteria, '#274E13', ax)\n",
    "\n",
    "    # Remueve las etiquetas del eje y\n",
    "    ax.get_yaxis().set_ticks([])\n",
    "\n",
    "    # Añade leyendas\n",
    "    bacteria_legend = mlines.Line2D([], [], color='#F34E81', label='$Klebsiella$ $P.$ ')\n",
    "    #bacteria_legend = mlines.Line2D([], [], color='#274E13', label='$Escherichia$ $C.$')\n",
    "    ax.legend(handles=[bacteria_legend],fontsize=16)\n",
    "\n",
    "#     ax.set_title(r'H1 Persistence Barcode', fontsize=20)\n",
    "#     ax.set_xlabel('Persistence Interval', fontsize=14)\n",
    "    plt.xticks(fontsize=16)  # Ajusta el tamaño según sea necesario\n",
    "    plt.yticks(fontsize=16)\n",
    "    plt.tight_layout()\n",
    "    \n",
    "    if save_path:\n",
    "        plt.savefig(save_path, dpi=600, bbox_inches='tight')\n",
    "    else:\n",
    "        plt.show()"
   ]
  },
  {
   "cell_type": "markdown",
   "id": "28197b73",
   "metadata": {},
   "source": [
    "## Import data\n",
    "In the table `230705_AMR_mysterious_NCBI_all_nelly.csv`, we have resistomes sourced from the hospital provided by CAMDA. This includes resistomes derived from the MAGs (Metagenome-Assembled Genomes) of CAMDA's metagenomic samples and isolates downloaded from the literature, covering all three cases of *Enterobacter*, *Escherichia*, and *Klebsiella* bacteria"
   ]
  },
  {
   "cell_type": "code",
   "execution_count": 9,
   "id": "e3cb54b4",
   "metadata": {},
   "outputs": [],
   "source": [
    "# Define the URL\n",
    "url = 'https://raw.githubusercontent.com/ccm-bioinfo/cambda2023/main/06_amr_resistance/data/230705_AMR_mysterious_NCBI_all_nelly.csv'\n",
    "\n",
    "# Make a GET request to fetch the data from the URL\n",
    "response = requests.get(url)\n",
    "\n",
    "# Read the response content into a DataFrame\n",
    "df = pd.read_csv(StringIO(response.text))\n",
    "# Assuming you have a DataFrame named df and you want to remove a column named \"included\"\n",
    "column_name = 'included'\n",
    "# Remove the column from the DataFrame\n",
    "df = df.drop(column_name, axis=1)\n",
    "df.reset_index(drop=True, inplace=True)\n",
    "Color = df['City'].map({'NYC': '#fb8072', 'BAL': '#8dd3c7','DEN':'#ffffb3','MIN': '#bebada','SAC':'#80b1d3','SAN':'#efa92a','mysterious':'#b3de69'})\n",
    "# Inserting the new column as the second column\n",
    "df.insert(1, 'Color', Color)"
   ]
  },
  {
   "cell_type": "markdown",
   "id": "3ef0b314",
   "metadata": {},
   "source": [
    "From the previously mentioned data, we only retain the resistome originating from a single hospital, which corresponds to the samples provided by CAMDA as the mystery sample."
   ]
  },
  {
   "cell_type": "code",
   "execution_count": 10,
   "id": "ecbfea48",
   "metadata": {},
   "outputs": [],
   "source": [
    "df3=df.iloc[:146,:]  #  solo las muetras misteriosa (hospital)\n",
    "Klebsiella_3 = df3[df3['Species'] == 'Klebsiella pneumoniae']\n",
    "Enterobacter_3= df3[df3['Species'] == 'Enterobacter hormaechei']\n",
    "Escherichia_3 = df3[df3['Species'] == 'Escherichia coli']"
   ]
  },
  {
   "cell_type": "markdown",
   "id": "962e6117",
   "metadata": {},
   "source": [
    "### Escherichia"
   ]
  },
  {
   "cell_type": "code",
   "execution_count": 11,
   "id": "12e757b0",
   "metadata": {},
   "outputs": [
    {
     "name": "stderr",
     "output_type": "stream",
     "text": [
      "usetex mode requires dvipng.\n"
     ]
    },
    {
     "data": {
      "image/png": "[encoded data removed]",
      "text/plain": [
       "<Figure size 640x480 with 1 Axes>"
      ]
     },
     "metadata": {},
     "output_type": "display_data"
    },
    {
     "data": {
      "image/png": "[encoded data removed]",
      "text/plain": [
       "<Figure size 640x480 with 1 Axes>"
      ]
     },
     "metadata": {},
     "output_type": "display_data"
    },
    {
     "data": {
      "image/png": "[encoded data removed]",
      "text/plain": [
       "<Figure size 640x480 with 1 Axes>"
      ]
     },
     "metadata": {},
     "output_type": "display_data"
    },
    {
     "data": {
      "image/png": "[encoded data removed]",
      "text/plain": [
       "<Figure size 640x480 with 1 Axes>"
      ]
     },
     "metadata": {},
     "output_type": "display_data"
    }
   ],
   "source": [
    "# Uso de la función\n",
    "# Por ejemplo, con el conjunto de datos 'Escherichia'\n",
    "Escherichia_data = Escherichia_3.iloc[:,6:].values\n",
    "st_E_3, st_E_3_h1 =plot_persistence(Escherichia_data)\n",
    "escherichia_intervals = st_E_3_h1  # Ejemplo\n"
   ]
  },
  {
   "cell_type": "code",
   "execution_count": 12,
   "id": "6739670f",
   "metadata": {},
   "outputs": [],
   "source": [
    "\n",
    "# Llama a la función con los intervalos específicos\n",
    "# save_path = \"Hospitales_escherichia.png\"\n",
    "# plot_intervals_esc(escherichia_intervals, save_path)"
   ]
  },
  {
   "cell_type": "code",
   "execution_count": 20,
   "id": "f472f299",
   "metadata": {},
   "outputs": [
    {
     "data": {
      "application/vnd.plotly.v1+json": {
       "config": {
        "plotlyServerURL": "https://plot.ly"
       },
       "data": [
        {
         "line": {
          "color": "rgba(145, 179, 254, 1.0)",
          "width": 3
         },
         "mode": "lines",
         "type": "scatter",
         "x": [
          0.020578109095122844,
          0.05686359428518514,
          null
         ],
         "y": [
          0.39274291074043405,
          0.5646340642174184,
          null
         ]
        },
        {
         "line": {
          "color": "rgba(145, 179, 254, 1.0)",
          "width": 3
         },
         "mode": "lines",
         "type": "scatter",
         "x": [
          0.020578109095122844,
          -0.04801210570107053,
          null
         ],
         "y": [
          0.39274291074043405,
          0.5548886977435314,
          null
         ]
        },
        {
         "line": {
          "color": "rgba(185, 22, 42, 1.0)",
          "width": 3
         },
         "mode": "lines",
         "type": "scatter",
         "x": [
          0.020578109095122844,
          0.05357649036053256,
          null
         ],
         "y": [
          0.39274291074043405,
          0.1349665534032461,
          null
         ]
        },
        {
         "line": {
          "color": "rgba(198, 214, 241, 1.0)",
          "width": 3
         },
         "mode": "lines",
         "type": "scatter",
         "x": [
          0.18475159144713182,
          0.029617957760648836,
          null
         ],
         "y": [
          -0.21930247229450675,
          -0.24672676984574693,
          null
         ]
        },
        {
         "line": {
          "color": "rgba(215, 84, 68, 1.0)",
          "width": 3
         },
         "mode": "lines",
         "type": "scatter",
         "x": [
          0.18475159144713182,
          0.04886966941890937,
          null
         ],
         "y": [
          -0.21930247229450675,
          -0.08523698506369277,
          null
         ]
        },
        {
         "line": {
          "color": "rgba(198, 53, 52, 1.0)",
          "width": 3
         },
         "mode": "lines",
         "type": "scatter",
         "x": [
          0.18475159144713182,
          0.15482034760470265,
          null
         ],
         "y": [
          -0.21930247229450675,
          -0.05015467043457838,
          null
         ]
        },
        {
         "line": {
          "color": "rgba(185, 22, 42, 1.0)",
          "width": 3
         },
         "mode": "lines",
         "type": "scatter",
         "x": [
          0.18475159144713182,
          0.1251555070437326,
          null
         ],
         "y": [
          -0.21930247229450675,
          -0.1693894706371898,
          null
         ]
        },
        {
         "line": {
          "color": "rgba(179, 3, 38, 1.0)",
          "width": 3
         },
         "mode": "lines",
         "type": "scatter",
         "x": [
          0.18475159144713182,
          0.39304105901404063,
          null
         ],
         "y": [
          -0.21930247229450675,
          -0.2783624243995456,
          null
         ]
        },
        {
         "line": {
          "color": "rgba(151, 184, 254, 1.0)",
          "width": 3
         },
         "mode": "lines",
         "type": "scatter",
         "x": [
          0.05686359428518514,
          -0.04801210570107053,
          null
         ],
         "y": [
          0.5646340642174184,
          0.5548886977435314,
          null
         ]
        },
        {
         "line": {
          "color": "rgba(238, 135, 106, 1.0)",
          "width": 3
         },
         "mode": "lines",
         "type": "scatter",
         "x": [
          0.39304105901404063,
          0.5709957039182932,
          null
         ],
         "y": [
          -0.2783624243995456,
          -0.3238279461389106,
          null
         ]
        },
        {
         "line": {
          "color": "rgba(210, 75, 63, 1.0)",
          "width": 3
         },
         "mode": "lines",
         "type": "scatter",
         "x": [
          0.39304105901404063,
          0.29199201364521343,
          null
         ],
         "y": [
          -0.2783624243995456,
          -0.15733585346886006,
          null
         ]
        },
        {
         "line": {
          "color": "rgba(193, 212, 244, 1.0)",
          "width": 3
         },
         "mode": "lines",
         "type": "scatter",
         "x": [
          0.29199201364521343,
          0.15482034760470265,
          null
         ],
         "y": [
          -0.15733585346886006,
          -0.05015467043457838,
          null
         ]
        },
        {
         "line": {
          "color": "rgba(179, 3, 38, 1.0)",
          "width": 3
         },
         "mode": "lines",
         "type": "scatter",
         "x": [
          0.29199201364521343,
          0.1251555070437326,
          null
         ],
         "y": [
          -0.15733585346886006,
          -0.1693894706371898,
          null
         ]
        },
        {
         "line": {
          "color": "rgba(215, 84, 68, 1.0)",
          "width": 3
         },
         "mode": "lines",
         "type": "scatter",
         "x": [
          0.15482034760470265,
          0.05357649036053256,
          null
         ],
         "y": [
          -0.05015467043457838,
          0.1349665534032461,
          null
         ]
        },
        {
         "line": {
          "color": "rgba(198, 53, 52, 1.0)",
          "width": 3
         },
         "mode": "lines",
         "type": "scatter",
         "x": [
          0.15482034760470265,
          0.1251555070437326,
          null
         ],
         "y": [
          -0.05015467043457838,
          -0.1693894706371898,
          null
         ]
        },
        {
         "line": {
          "color": "rgba(191, 40, 46, 1.0)",
          "width": 3
         },
         "mode": "lines",
         "type": "scatter",
         "x": [
          0.15482034760470265,
          0.04886966941890937,
          null
         ],
         "y": [
          -0.05015467043457838,
          -0.08523698506369277,
          null
         ]
        },
        {
         "line": {
          "color": "rgba(229, 112, 87, 1.0)",
          "width": 3
         },
         "mode": "lines",
         "type": "scatter",
         "x": [
          0.1251555070437326,
          0.029617957760648836,
          null
         ],
         "y": [
          -0.1693894706371898,
          -0.24672676984574693,
          null
         ]
        },
        {
         "line": {
          "color": "rgba(215, 84, 68, 1.0)",
          "width": 3
         },
         "mode": "lines",
         "type": "scatter",
         "x": [
          0.1251555070437326,
          0.04886966941890937,
          null
         ],
         "y": [
          -0.1693894706371898,
          -0.08523698506369277,
          null
         ]
        },
        {
         "line": {
          "color": "rgba(198, 53, 52, 1.0)",
          "width": 3
         },
         "mode": "lines",
         "type": "scatter",
         "x": [
          0.05357649036053256,
          0.04886966941890937,
          null
         ],
         "y": [
          0.1349665534032461,
          -0.08523698506369277,
          null
         ]
        },
        {
         "line": {
          "color": "rgba(238, 135, 106, 1.0)",
          "width": 3
         },
         "mode": "lines",
         "type": "scatter",
         "x": [
          0.04886966941890937,
          0.029617957760648836,
          null
         ],
         "y": [
          -0.08523698506369277,
          -0.24672676984574693,
          null
         ]
        },
        {
         "fill": "toself",
         "fillcolor": "rgba(244, 157, 126, 0.545)",
         "line": {
          "width": 3
         },
         "mode": "lines",
         "type": "scatter",
         "x": [
          0.020578109095122844,
          0.05686359428518514,
          -0.04801210570107053,
          0.020578109095122844,
          null
         ],
         "y": [
          0.39274291074043405,
          0.5646340642174184,
          0.5548886977435314,
          0.39274291074043405,
          null
         ]
        },
        {
         "fill": "toself",
         "fillcolor": "rgba(244, 157, 126, 0.545)",
         "line": {
          "width": 3
         },
         "mode": "lines",
         "type": "scatter",
         "x": [
          0.18475159144713182,
          0.04886966941890937,
          0.029617957760648836,
          0.18475159144713182,
          null
         ],
         "y": [
          -0.21930247229450675,
          -0.08523698506369277,
          -0.24672676984574693,
          -0.21930247229450675,
          null
         ]
        },
        {
         "fill": "toself",
         "fillcolor": "rgba(244, 157, 126, 0.545)",
         "line": {
          "width": 3
         },
         "mode": "lines",
         "type": "scatter",
         "x": [
          0.1251555070437326,
          0.04886966941890937,
          0.029617957760648836,
          0.1251555070437326,
          null
         ],
         "y": [
          -0.1693894706371898,
          -0.08523698506369277,
          -0.24672676984574693,
          -0.1693894706371898,
          null
         ]
        },
        {
         "fill": "toself",
         "fillcolor": "rgba(244, 157, 126, 0.545)",
         "line": {
          "width": 3
         },
         "mode": "lines",
         "type": "scatter",
         "x": [
          0.18475159144713182,
          0.15482034760470265,
          0.04886966941890937,
          0.18475159144713182,
          null
         ],
         "y": [
          -0.21930247229450675,
          -0.05015467043457838,
          -0.08523698506369277,
          -0.21930247229450675,
          null
         ]
        },
        {
         "fill": "toself",
         "fillcolor": "rgba(244, 157, 126, 0.545)",
         "line": {
          "width": 3
         },
         "mode": "lines",
         "type": "scatter",
         "x": [
          0.15482034760470265,
          0.1251555070437326,
          0.04886966941890937,
          0.15482034760470265,
          null
         ],
         "y": [
          -0.05015467043457838,
          -0.1693894706371898,
          -0.08523698506369277,
          -0.05015467043457838,
          null
         ]
        },
        {
         "fill": "toself",
         "fillcolor": "rgba(244, 157, 126, 0.545)",
         "line": {
          "width": 3
         },
         "mode": "lines",
         "type": "scatter",
         "x": [
          0.15482034760470265,
          0.05357649036053256,
          0.04886966941890937,
          0.15482034760470265,
          null
         ],
         "y": [
          -0.05015467043457838,
          0.1349665534032461,
          -0.08523698506369277,
          -0.05015467043457838,
          null
         ]
        },
        {
         "fill": "toself",
         "fillcolor": "rgba(244, 157, 126, 0.545)",
         "line": {
          "width": 3
         },
         "mode": "lines",
         "type": "scatter",
         "x": [
          0.18475159144713182,
          0.15482034760470265,
          0.1251555070437326,
          0.18475159144713182,
          null
         ],
         "y": [
          -0.21930247229450675,
          -0.05015467043457838,
          -0.1693894706371898,
          -0.21930247229450675,
          null
         ]
        },
        {
         "fill": "toself",
         "fillcolor": "rgba(244, 157, 126, 0.545)",
         "line": {
          "width": 3
         },
         "mode": "lines",
         "type": "scatter",
         "x": [
          0.18475159144713182,
          0.1251555070437326,
          0.04886966941890937,
          0.18475159144713182,
          null
         ],
         "y": [
          -0.21930247229450675,
          -0.1693894706371898,
          -0.08523698506369277,
          -0.21930247229450675,
          null
         ]
        },
        {
         "fill": "toself",
         "fillcolor": "rgba(244, 157, 126, 0.545)",
         "line": {
          "width": 3
         },
         "mode": "lines",
         "type": "scatter",
         "x": [
          0.18475159144713182,
          0.1251555070437326,
          0.029617957760648836,
          0.18475159144713182,
          null
         ],
         "y": [
          -0.21930247229450675,
          -0.1693894706371898,
          -0.24672676984574693,
          -0.21930247229450675,
          null
         ]
        },
        {
         "fill": "toself",
         "fillcolor": "rgba(244, 157, 126, 0.545)",
         "line": {
          "width": 3
         },
         "mode": "lines",
         "type": "scatter",
         "x": [
          0.29199201364521343,
          0.15482034760470265,
          0.1251555070437326,
          0.29199201364521343,
          null
         ],
         "y": [
          -0.15733585346886006,
          -0.05015467043457838,
          -0.1693894706371898,
          -0.15733585346886006,
          null
         ]
        },
        {
         "hoverinfo": "text",
         "marker": {
          "size": 14
         },
         "mode": "markers+text",
         "text": [
          "0",
          "1",
          "2",
          "3",
          "4",
          "5",
          "6",
          "7",
          "8",
          "9",
          "10",
          "11",
          "12",
          "13"
         ],
         "textfont": {
          "size": 14
         },
         "textposition": "top center",
         "type": "scatter",
         "x": [
          0.020578109095122844,
          0.18475159144713182,
          -0.8822499378924425,
          0.05686359428518514,
          0.39304105901404063,
          0.5709957039182932,
          0.29199201364521343,
          0.15482034760470265,
          -0.04801210570107053,
          0.1251555070437326,
          0.05357649036053256,
          -1,
          0.04886966941890937,
          0.029617957760648836
         ],
         "y": [
          0.39274291074043405,
          -0.21930247229450675,
          -0.677300888318458,
          0.5646340642174184,
          -0.2783624243995456,
          -0.3238279461389106,
          -0.15733585346886006,
          -0.05015467043457838,
          0.5548886977435314,
          -0.1693894706371898,
          0.1349665534032461,
          0.560405254496859,
          -0.08523698506369277,
          -0.24672676984574693
         ]
        }
       ],
       "layout": {
        "height": 600,
        "hovermode": "closest",
        "showlegend": false,
        "template": {
         "data": {
          "bar": [
           {
            "error_x": {
             "color": "#2a3f5f"
            },
            "error_y": {
             "color": "#2a3f5f"
            },
            "marker": {
             "line": {
              "color": "#E5ECF6",
              "width": 0.5
             },
             "pattern": {
              "fillmode": "overlay",
              "size": 10,
              "solidity": 0.2
             }
            },
            "type": "bar"
           }
          ],
          "barpolar": [
           {
            "marker": {
             "line": {
              "color": "#E5ECF6",
              "width": 0.5
             },
             "pattern": {
              "fillmode": "overlay",
              "size": 10,
              "solidity": 0.2
             }
            },
            "type": "barpolar"
           }
          ],
          "carpet": [
           {
            "aaxis": {
             "endlinecolor": "#2a3f5f",
             "gridcolor": "white",
             "linecolor": "white",
             "minorgridcolor": "white",
             "startlinecolor": "#2a3f5f"
            },
            "baxis": {
             "endlinecolor": "#2a3f5f",
             "gridcolor": "white",
             "linecolor": "white",
             "minorgridcolor": "white",
             "startlinecolor": "#2a3f5f"
            },
            "type": "carpet"
           }
          ],
          "choropleth": [
           {
            "colorbar": {
             "outlinewidth": 0,
             "ticks": ""
            },
            "type": "choropleth"
           }
          ],
          "contour": [
           {
            "colorbar": {
             "outlinewidth": 0,
             "ticks": ""
            },
            "colorscale": [
             [
              0,
              "#0d0887"
             ],
             [
              0.1111111111111111,
              "#46039f"
             ],
             [
              0.2222222222222222,
              "#7201a8"
             ],
             [
              0.3333333333333333,
              "#9c179e"
             ],
             [
              0.4444444444444444,
              "#bd3786"
             ],
             [
              0.5555555555555556,
              "#d8576b"
             ],
             [
              0.6666666666666666,
              "#ed7953"
             ],
             [
              0.7777777777777778,
              "#fb9f3a"
             ],
             [
              0.8888888888888888,
              "#fdca26"
             ],
             [
              1,
              "#f0f921"
             ]
            ],
            "type": "contour"
           }
          ],
          "contourcarpet": [
           {
            "colorbar": {
             "outlinewidth": 0,
             "ticks": ""
            },
            "type": "contourcarpet"
           }
          ],
          "heatmap": [
           {
            "colorbar": {
             "outlinewidth": 0,
             "ticks": ""
            },
            "colorscale": [
             [
              0,
              "#0d0887"
             ],
             [
              0.1111111111111111,
              "#46039f"
             ],
             [
              0.2222222222222222,
              "#7201a8"
             ],
             [
              0.3333333333333333,
              "#9c179e"
             ],
             [
              0.4444444444444444,
              "#bd3786"
             ],
             [
              0.5555555555555556,
              "#d8576b"
             ],
             [
              0.6666666666666666,
              "#ed7953"
             ],
             [
              0.7777777777777778,
              "#fb9f3a"
             ],
             [
              0.8888888888888888,
              "#fdca26"
             ],
             [
              1,
              "#f0f921"
             ]
            ],
            "type": "heatmap"
           }
          ],
          "heatmapgl": [
           {
            "colorbar": {
             "outlinewidth": 0,
             "ticks": ""
            },
            "colorscale": [
             [
              0,
              "#0d0887"
             ],
             [
              0.1111111111111111,
              "#46039f"
             ],
             [
              0.2222222222222222,
              "#7201a8"
             ],
             [
              0.3333333333333333,
              "#9c179e"
             ],
             [
              0.4444444444444444,
              "#bd3786"
             ],
             [
              0.5555555555555556,
              "#d8576b"
             ],
             [
              0.6666666666666666,
              "#ed7953"
             ],
             [
              0.7777777777777778,
              "#fb9f3a"
             ],
             [
              0.8888888888888888,
              "#fdca26"
             ],
             [
              1,
              "#f0f921"
             ]
            ],
            "type": "heatmapgl"
           }
          ],
          "histogram": [
           {
            "marker": {
             "pattern": {
              "fillmode": "overlay",
              "size": 10,
              "solidity": 0.2
             }
            },
            "type": "histogram"
           }
          ],
          "histogram2d": [
           {
            "colorbar": {
             "outlinewidth": 0,
             "ticks": ""
            },
            "colorscale": [
             [
              0,
              "#0d0887"
             ],
             [
              0.1111111111111111,
              "#46039f"
             ],
             [
              0.2222222222222222,
              "#7201a8"
             ],
             [
              0.3333333333333333,
              "#9c179e"
             ],
             [
              0.4444444444444444,
              "#bd3786"
             ],
             [
              0.5555555555555556,
              "#d8576b"
             ],
             [
              0.6666666666666666,
              "#ed7953"
             ],
             [
              0.7777777777777778,
              "#fb9f3a"
             ],
             [
              0.8888888888888888,
              "#fdca26"
             ],
             [
              1,
              "#f0f921"
             ]
            ],
            "type": "histogram2d"
           }
          ],
          "histogram2dcontour": [
           {
            "colorbar": {
             "outlinewidth": 0,
             "ticks": ""
            },
            "colorscale": [
             [
              0,
              "#0d0887"
             ],
             [
              0.1111111111111111,
              "#46039f"
             ],
             [
              0.2222222222222222,
              "#7201a8"
             ],
             [
              0.3333333333333333,
              "#9c179e"
             ],
             [
              0.4444444444444444,
              "#bd3786"
             ],
             [
              0.5555555555555556,
              "#d8576b"
             ],
             [
              0.6666666666666666,
              "#ed7953"
             ],
             [
              0.7777777777777778,
              "#fb9f3a"
             ],
             [
              0.8888888888888888,
              "#fdca26"
             ],
             [
              1,
              "#f0f921"
             ]
            ],
            "type": "histogram2dcontour"
           }
          ],
          "mesh3d": [
           {
            "colorbar": {
             "outlinewidth": 0,
             "ticks": ""
            },
            "type": "mesh3d"
           }
          ],
          "parcoords": [
           {
            "line": {
             "colorbar": {
              "outlinewidth": 0,
              "ticks": ""
             }
            },
            "type": "parcoords"
           }
          ],
          "pie": [
           {
            "automargin": true,
            "type": "pie"
           }
          ],
          "scatter": [
           {
            "fillpattern": {
             "fillmode": "overlay",
             "size": 10,
             "solidity": 0.2
            },
            "type": "scatter"
           }
          ],
          "scatter3d": [
           {
            "line": {
             "colorbar": {
              "outlinewidth": 0,
              "ticks": ""
             }
            },
            "marker": {
             "colorbar": {
              "outlinewidth": 0,
              "ticks": ""
             }
            },
            "type": "scatter3d"
           }
          ],
          "scattercarpet": [
           {
            "marker": {
             "colorbar": {
              "outlinewidth": 0,
              "ticks": ""
             }
            },
            "type": "scattercarpet"
           }
          ],
          "scattergeo": [
           {
            "marker": {
             "colorbar": {
              "outlinewidth": 0,
              "ticks": ""
             }
            },
            "type": "scattergeo"
           }
          ],
          "scattergl": [
           {
            "marker": {
             "colorbar": {
              "outlinewidth": 0,
              "ticks": ""
             }
            },
            "type": "scattergl"
           }
          ],
          "scattermapbox": [
           {
            "marker": {
             "colorbar": {
              "outlinewidth": 0,
              "ticks": ""
             }
            },
            "type": "scattermapbox"
           }
          ],
          "scatterpolar": [
           {
            "marker": {
             "colorbar": {
              "outlinewidth": 0,
              "ticks": ""
             }
            },
            "type": "scatterpolar"
           }
          ],
          "scatterpolargl": [
           {
            "marker": {
             "colorbar": {
              "outlinewidth": 0,
              "ticks": ""
             }
            },
            "type": "scatterpolargl"
           }
          ],
          "scatterternary": [
           {
            "marker": {
             "colorbar": {
              "outlinewidth": 0,
              "ticks": ""
             }
            },
            "type": "scatterternary"
           }
          ],
          "surface": [
           {
            "colorbar": {
             "outlinewidth": 0,
             "ticks": ""
            },
            "colorscale": [
             [
              0,
              "#0d0887"
             ],
             [
              0.1111111111111111,
              "#46039f"
             ],
             [
              0.2222222222222222,
              "#7201a8"
             ],
             [
              0.3333333333333333,
              "#9c179e"
             ],
             [
              0.4444444444444444,
              "#bd3786"
             ],
             [
              0.5555555555555556,
              "#d8576b"
             ],
             [
              0.6666666666666666,
              "#ed7953"
             ],
             [
              0.7777777777777778,
              "#fb9f3a"
             ],
             [
              0.8888888888888888,
              "#fdca26"
             ],
             [
              1,
              "#f0f921"
             ]
            ],
            "type": "surface"
           }
          ],
          "table": [
           {
            "cells": {
             "fill": {
              "color": "#EBF0F8"
             },
             "line": {
              "color": "white"
             }
            },
            "header": {
             "fill": {
              "color": "#C8D4E3"
             },
             "line": {
              "color": "white"
             }
            },
            "type": "table"
           }
          ]
         },
         "layout": {
          "annotationdefaults": {
           "arrowcolor": "#2a3f5f",
           "arrowhead": 0,
           "arrowwidth": 1
          },
          "autotypenumbers": "strict",
          "coloraxis": {
           "colorbar": {
            "outlinewidth": 0,
            "ticks": ""
           }
          },
          "colorscale": {
           "diverging": [
            [
             0,
             "#8e0152"
            ],
            [
             0.1,
             "#c51b7d"
            ],
            [
             0.2,
             "#de77ae"
            ],
            [
             0.3,
             "#f1b6da"
            ],
            [
             0.4,
             "#fde0ef"
            ],
            [
             0.5,
             "#f7f7f7"
            ],
            [
             0.6,
             "#e6f5d0"
            ],
            [
             0.7,
             "#b8e186"
            ],
            [
             0.8,
             "#7fbc41"
            ],
            [
             0.9,
             "#4d9221"
            ],
            [
             1,
             "#276419"
            ]
           ],
           "sequential": [
            [
             0,
             "#0d0887"
            ],
            [
             0.1111111111111111,
             "#46039f"
            ],
            [
             0.2222222222222222,
             "#7201a8"
            ],
            [
             0.3333333333333333,
             "#9c179e"
            ],
            [
             0.4444444444444444,
             "#bd3786"
            ],
            [
             0.5555555555555556,
             "#d8576b"
            ],
            [
             0.6666666666666666,
             "#ed7953"
            ],
            [
             0.7777777777777778,
             "#fb9f3a"
            ],
            [
             0.8888888888888888,
             "#fdca26"
            ],
            [
             1,
             "#f0f921"
            ]
           ],
           "sequentialminus": [
            [
             0,
             "#0d0887"
            ],
            [
             0.1111111111111111,
             "#46039f"
            ],
            [
             0.2222222222222222,
             "#7201a8"
            ],
            [
             0.3333333333333333,
             "#9c179e"
            ],
            [
             0.4444444444444444,
             "#bd3786"
            ],
            [
             0.5555555555555556,
             "#d8576b"
            ],
            [
             0.6666666666666666,
             "#ed7953"
            ],
            [
             0.7777777777777778,
             "#fb9f3a"
            ],
            [
             0.8888888888888888,
             "#fdca26"
            ],
            [
             1,
             "#f0f921"
            ]
           ]
          },
          "colorway": [
           "#636efa",
           "#EF553B",
           "#00cc96",
           "#ab63fa",
           "#FFA15A",
           "#19d3f3",
           "#FF6692",
           "#B6E880",
           "#FF97FF",
           "#FECB52"
          ],
          "font": {
           "color": "#2a3f5f"
          },
          "geo": {
           "bgcolor": "white",
           "lakecolor": "white",
           "landcolor": "#E5ECF6",
           "showlakes": true,
           "showland": true,
           "subunitcolor": "white"
          },
          "hoverlabel": {
           "align": "left"
          },
          "hovermode": "closest",
          "mapbox": {
           "style": "light"
          },
          "paper_bgcolor": "white",
          "plot_bgcolor": "#E5ECF6",
          "polar": {
           "angularaxis": {
            "gridcolor": "white",
            "linecolor": "white",
            "ticks": ""
           },
           "bgcolor": "#E5ECF6",
           "radialaxis": {
            "gridcolor": "white",
            "linecolor": "white",
            "ticks": ""
           }
          },
          "scene": {
           "xaxis": {
            "backgroundcolor": "#E5ECF6",
            "gridcolor": "white",
            "gridwidth": 2,
            "linecolor": "white",
            "showbackground": true,
            "ticks": "",
            "zerolinecolor": "white"
           },
           "yaxis": {
            "backgroundcolor": "#E5ECF6",
            "gridcolor": "white",
            "gridwidth": 2,
            "linecolor": "white",
            "showbackground": true,
            "ticks": "",
            "zerolinecolor": "white"
           },
           "zaxis": {
            "backgroundcolor": "#E5ECF6",
            "gridcolor": "white",
            "gridwidth": 2,
            "linecolor": "white",
            "showbackground": true,
            "ticks": "",
            "zerolinecolor": "white"
           }
          },
          "shapedefaults": {
           "line": {
            "color": "#2a3f5f"
           }
          },
          "ternary": {
           "aaxis": {
            "gridcolor": "white",
            "linecolor": "white",
            "ticks": ""
           },
           "baxis": {
            "gridcolor": "white",
            "linecolor": "white",
            "ticks": ""
           },
           "bgcolor": "#E5ECF6",
           "caxis": {
            "gridcolor": "white",
            "linecolor": "white",
            "ticks": ""
           }
          },
          "title": {
           "x": 0.05
          },
          "xaxis": {
           "automargin": true,
           "gridcolor": "white",
           "linecolor": "white",
           "ticks": "",
           "title": {
            "standoff": 15
           },
           "zerolinecolor": "white",
           "zerolinewidth": 2
          },
          "yaxis": {
           "automargin": true,
           "gridcolor": "white",
           "linecolor": "white",
           "ticks": "",
           "title": {
            "standoff": 15
           },
           "zerolinecolor": "white",
           "zerolinewidth": 2
          }
         }
        },
        "width": 600,
        "xaxis": {
         "showgrid": false,
         "tickfont": {
          "family": "Arial, sans-serif",
          "size": 16
         },
         "zeroline": false
        },
        "yaxis": {
         "showgrid": false,
         "tickfont": {
          "family": "Arial, sans-serif",
          "size": 16
         },
         "zeroline": false
        }
       }
      },
      "text/html": [
       "<div>                            <div id=\"efdf9bde-be78-4bb3-9977-aef907f23746\" class=\"plotly-graph-div\" style=\"height:600px; width:600px;\"></div>            <script type=\"text/javascript\">                require([\"plotly\"], function(Plotly) {                    window.PLOTLYENV=window.PLOTLYENV || {};                                    if (document.getElementById(\"efdf9bde-be78-4bb3-9977-aef907f23746\")) {                    Plotly.newPlot(                        \"efdf9bde-be78-4bb3-9977-aef907f23746\",                        [{\"line\":{\"color\":\"rgba(145, 179, 254, 1.0)\",\"width\":3},\"mode\":\"lines\",\"x\":[0.020578109095122844,0.05686359428518514,null],\"y\":[0.39274291074043405,0.5646340642174184,null],\"type\":\"scatter\"},{\"line\":{\"color\":\"rgba(145, 179, 254, 1.0)\",\"width\":3},\"mode\":\"lines\",\"x\":[0.020578109095122844,-0.04801210570107053,null],\"y\":[0.39274291074043405,0.5548886977435314,null],\"type\":\"scatter\"},{\"line\":{\"color\":\"rgba(185, 22, 42, 1.0)\",\"width\":3},\"mode\":\"lines\",\"x\":[0.020578109095122844,0.05357649036053256,null],\"y\":[0.39274291074043405,0.1349665534032461,null],\"type\":\"scatter\"},{\"line\":{\"color\":\"rgba(198, 214, 241, 1.0)\",\"width\":3},\"mode\":\"lines\",\"x\":[0.18475159144713182,0.029617957760648836,null],\"y\":[-0.21930247229450675,-0.24672676984574693,null],\"type\":\"scatter\"},{\"line\":{\"color\":\"rgba(215, 84, 68, 1.0)\",\"width\":3},\"mode\":\"lines\",\"x\":[0.18475159144713182,0.04886966941890937,null],\"y\":[-0.21930247229450675,-0.08523698506369277,null],\"type\":\"scatter\"},{\"line\":{\"color\":\"rgba(198, 53, 52, 1.0)\",\"width\":3},\"mode\":\"lines\",\"x\":[0.18475159144713182,0.15482034760470265,null],\"y\":[-0.21930247229450675,-0.05015467043457838,null],\"type\":\"scatter\"},{\"line\":{\"color\":\"rgba(185, 22, 42, 1.0)\",\"width\":3},\"mode\":\"lines\",\"x\":[0.18475159144713182,0.1251555070437326,null],\"y\":[-0.21930247229450675,-0.1693894706371898,null],\"type\":\"scatter\"},{\"line\":{\"color\":\"rgba(179, 3, 38, 1.0)\",\"width\":3},\"mode\":\"lines\",\"x\":[0.18475159144713182,0.39304105901404063,null],\"y\":[-0.21930247229450675,-0.2783624243995456,null],\"type\":\"scatter\"},{\"line\":{\"color\":\"rgba(151, 184, 254, 1.0)\",\"width\":3},\"mode\":\"lines\",\"x\":[0.05686359428518514,-0.04801210570107053,null],\"y\":[0.5646340642174184,0.5548886977435314,null],\"type\":\"scatter\"},{\"line\":{\"color\":\"rgba(238, 135, 106, 1.0)\",\"width\":3},\"mode\":\"lines\",\"x\":[0.39304105901404063,0.5709957039182932,null],\"y\":[-0.2783624243995456,-0.3238279461389106,null],\"type\":\"scatter\"},{\"line\":{\"color\":\"rgba(210, 75, 63, 1.0)\",\"width\":3},\"mode\":\"lines\",\"x\":[0.39304105901404063,0.29199201364521343,null],\"y\":[-0.2783624243995456,-0.15733585346886006,null],\"type\":\"scatter\"},{\"line\":{\"color\":\"rgba(193, 212, 244, 1.0)\",\"width\":3},\"mode\":\"lines\",\"x\":[0.29199201364521343,0.15482034760470265,null],\"y\":[-0.15733585346886006,-0.05015467043457838,null],\"type\":\"scatter\"},{\"line\":{\"color\":\"rgba(179, 3, 38, 1.0)\",\"width\":3},\"mode\":\"lines\",\"x\":[0.29199201364521343,0.1251555070437326,null],\"y\":[-0.15733585346886006,-0.1693894706371898,null],\"type\":\"scatter\"},{\"line\":{\"color\":\"rgba(215, 84, 68, 1.0)\",\"width\":3},\"mode\":\"lines\",\"x\":[0.15482034760470265,0.05357649036053256,null],\"y\":[-0.05015467043457838,0.1349665534032461,null],\"type\":\"scatter\"},{\"line\":{\"color\":\"rgba(198, 53, 52, 1.0)\",\"width\":3},\"mode\":\"lines\",\"x\":[0.15482034760470265,0.1251555070437326,null],\"y\":[-0.05015467043457838,-0.1693894706371898,null],\"type\":\"scatter\"},{\"line\":{\"color\":\"rgba(191, 40, 46, 1.0)\",\"width\":3},\"mode\":\"lines\",\"x\":[0.15482034760470265,0.04886966941890937,null],\"y\":[-0.05015467043457838,-0.08523698506369277,null],\"type\":\"scatter\"},{\"line\":{\"color\":\"rgba(229, 112, 87, 1.0)\",\"width\":3},\"mode\":\"lines\",\"x\":[0.1251555070437326,0.029617957760648836,null],\"y\":[-0.1693894706371898,-0.24672676984574693,null],\"type\":\"scatter\"},{\"line\":{\"color\":\"rgba(215, 84, 68, 1.0)\",\"width\":3},\"mode\":\"lines\",\"x\":[0.1251555070437326,0.04886966941890937,null],\"y\":[-0.1693894706371898,-0.08523698506369277,null],\"type\":\"scatter\"},{\"line\":{\"color\":\"rgba(198, 53, 52, 1.0)\",\"width\":3},\"mode\":\"lines\",\"x\":[0.05357649036053256,0.04886966941890937,null],\"y\":[0.1349665534032461,-0.08523698506369277,null],\"type\":\"scatter\"},{\"line\":{\"color\":\"rgba(238, 135, 106, 1.0)\",\"width\":3},\"mode\":\"lines\",\"x\":[0.04886966941890937,0.029617957760648836,null],\"y\":[-0.08523698506369277,-0.24672676984574693,null],\"type\":\"scatter\"},{\"fill\":\"toself\",\"fillcolor\":\"rgba(244, 157, 126, 0.545)\",\"line\":{\"width\":3},\"mode\":\"lines\",\"x\":[0.020578109095122844,0.05686359428518514,-0.04801210570107053,0.020578109095122844,null],\"y\":[0.39274291074043405,0.5646340642174184,0.5548886977435314,0.39274291074043405,null],\"type\":\"scatter\"},{\"fill\":\"toself\",\"fillcolor\":\"rgba(244, 157, 126, 0.545)\",\"line\":{\"width\":3},\"mode\":\"lines\",\"x\":[0.18475159144713182,0.04886966941890937,0.029617957760648836,0.18475159144713182,null],\"y\":[-0.21930247229450675,-0.08523698506369277,-0.24672676984574693,-0.21930247229450675,null],\"type\":\"scatter\"},{\"fill\":\"toself\",\"fillcolor\":\"rgba(244, 157, 126, 0.545)\",\"line\":{\"width\":3},\"mode\":\"lines\",\"x\":[0.1251555070437326,0.04886966941890937,0.029617957760648836,0.1251555070437326,null],\"y\":[-0.1693894706371898,-0.08523698506369277,-0.24672676984574693,-0.1693894706371898,null],\"type\":\"scatter\"},{\"fill\":\"toself\",\"fillcolor\":\"rgba(244, 157, 126, 0.545)\",\"line\":{\"width\":3},\"mode\":\"lines\",\"x\":[0.18475159144713182,0.15482034760470265,0.04886966941890937,0.18475159144713182,null],\"y\":[-0.21930247229450675,-0.05015467043457838,-0.08523698506369277,-0.21930247229450675,null],\"type\":\"scatter\"},{\"fill\":\"toself\",\"fillcolor\":\"rgba(244, 157, 126, 0.545)\",\"line\":{\"width\":3},\"mode\":\"lines\",\"x\":[0.15482034760470265,0.1251555070437326,0.04886966941890937,0.15482034760470265,null],\"y\":[-0.05015467043457838,-0.1693894706371898,-0.08523698506369277,-0.05015467043457838,null],\"type\":\"scatter\"},{\"fill\":\"toself\",\"fillcolor\":\"rgba(244, 157, 126, 0.545)\",\"line\":{\"width\":3},\"mode\":\"lines\",\"x\":[0.15482034760470265,0.05357649036053256,0.04886966941890937,0.15482034760470265,null],\"y\":[-0.05015467043457838,0.1349665534032461,-0.08523698506369277,-0.05015467043457838,null],\"type\":\"scatter\"},{\"fill\":\"toself\",\"fillcolor\":\"rgba(244, 157, 126, 0.545)\",\"line\":{\"width\":3},\"mode\":\"lines\",\"x\":[0.18475159144713182,0.15482034760470265,0.1251555070437326,0.18475159144713182,null],\"y\":[-0.21930247229450675,-0.05015467043457838,-0.1693894706371898,-0.21930247229450675,null],\"type\":\"scatter\"},{\"fill\":\"toself\",\"fillcolor\":\"rgba(244, 157, 126, 0.545)\",\"line\":{\"width\":3},\"mode\":\"lines\",\"x\":[0.18475159144713182,0.1251555070437326,0.04886966941890937,0.18475159144713182,null],\"y\":[-0.21930247229450675,-0.1693894706371898,-0.08523698506369277,-0.21930247229450675,null],\"type\":\"scatter\"},{\"fill\":\"toself\",\"fillcolor\":\"rgba(244, 157, 126, 0.545)\",\"line\":{\"width\":3},\"mode\":\"lines\",\"x\":[0.18475159144713182,0.1251555070437326,0.029617957760648836,0.18475159144713182,null],\"y\":[-0.21930247229450675,-0.1693894706371898,-0.24672676984574693,-0.21930247229450675,null],\"type\":\"scatter\"},{\"fill\":\"toself\",\"fillcolor\":\"rgba(244, 157, 126, 0.545)\",\"line\":{\"width\":3},\"mode\":\"lines\",\"x\":[0.29199201364521343,0.15482034760470265,0.1251555070437326,0.29199201364521343,null],\"y\":[-0.15733585346886006,-0.05015467043457838,-0.1693894706371898,-0.15733585346886006,null],\"type\":\"scatter\"},{\"hoverinfo\":\"text\",\"marker\":{\"size\":14},\"mode\":\"markers+text\",\"text\":[\"0\",\"1\",\"2\",\"3\",\"4\",\"5\",\"6\",\"7\",\"8\",\"9\",\"10\",\"11\",\"12\",\"13\"],\"textfont\":{\"size\":14},\"textposition\":\"top center\",\"x\":[0.020578109095122844,0.18475159144713182,-0.8822499378924425,0.05686359428518514,0.39304105901404063,0.5709957039182932,0.29199201364521343,0.15482034760470265,-0.04801210570107053,0.1251555070437326,0.05357649036053256,-1.0,0.04886966941890937,0.029617957760648836],\"y\":[0.39274291074043405,-0.21930247229450675,-0.677300888318458,0.5646340642174184,-0.2783624243995456,-0.3238279461389106,-0.15733585346886006,-0.05015467043457838,0.5548886977435314,-0.1693894706371898,0.1349665534032461,0.560405254496859,-0.08523698506369277,-0.24672676984574693],\"type\":\"scatter\"}],                        {\"hovermode\":\"closest\",\"showlegend\":false,\"xaxis\":{\"showgrid\":false,\"tickfont\":{\"family\":\"Arial, sans-serif\",\"size\":16},\"zeroline\":false},\"yaxis\":{\"showgrid\":false,\"tickfont\":{\"family\":\"Arial, sans-serif\",\"size\":16},\"zeroline\":false},\"template\":{\"data\":{\"histogram2dcontour\":[{\"type\":\"histogram2dcontour\",\"colorbar\":{\"outlinewidth\":0,\"ticks\":\"\"},\"colorscale\":[[0.0,\"#0d0887\"],[0.1111111111111111,\"#46039f\"],[0.2222222222222222,\"#7201a8\"],[0.3333333333333333,\"#9c179e\"],[0.4444444444444444,\"#bd3786\"],[0.5555555555555556,\"#d8576b\"],[0.6666666666666666,\"#ed7953\"],[0.7777777777777778,\"#fb9f3a\"],[0.8888888888888888,\"#fdca26\"],[1.0,\"#f0f921\"]]}],\"choropleth\":[{\"type\":\"choropleth\",\"colorbar\":{\"outlinewidth\":0,\"ticks\":\"\"}}],\"histogram2d\":[{\"type\":\"histogram2d\",\"colorbar\":{\"outlinewidth\":0,\"ticks\":\"\"},\"colorscale\":[[0.0,\"#0d0887\"],[0.1111111111111111,\"#46039f\"],[0.2222222222222222,\"#7201a8\"],[0.3333333333333333,\"#9c179e\"],[0.4444444444444444,\"#bd3786\"],[0.5555555555555556,\"#d8576b\"],[0.6666666666666666,\"#ed7953\"],[0.7777777777777778,\"#fb9f3a\"],[0.8888888888888888,\"#fdca26\"],[1.0,\"#f0f921\"]]}],\"heatmap\":[{\"type\":\"heatmap\",\"colorbar\":{\"outlinewidth\":0,\"ticks\":\"\"},\"colorscale\":[[0.0,\"#0d0887\"],[0.1111111111111111,\"#46039f\"],[0.2222222222222222,\"#7201a8\"],[0.3333333333333333,\"#9c179e\"],[0.4444444444444444,\"#bd3786\"],[0.5555555555555556,\"#d8576b\"],[0.6666666666666666,\"#ed7953\"],[0.7777777777777778,\"#fb9f3a\"],[0.8888888888888888,\"#fdca26\"],[1.0,\"#f0f921\"]]}],\"heatmapgl\":[{\"type\":\"heatmapgl\",\"colorbar\":{\"outlinewidth\":0,\"ticks\":\"\"},\"colorscale\":[[0.0,\"#0d0887\"],[0.1111111111111111,\"#46039f\"],[0.2222222222222222,\"#7201a8\"],[0.3333333333333333,\"#9c179e\"],[0.4444444444444444,\"#bd3786\"],[0.5555555555555556,\"#d8576b\"],[0.6666666666666666,\"#ed7953\"],[0.7777777777777778,\"#fb9f3a\"],[0.8888888888888888,\"#fdca26\"],[1.0,\"#f0f921\"]]}],\"contourcarpet\":[{\"type\":\"contourcarpet\",\"colorbar\":{\"outlinewidth\":0,\"ticks\":\"\"}}],\"contour\":[{\"type\":\"contour\",\"colorbar\":{\"outlinewidth\":0,\"ticks\":\"\"},\"colorscale\":[[0.0,\"#0d0887\"],[0.1111111111111111,\"#46039f\"],[0.2222222222222222,\"#7201a8\"],[0.3333333333333333,\"#9c179e\"],[0.4444444444444444,\"#bd3786\"],[0.5555555555555556,\"#d8576b\"],[0.6666666666666666,\"#ed7953\"],[0.7777777777777778,\"#fb9f3a\"],[0.8888888888888888,\"#fdca26\"],[1.0,\"#f0f921\"]]}],\"surface\":[{\"type\":\"surface\",\"colorbar\":{\"outlinewidth\":0,\"ticks\":\"\"},\"colorscale\":[[0.0,\"#0d0887\"],[0.1111111111111111,\"#46039f\"],[0.2222222222222222,\"#7201a8\"],[0.3333333333333333,\"#9c179e\"],[0.4444444444444444,\"#bd3786\"],[0.5555555555555556,\"#d8576b\"],[0.6666666666666666,\"#ed7953\"],[0.7777777777777778,\"#fb9f3a\"],[0.8888888888888888,\"#fdca26\"],[1.0,\"#f0f921\"]]}],\"mesh3d\":[{\"type\":\"mesh3d\",\"colorbar\":{\"outlinewidth\":0,\"ticks\":\"\"}}],\"scatter\":[{\"fillpattern\":{\"fillmode\":\"overlay\",\"size\":10,\"solidity\":0.2},\"type\":\"scatter\"}],\"parcoords\":[{\"type\":\"parcoords\",\"line\":{\"colorbar\":{\"outlinewidth\":0,\"ticks\":\"\"}}}],\"scatterpolargl\":[{\"type\":\"scatterpolargl\",\"marker\":{\"colorbar\":{\"outlinewidth\":0,\"ticks\":\"\"}}}],\"bar\":[{\"error_x\":{\"color\":\"#2a3f5f\"},\"error_y\":{\"color\":\"#2a3f5f\"},\"marker\":{\"line\":{\"color\":\"#E5ECF6\",\"width\":0.5},\"pattern\":{\"fillmode\":\"overlay\",\"size\":10,\"solidity\":0.2}},\"type\":\"bar\"}],\"scattergeo\":[{\"type\":\"scattergeo\",\"marker\":{\"colorbar\":{\"outlinewidth\":0,\"ticks\":\"\"}}}],\"scatterpolar\":[{\"type\":\"scatterpolar\",\"marker\":{\"colorbar\":{\"outlinewidth\":0,\"ticks\":\"\"}}}],\"histogram\":[{\"marker\":{\"pattern\":{\"fillmode\":\"overlay\",\"size\":10,\"solidity\":0.2}},\"type\":\"histogram\"}],\"scattergl\":[{\"type\":\"scattergl\",\"marker\":{\"colorbar\":{\"outlinewidth\":0,\"ticks\":\"\"}}}],\"scatter3d\":[{\"type\":\"scatter3d\",\"line\":{\"colorbar\":{\"outlinewidth\":0,\"ticks\":\"\"}},\"marker\":{\"colorbar\":{\"outlinewidth\":0,\"ticks\":\"\"}}}],\"scattermapbox\":[{\"type\":\"scattermapbox\",\"marker\":{\"colorbar\":{\"outlinewidth\":0,\"ticks\":\"\"}}}],\"scatterternary\":[{\"type\":\"scatterternary\",\"marker\":{\"colorbar\":{\"outlinewidth\":0,\"ticks\":\"\"}}}],\"scattercarpet\":[{\"type\":\"scattercarpet\",\"marker\":{\"colorbar\":{\"outlinewidth\":0,\"ticks\":\"\"}}}],\"carpet\":[{\"aaxis\":{\"endlinecolor\":\"#2a3f5f\",\"gridcolor\":\"white\",\"linecolor\":\"white\",\"minorgridcolor\":\"white\",\"startlinecolor\":\"#2a3f5f\"},\"baxis\":{\"endlinecolor\":\"#2a3f5f\",\"gridcolor\":\"white\",\"linecolor\":\"white\",\"minorgridcolor\":\"white\",\"startlinecolor\":\"#2a3f5f\"},\"type\":\"carpet\"}],\"table\":[{\"cells\":{\"fill\":{\"color\":\"#EBF0F8\"},\"line\":{\"color\":\"white\"}},\"header\":{\"fill\":{\"color\":\"#C8D4E3\"},\"line\":{\"color\":\"white\"}},\"type\":\"table\"}],\"barpolar\":[{\"marker\":{\"line\":{\"color\":\"#E5ECF6\",\"width\":0.5},\"pattern\":{\"fillmode\":\"overlay\",\"size\":10,\"solidity\":0.2}},\"type\":\"barpolar\"}],\"pie\":[{\"automargin\":true,\"type\":\"pie\"}]},\"layout\":{\"autotypenumbers\":\"strict\",\"colorway\":[\"#636efa\",\"#EF553B\",\"#00cc96\",\"#ab63fa\",\"#FFA15A\",\"#19d3f3\",\"#FF6692\",\"#B6E880\",\"#FF97FF\",\"#FECB52\"],\"font\":{\"color\":\"#2a3f5f\"},\"hovermode\":\"closest\",\"hoverlabel\":{\"align\":\"left\"},\"paper_bgcolor\":\"white\",\"plot_bgcolor\":\"#E5ECF6\",\"polar\":{\"bgcolor\":\"#E5ECF6\",\"angularaxis\":{\"gridcolor\":\"white\",\"linecolor\":\"white\",\"ticks\":\"\"},\"radialaxis\":{\"gridcolor\":\"white\",\"linecolor\":\"white\",\"ticks\":\"\"}},\"ternary\":{\"bgcolor\":\"#E5ECF6\",\"aaxis\":{\"gridcolor\":\"white\",\"linecolor\":\"white\",\"ticks\":\"\"},\"baxis\":{\"gridcolor\":\"white\",\"linecolor\":\"white\",\"ticks\":\"\"},\"caxis\":{\"gridcolor\":\"white\",\"linecolor\":\"white\",\"ticks\":\"\"}},\"coloraxis\":{\"colorbar\":{\"outlinewidth\":0,\"ticks\":\"\"}},\"colorscale\":{\"sequential\":[[0.0,\"#0d0887\"],[0.1111111111111111,\"#46039f\"],[0.2222222222222222,\"#7201a8\"],[0.3333333333333333,\"#9c179e\"],[0.4444444444444444,\"#bd3786\"],[0.5555555555555556,\"#d8576b\"],[0.6666666666666666,\"#ed7953\"],[0.7777777777777778,\"#fb9f3a\"],[0.8888888888888888,\"#fdca26\"],[1.0,\"#f0f921\"]],\"sequentialminus\":[[0.0,\"#0d0887\"],[0.1111111111111111,\"#46039f\"],[0.2222222222222222,\"#7201a8\"],[0.3333333333333333,\"#9c179e\"],[0.4444444444444444,\"#bd3786\"],[0.5555555555555556,\"#d8576b\"],[0.6666666666666666,\"#ed7953\"],[0.7777777777777778,\"#fb9f3a\"],[0.8888888888888888,\"#fdca26\"],[1.0,\"#f0f921\"]],\"diverging\":[[0,\"#8e0152\"],[0.1,\"#c51b7d\"],[0.2,\"#de77ae\"],[0.3,\"#f1b6da\"],[0.4,\"#fde0ef\"],[0.5,\"#f7f7f7\"],[0.6,\"#e6f5d0\"],[0.7,\"#b8e186\"],[0.8,\"#7fbc41\"],[0.9,\"#4d9221\"],[1,\"#276419\"]]},\"xaxis\":{\"gridcolor\":\"white\",\"linecolor\":\"white\",\"ticks\":\"\",\"title\":{\"standoff\":15},\"zerolinecolor\":\"white\",\"automargin\":true,\"zerolinewidth\":2},\"yaxis\":{\"gridcolor\":\"white\",\"linecolor\":\"white\",\"ticks\":\"\",\"title\":{\"standoff\":15},\"zerolinecolor\":\"white\",\"automargin\":true,\"zerolinewidth\":2},\"scene\":{\"xaxis\":{\"backgroundcolor\":\"#E5ECF6\",\"gridcolor\":\"white\",\"linecolor\":\"white\",\"showbackground\":true,\"ticks\":\"\",\"zerolinecolor\":\"white\",\"gridwidth\":2},\"yaxis\":{\"backgroundcolor\":\"#E5ECF6\",\"gridcolor\":\"white\",\"linecolor\":\"white\",\"showbackground\":true,\"ticks\":\"\",\"zerolinecolor\":\"white\",\"gridwidth\":2},\"zaxis\":{\"backgroundcolor\":\"#E5ECF6\",\"gridcolor\":\"white\",\"linecolor\":\"white\",\"showbackground\":true,\"ticks\":\"\",\"zerolinecolor\":\"white\",\"gridwidth\":2}},\"shapedefaults\":{\"line\":{\"color\":\"#2a3f5f\"}},\"annotationdefaults\":{\"arrowcolor\":\"#2a3f5f\",\"arrowhead\":0,\"arrowwidth\":1},\"geo\":{\"bgcolor\":\"white\",\"landcolor\":\"#E5ECF6\",\"subunitcolor\":\"white\",\"showland\":true,\"showlakes\":true,\"lakecolor\":\"white\"},\"title\":{\"x\":0.05},\"mapbox\":{\"style\":\"light\"}}},\"width\":600,\"height\":600},                        {\"responsive\": true}                    ).then(function(){\n",
       "                            \n",
       "var gd = document.getElementById('efdf9bde-be78-4bb3-9977-aef907f23746');\n",
       "var x = new MutationObserver(function (mutations, observer) {{\n",
       "        var display = window.getComputedStyle(gd).display;\n",
       "        if (!display || display === 'none') {{\n",
       "            console.log([gd, 'removed!']);\n",
       "            Plotly.purge(gd);\n",
       "            observer.disconnect();\n",
       "        }}\n",
       "}});\n",
       "\n",
       "// Listen for the removal of the full notebook cells\n",
       "var notebookContainer = gd.closest('#notebook-container');\n",
       "if (notebookContainer) {{\n",
       "    x.observe(notebookContainer, {childList: true});\n",
       "}}\n",
       "\n",
       "// Listen for the clearing of the current output cell\n",
       "var outputEl = gd.closest('.output');\n",
       "if (outputEl) {{\n",
       "    x.observe(outputEl, {childList: true});\n",
       "}}\n",
       "\n",
       "                        })                };                });            </script>        </div>"
      ]
     },
     "metadata": {},
     "output_type": "display_data"
    }
   ],
   "source": [
    "save_path =\"simplicial_complex.svg\"\n",
    "G, triangles = visualize_simplicial_complex(st_E_3, 0.1130,save_filename=save_path)"
   ]
  },
  {
   "cell_type": "markdown",
   "id": "6c786829",
   "metadata": {},
   "source": [
    "### Klebsiella\n"
   ]
  },
  {
   "cell_type": "code",
   "execution_count": null,
   "id": "f991f6f2",
   "metadata": {},
   "outputs": [],
   "source": [
    "# Uso de la función\n",
    "# Por ejemplo, con el conjunto de datos 'Escherichia'\n",
    "Klebsiella_data = Klebsiella_3.iloc[:,6:].values\n",
    "st_K_3, st_K_3_h1 =plot_persistence(Klebsiella_data)"
   ]
  },
  {
   "cell_type": "code",
   "execution_count": null,
   "id": "191773b4",
   "metadata": {},
   "outputs": [],
   "source": [
    "# Genera datos ficticios de intervalos (reemplaza con tus datos reales)\n",
    "klebsiella_intervals = st_K_3_h1  # Ejemplo\n",
    "#escherichia_intervals = st_E_3_h1  # Ejemplo\n",
    "\n",
    "# Llama a la función con los intervalos específicos\n",
    "save_path = \"Hospitales_klebsiella.png\"\n",
    "plot_intervals_kle(klebsiella_intervals, save_path)"
   ]
  },
  {
   "cell_type": "code",
   "execution_count": null,
   "id": "d7d02d77",
   "metadata": {},
   "outputs": [],
   "source": [
    "# save_path =\"simplicial_complex.svg\"\n",
    "# G = visualize_simplicial_complex(st_K_3, 0.04)"
   ]
  },
  {
   "cell_type": "markdown",
   "id": "72c0c80c",
   "metadata": {},
   "source": [
    "### Enterobacter no encontramos\n",
    "\n"
   ]
  },
  {
   "cell_type": "code",
   "execution_count": null,
   "id": "997e2921",
   "metadata": {},
   "outputs": [],
   "source": [
    "Enterobacter_data = Enterobacter_3.iloc[:,6:].values\n",
    "st_En_3, st_En_3_h1 =plot_persistence(Enterobacter_data)"
   ]
  },
  {
   "cell_type": "markdown",
   "id": "8d4fba96",
   "metadata": {},
   "source": [
    "### Todos juntos"
   ]
  },
  {
   "cell_type": "code",
   "execution_count": null,
   "id": "59196bb6",
   "metadata": {},
   "outputs": [],
   "source": [
    "\n",
    "All_data = df3.iloc[:,6:].values\n",
    "st_All_3, st_All_3_h1 =plot_persistence(All_data)\n",
    "# Genera datos ficticios de intervalos (reemplaza con tus datos reales)\n",
    "All_intervals = st_All_3_h1  # Ejemplo\n",
    "#escherichia_intervals = st_E_3_h1  # Ejemplo\n",
    "\n",
    "# Llama a la función con los intervalos específicos\n",
    "# save_path = \"Hospitales_All.svg\"\n",
    "# plot_intervals_kle(All_intervals, save_path)"
   ]
  },
  {
   "cell_type": "code",
   "execution_count": null,
   "id": "3121cc3f",
   "metadata": {},
   "outputs": [],
   "source": [
    "#save_path =\"simplicial_complex_all.svg\"\n",
    "# G = visualize_simplicial_complex(st_All_3, 0.12)"
   ]
  },
  {
   "cell_type": "code",
   "execution_count": null,
   "id": "6008b785",
   "metadata": {},
   "outputs": [],
   "source": [
    "# Genera datos ficticios de intervalos (reemplaza con tus datos reales)\n",
    "klebsiella_intervals = st_K_3_h1  # Ejemplo\n",
    "escherichia_intervals = st_E_3_h1  # Ejemplo\n",
    "\n",
    "# Llama a la función con los intervalos específicos\n",
    "save_path = \"Hospitales.svg\"\n",
    "plot_intervals_2(klebsiella_intervals, escherichia_intervals, save_path)"
   ]
  }
 ],
 "metadata": {
  "kernelspec": {
   "display_name": "TDA",
   "language": "python",
   "name": "tda"
  },
  "language_info": {
   "codemirror_mode": {
    "name": "ipython",
    "version": 3
   },
   "file_extension": ".py",
   "mimetype": "text/x-python",
   "name": "python",
   "nbconvert_exporter": "python",
   "pygments_lexer": "ipython3",
   "version": "3.7.12"
  }
 },
 "nbformat": 4,
 "nbformat_minor": 5
}
